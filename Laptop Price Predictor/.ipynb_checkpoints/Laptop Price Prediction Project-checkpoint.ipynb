{
 "cells": [
  {
   "cell_type": "markdown",
   "id": "94d32b80",
   "metadata": {},
   "source": [
    "## Import the packages"
   ]
  },
  {
   "cell_type": "code",
   "execution_count": 1,
   "id": "bb3d5277",
   "metadata": {
    "executionInfo": {
     "elapsed": 702,
     "status": "ok",
     "timestamp": 1671692112957,
     "user": {
      "displayName": "Himanshu Arora",
      "userId": "03026800847751892488"
     },
     "user_tz": -330
    },
    "id": "bb3d5277"
   },
   "outputs": [],
   "source": [
    "import pandas as pd\n",
    "import numpy as np\n",
    "import matplotlib.pyplot as plt\n",
    "import seaborn as sns"
   ]
  },
  {
   "cell_type": "code",
   "execution_count": 2,
   "id": "fda8ef41",
   "metadata": {
    "colab": {
     "base_uri": "https://localhost:8080/",
     "height": 711
    },
    "executionInfo": {
     "elapsed": 47,
     "status": "ok",
     "timestamp": 1671692113595,
     "user": {
      "displayName": "Himanshu Arora",
      "userId": "03026800847751892488"
     },
     "user_tz": -330
    },
    "id": "fda8ef41",
    "outputId": "76582ce4-f158-4207-8879-9d16aa51952d"
   },
   "outputs": [
    {
     "data": {
      "text/html": [
       "<div>\n",
       "<style scoped>\n",
       "    .dataframe tbody tr th:only-of-type {\n",
       "        vertical-align: middle;\n",
       "    }\n",
       "\n",
       "    .dataframe tbody tr th {\n",
       "        vertical-align: top;\n",
       "    }\n",
       "\n",
       "    .dataframe thead th {\n",
       "        text-align: right;\n",
       "    }\n",
       "</style>\n",
       "<table border=\"1\" class=\"dataframe\">\n",
       "  <thead>\n",
       "    <tr style=\"text-align: right;\">\n",
       "      <th></th>\n",
       "      <th>Unnamed: 0</th>\n",
       "      <th>Company</th>\n",
       "      <th>TypeName</th>\n",
       "      <th>Inches</th>\n",
       "      <th>ScreenResolution</th>\n",
       "      <th>Cpu</th>\n",
       "      <th>Ram</th>\n",
       "      <th>Memory</th>\n",
       "      <th>Gpu</th>\n",
       "      <th>OpSys</th>\n",
       "      <th>Weight</th>\n",
       "      <th>Price</th>\n",
       "    </tr>\n",
       "  </thead>\n",
       "  <tbody>\n",
       "    <tr>\n",
       "      <th>0</th>\n",
       "      <td>0</td>\n",
       "      <td>Apple</td>\n",
       "      <td>Ultrabook</td>\n",
       "      <td>13.3</td>\n",
       "      <td>IPS Panel Retina Display 2560x1600</td>\n",
       "      <td>Intel Core i5 2.3GHz</td>\n",
       "      <td>8GB</td>\n",
       "      <td>128GB SSD</td>\n",
       "      <td>Intel Iris Plus Graphics 640</td>\n",
       "      <td>macOS</td>\n",
       "      <td>1.37kg</td>\n",
       "      <td>71378.6832</td>\n",
       "    </tr>\n",
       "    <tr>\n",
       "      <th>1</th>\n",
       "      <td>1</td>\n",
       "      <td>Apple</td>\n",
       "      <td>Ultrabook</td>\n",
       "      <td>13.3</td>\n",
       "      <td>1440x900</td>\n",
       "      <td>Intel Core i5 1.8GHz</td>\n",
       "      <td>8GB</td>\n",
       "      <td>128GB Flash Storage</td>\n",
       "      <td>Intel HD Graphics 6000</td>\n",
       "      <td>macOS</td>\n",
       "      <td>1.34kg</td>\n",
       "      <td>47895.5232</td>\n",
       "    </tr>\n",
       "    <tr>\n",
       "      <th>2</th>\n",
       "      <td>2</td>\n",
       "      <td>HP</td>\n",
       "      <td>Notebook</td>\n",
       "      <td>15.6</td>\n",
       "      <td>Full HD 1920x1080</td>\n",
       "      <td>Intel Core i5 7200U 2.5GHz</td>\n",
       "      <td>8GB</td>\n",
       "      <td>256GB SSD</td>\n",
       "      <td>Intel HD Graphics 620</td>\n",
       "      <td>No OS</td>\n",
       "      <td>1.86kg</td>\n",
       "      <td>30636.0000</td>\n",
       "    </tr>\n",
       "    <tr>\n",
       "      <th>3</th>\n",
       "      <td>3</td>\n",
       "      <td>Apple</td>\n",
       "      <td>Ultrabook</td>\n",
       "      <td>15.4</td>\n",
       "      <td>IPS Panel Retina Display 2880x1800</td>\n",
       "      <td>Intel Core i7 2.7GHz</td>\n",
       "      <td>16GB</td>\n",
       "      <td>512GB SSD</td>\n",
       "      <td>AMD Radeon Pro 455</td>\n",
       "      <td>macOS</td>\n",
       "      <td>1.83kg</td>\n",
       "      <td>135195.3360</td>\n",
       "    </tr>\n",
       "    <tr>\n",
       "      <th>4</th>\n",
       "      <td>4</td>\n",
       "      <td>Apple</td>\n",
       "      <td>Ultrabook</td>\n",
       "      <td>13.3</td>\n",
       "      <td>IPS Panel Retina Display 2560x1600</td>\n",
       "      <td>Intel Core i5 3.1GHz</td>\n",
       "      <td>8GB</td>\n",
       "      <td>256GB SSD</td>\n",
       "      <td>Intel Iris Plus Graphics 650</td>\n",
       "      <td>macOS</td>\n",
       "      <td>1.37kg</td>\n",
       "      <td>96095.8080</td>\n",
       "    </tr>\n",
       "    <tr>\n",
       "      <th>...</th>\n",
       "      <td>...</td>\n",
       "      <td>...</td>\n",
       "      <td>...</td>\n",
       "      <td>...</td>\n",
       "      <td>...</td>\n",
       "      <td>...</td>\n",
       "      <td>...</td>\n",
       "      <td>...</td>\n",
       "      <td>...</td>\n",
       "      <td>...</td>\n",
       "      <td>...</td>\n",
       "      <td>...</td>\n",
       "    </tr>\n",
       "    <tr>\n",
       "      <th>1298</th>\n",
       "      <td>1298</td>\n",
       "      <td>Lenovo</td>\n",
       "      <td>2 in 1 Convertible</td>\n",
       "      <td>14.0</td>\n",
       "      <td>IPS Panel Full HD / Touchscreen 1920x1080</td>\n",
       "      <td>Intel Core i7 6500U 2.5GHz</td>\n",
       "      <td>4GB</td>\n",
       "      <td>128GB SSD</td>\n",
       "      <td>Intel HD Graphics 520</td>\n",
       "      <td>Windows 10</td>\n",
       "      <td>1.8kg</td>\n",
       "      <td>33992.6400</td>\n",
       "    </tr>\n",
       "    <tr>\n",
       "      <th>1299</th>\n",
       "      <td>1299</td>\n",
       "      <td>Lenovo</td>\n",
       "      <td>2 in 1 Convertible</td>\n",
       "      <td>13.3</td>\n",
       "      <td>IPS Panel Quad HD+ / Touchscreen 3200x1800</td>\n",
       "      <td>Intel Core i7 6500U 2.5GHz</td>\n",
       "      <td>16GB</td>\n",
       "      <td>512GB SSD</td>\n",
       "      <td>Intel HD Graphics 520</td>\n",
       "      <td>Windows 10</td>\n",
       "      <td>1.3kg</td>\n",
       "      <td>79866.7200</td>\n",
       "    </tr>\n",
       "    <tr>\n",
       "      <th>1300</th>\n",
       "      <td>1300</td>\n",
       "      <td>Lenovo</td>\n",
       "      <td>Notebook</td>\n",
       "      <td>14.0</td>\n",
       "      <td>1366x768</td>\n",
       "      <td>Intel Celeron Dual Core N3050 1.6GHz</td>\n",
       "      <td>2GB</td>\n",
       "      <td>64GB Flash Storage</td>\n",
       "      <td>Intel HD Graphics</td>\n",
       "      <td>Windows 10</td>\n",
       "      <td>1.5kg</td>\n",
       "      <td>12201.1200</td>\n",
       "    </tr>\n",
       "    <tr>\n",
       "      <th>1301</th>\n",
       "      <td>1301</td>\n",
       "      <td>HP</td>\n",
       "      <td>Notebook</td>\n",
       "      <td>15.6</td>\n",
       "      <td>1366x768</td>\n",
       "      <td>Intel Core i7 6500U 2.5GHz</td>\n",
       "      <td>6GB</td>\n",
       "      <td>1TB HDD</td>\n",
       "      <td>AMD Radeon R5 M330</td>\n",
       "      <td>Windows 10</td>\n",
       "      <td>2.19kg</td>\n",
       "      <td>40705.9200</td>\n",
       "    </tr>\n",
       "    <tr>\n",
       "      <th>1302</th>\n",
       "      <td>1302</td>\n",
       "      <td>Asus</td>\n",
       "      <td>Notebook</td>\n",
       "      <td>15.6</td>\n",
       "      <td>1366x768</td>\n",
       "      <td>Intel Celeron Dual Core N3050 1.6GHz</td>\n",
       "      <td>4GB</td>\n",
       "      <td>500GB HDD</td>\n",
       "      <td>Intel HD Graphics</td>\n",
       "      <td>Windows 10</td>\n",
       "      <td>2.2kg</td>\n",
       "      <td>19660.3200</td>\n",
       "    </tr>\n",
       "  </tbody>\n",
       "</table>\n",
       "<p>1303 rows × 12 columns</p>\n",
       "</div>"
      ],
      "text/plain": [
       "      Unnamed: 0 Company            TypeName  Inches  \\\n",
       "0              0   Apple           Ultrabook    13.3   \n",
       "1              1   Apple           Ultrabook    13.3   \n",
       "2              2      HP            Notebook    15.6   \n",
       "3              3   Apple           Ultrabook    15.4   \n",
       "4              4   Apple           Ultrabook    13.3   \n",
       "...          ...     ...                 ...     ...   \n",
       "1298        1298  Lenovo  2 in 1 Convertible    14.0   \n",
       "1299        1299  Lenovo  2 in 1 Convertible    13.3   \n",
       "1300        1300  Lenovo            Notebook    14.0   \n",
       "1301        1301      HP            Notebook    15.6   \n",
       "1302        1302    Asus            Notebook    15.6   \n",
       "\n",
       "                                ScreenResolution  \\\n",
       "0             IPS Panel Retina Display 2560x1600   \n",
       "1                                       1440x900   \n",
       "2                              Full HD 1920x1080   \n",
       "3             IPS Panel Retina Display 2880x1800   \n",
       "4             IPS Panel Retina Display 2560x1600   \n",
       "...                                          ...   \n",
       "1298   IPS Panel Full HD / Touchscreen 1920x1080   \n",
       "1299  IPS Panel Quad HD+ / Touchscreen 3200x1800   \n",
       "1300                                    1366x768   \n",
       "1301                                    1366x768   \n",
       "1302                                    1366x768   \n",
       "\n",
       "                                       Cpu   Ram               Memory  \\\n",
       "0                     Intel Core i5 2.3GHz   8GB            128GB SSD   \n",
       "1                     Intel Core i5 1.8GHz   8GB  128GB Flash Storage   \n",
       "2               Intel Core i5 7200U 2.5GHz   8GB            256GB SSD   \n",
       "3                     Intel Core i7 2.7GHz  16GB            512GB SSD   \n",
       "4                     Intel Core i5 3.1GHz   8GB            256GB SSD   \n",
       "...                                    ...   ...                  ...   \n",
       "1298            Intel Core i7 6500U 2.5GHz   4GB            128GB SSD   \n",
       "1299            Intel Core i7 6500U 2.5GHz  16GB            512GB SSD   \n",
       "1300  Intel Celeron Dual Core N3050 1.6GHz   2GB   64GB Flash Storage   \n",
       "1301            Intel Core i7 6500U 2.5GHz   6GB              1TB HDD   \n",
       "1302  Intel Celeron Dual Core N3050 1.6GHz   4GB            500GB HDD   \n",
       "\n",
       "                               Gpu       OpSys  Weight        Price  \n",
       "0     Intel Iris Plus Graphics 640       macOS  1.37kg   71378.6832  \n",
       "1           Intel HD Graphics 6000       macOS  1.34kg   47895.5232  \n",
       "2            Intel HD Graphics 620       No OS  1.86kg   30636.0000  \n",
       "3               AMD Radeon Pro 455       macOS  1.83kg  135195.3360  \n",
       "4     Intel Iris Plus Graphics 650       macOS  1.37kg   96095.8080  \n",
       "...                            ...         ...     ...          ...  \n",
       "1298         Intel HD Graphics 520  Windows 10   1.8kg   33992.6400  \n",
       "1299         Intel HD Graphics 520  Windows 10   1.3kg   79866.7200  \n",
       "1300             Intel HD Graphics  Windows 10   1.5kg   12201.1200  \n",
       "1301            AMD Radeon R5 M330  Windows 10  2.19kg   40705.9200  \n",
       "1302             Intel HD Graphics  Windows 10   2.2kg   19660.3200  \n",
       "\n",
       "[1303 rows x 12 columns]"
      ]
     },
     "execution_count": 2,
     "metadata": {},
     "output_type": "execute_result"
    }
   ],
   "source": [
    "# import the data\n",
    "\n",
    "df = pd.read_csv('laptop_data.csv')\n",
    "\n",
    "df"
   ]
  },
  {
   "cell_type": "code",
   "execution_count": 3,
   "id": "00dfbd37",
   "metadata": {
    "colab": {
     "base_uri": "https://localhost:8080/"
    },
    "executionInfo": {
     "elapsed": 1110,
     "status": "ok",
     "timestamp": 1671692114677,
     "user": {
      "displayName": "Himanshu Arora",
      "userId": "03026800847751892488"
     },
     "user_tz": -330
    },
    "id": "00dfbd37",
    "outputId": "29da2090-db53-4f72-cdfb-45060201a66a"
   },
   "outputs": [
    {
     "name": "stdout",
     "output_type": "stream",
     "text": [
      "<class 'pandas.core.frame.DataFrame'>\n",
      "RangeIndex: 1303 entries, 0 to 1302\n",
      "Data columns (total 12 columns):\n",
      " #   Column            Non-Null Count  Dtype  \n",
      "---  ------            --------------  -----  \n",
      " 0   Unnamed: 0        1303 non-null   int64  \n",
      " 1   Company           1303 non-null   object \n",
      " 2   TypeName          1303 non-null   object \n",
      " 3   Inches            1303 non-null   float64\n",
      " 4   ScreenResolution  1303 non-null   object \n",
      " 5   Cpu               1303 non-null   object \n",
      " 6   Ram               1303 non-null   object \n",
      " 7   Memory            1303 non-null   object \n",
      " 8   Gpu               1303 non-null   object \n",
      " 9   OpSys             1303 non-null   object \n",
      " 10  Weight            1303 non-null   object \n",
      " 11  Price             1303 non-null   float64\n",
      "dtypes: float64(2), int64(1), object(9)\n",
      "memory usage: 122.3+ KB\n"
     ]
    }
   ],
   "source": [
    "# check the info of the df\n",
    "\n",
    "df.info()"
   ]
  },
  {
   "cell_type": "markdown",
   "id": "61530ee5",
   "metadata": {},
   "source": [
    "1. There are no null values in the data.\n",
    "2. Only two nmerical columns in the data 'Inches' and 'Price'.\n",
    "3. The weight column should be a numerical column.\n",
    "4. The Ram column should also be a numerical column.\n",
    "5. 'Comapany', 'TypeName','OPSys' are categorical columns.\n",
    "6. Rest of the columns contain string data."
   ]
  },
  {
   "cell_type": "code",
   "execution_count": 4,
   "id": "6b1c4867",
   "metadata": {
    "executionInfo": {
     "elapsed": 329,
     "status": "ok",
     "timestamp": 1671692114680,
     "user": {
      "displayName": "Himanshu Arora",
      "userId": "03026800847751892488"
     },
     "user_tz": -330
    },
    "id": "6b1c4867"
   },
   "outputs": [],
   "source": [
    "# Delete the redundant index column\n",
    "\n",
    "df.drop(columns=['Unnamed: 0'],inplace=True)"
   ]
  },
  {
   "cell_type": "code",
   "execution_count": 5,
   "id": "e1f2abbd",
   "metadata": {
    "colab": {
     "base_uri": "https://localhost:8080/",
     "height": 300
    },
    "executionInfo": {
     "elapsed": 333,
     "status": "ok",
     "timestamp": 1671692114689,
     "user": {
      "displayName": "Himanshu Arora",
      "userId": "03026800847751892488"
     },
     "user_tz": -330
    },
    "id": "e1f2abbd",
    "outputId": "54d045e7-2f03-445b-e90a-d4620a7c9dd7"
   },
   "outputs": [
    {
     "data": {
      "text/html": [
       "<div>\n",
       "<style scoped>\n",
       "    .dataframe tbody tr th:only-of-type {\n",
       "        vertical-align: middle;\n",
       "    }\n",
       "\n",
       "    .dataframe tbody tr th {\n",
       "        vertical-align: top;\n",
       "    }\n",
       "\n",
       "    .dataframe thead th {\n",
       "        text-align: right;\n",
       "    }\n",
       "</style>\n",
       "<table border=\"1\" class=\"dataframe\">\n",
       "  <thead>\n",
       "    <tr style=\"text-align: right;\">\n",
       "      <th></th>\n",
       "      <th>Inches</th>\n",
       "      <th>Price</th>\n",
       "    </tr>\n",
       "  </thead>\n",
       "  <tbody>\n",
       "    <tr>\n",
       "      <th>count</th>\n",
       "      <td>1303.000000</td>\n",
       "      <td>1303.000000</td>\n",
       "    </tr>\n",
       "    <tr>\n",
       "      <th>mean</th>\n",
       "      <td>15.017191</td>\n",
       "      <td>59870.042910</td>\n",
       "    </tr>\n",
       "    <tr>\n",
       "      <th>std</th>\n",
       "      <td>1.426304</td>\n",
       "      <td>37243.201786</td>\n",
       "    </tr>\n",
       "    <tr>\n",
       "      <th>min</th>\n",
       "      <td>10.100000</td>\n",
       "      <td>9270.720000</td>\n",
       "    </tr>\n",
       "    <tr>\n",
       "      <th>25%</th>\n",
       "      <td>14.000000</td>\n",
       "      <td>31914.720000</td>\n",
       "    </tr>\n",
       "    <tr>\n",
       "      <th>50%</th>\n",
       "      <td>15.600000</td>\n",
       "      <td>52054.560000</td>\n",
       "    </tr>\n",
       "    <tr>\n",
       "      <th>75%</th>\n",
       "      <td>15.600000</td>\n",
       "      <td>79274.246400</td>\n",
       "    </tr>\n",
       "    <tr>\n",
       "      <th>max</th>\n",
       "      <td>18.400000</td>\n",
       "      <td>324954.720000</td>\n",
       "    </tr>\n",
       "  </tbody>\n",
       "</table>\n",
       "</div>"
      ],
      "text/plain": [
       "            Inches          Price\n",
       "count  1303.000000    1303.000000\n",
       "mean     15.017191   59870.042910\n",
       "std       1.426304   37243.201786\n",
       "min      10.100000    9270.720000\n",
       "25%      14.000000   31914.720000\n",
       "50%      15.600000   52054.560000\n",
       "75%      15.600000   79274.246400\n",
       "max      18.400000  324954.720000"
      ]
     },
     "execution_count": 5,
     "metadata": {},
     "output_type": "execute_result"
    }
   ],
   "source": [
    "# check the details of the numerical columns\n",
    "\n",
    "df.describe()"
   ]
  },
  {
   "cell_type": "markdown",
   "id": "8647ef97",
   "metadata": {
    "id": "8647ef97"
   },
   "source": [
    "1. The laptop size ranges from 10 inches to 18.5 inches. \n",
    "2. Most of the laptops are in the range of 15.6 inches\n",
    "3. The average price range of laptops is around 60,000."
   ]
  },
  {
   "cell_type": "code",
   "execution_count": 6,
   "id": "740239a6",
   "metadata": {
    "colab": {
     "base_uri": "https://localhost:8080/"
    },
    "executionInfo": {
     "elapsed": 327,
     "status": "ok",
     "timestamp": 1671692114691,
     "user": {
      "displayName": "Himanshu Arora",
      "userId": "03026800847751892488"
     },
     "user_tz": -330
    },
    "id": "740239a6",
    "outputId": "068340e3-91ab-45af-a5d3-6e137b081c5b"
   },
   "outputs": [
    {
     "data": {
      "text/plain": [
       "Index(['Company', 'TypeName', 'Inches', 'ScreenResolution', 'Cpu', 'Ram',\n",
       "       'Memory', 'Gpu', 'OpSys', 'Weight', 'Price'],\n",
       "      dtype='object')"
      ]
     },
     "execution_count": 6,
     "metadata": {},
     "output_type": "execute_result"
    }
   ],
   "source": [
    "# columns in the data frame\n",
    "\n",
    "df.columns"
   ]
  },
  {
   "cell_type": "code",
   "execution_count": 7,
   "id": "856af91d",
   "metadata": {
    "colab": {
     "base_uri": "https://localhost:8080/"
    },
    "executionInfo": {
     "elapsed": 302,
     "status": "ok",
     "timestamp": 1671692114695,
     "user": {
      "displayName": "Himanshu Arora",
      "userId": "03026800847751892488"
     },
     "user_tz": -330
    },
    "id": "856af91d",
    "outputId": "fe785f54-6343-44f1-f000-2fc2f447b978"
   },
   "outputs": [
    {
     "data": {
      "text/plain": [
       "(1303, 11)"
      ]
     },
     "execution_count": 7,
     "metadata": {},
     "output_type": "execute_result"
    }
   ],
   "source": [
    "# shape of the data frame\n",
    "\n",
    "df.shape"
   ]
  },
  {
   "cell_type": "code",
   "execution_count": 8,
   "id": "1895dc2a",
   "metadata": {
    "colab": {
     "base_uri": "https://localhost:8080/"
    },
    "executionInfo": {
     "elapsed": 283,
     "status": "ok",
     "timestamp": 1671692114698,
     "user": {
      "displayName": "Himanshu Arora",
      "userId": "03026800847751892488"
     },
     "user_tz": -330
    },
    "id": "1895dc2a",
    "outputId": "1a52ef3f-7629-401f-ce35-f49f1d3c97b4"
   },
   "outputs": [
    {
     "data": {
      "text/plain": [
       "Company             0\n",
       "TypeName            0\n",
       "Inches              0\n",
       "ScreenResolution    0\n",
       "Cpu                 0\n",
       "Ram                 0\n",
       "Memory              0\n",
       "Gpu                 0\n",
       "OpSys               0\n",
       "Weight              0\n",
       "Price               0\n",
       "dtype: int64"
      ]
     },
     "execution_count": 8,
     "metadata": {},
     "output_type": "execute_result"
    }
   ],
   "source": [
    "# check for missing values \n",
    "df.isna().sum()"
   ]
  },
  {
   "cell_type": "markdown",
   "id": "71e1d0b3",
   "metadata": {
    "id": "71e1d0b3"
   },
   "source": [
    "**There are no missing values in the data**"
   ]
  },
  {
   "cell_type": "markdown",
   "id": "759a4155",
   "metadata": {},
   "source": [
    "### Company Column"
   ]
  },
  {
   "cell_type": "code",
   "execution_count": 9,
   "id": "b5dbaf6d",
   "metadata": {
    "colab": {
     "base_uri": "https://localhost:8080/"
    },
    "executionInfo": {
     "elapsed": 273,
     "status": "ok",
     "timestamp": 1671692114703,
     "user": {
      "displayName": "Himanshu Arora",
      "userId": "03026800847751892488"
     },
     "user_tz": -330
    },
    "id": "b5dbaf6d",
    "outputId": "c9ec1c49-faaf-4bd9-c6c7-5d1b0100a4e9"
   },
   "outputs": [
    {
     "name": "stdout",
     "output_type": "stream",
     "text": [
      "The number of laptop producers are: 19\n",
      "The name of producers of laptop are ['Apple' 'HP' 'Acer' 'Asus' 'Dell' 'Lenovo' 'Chuwi' 'MSI' 'Microsoft'\n",
      " 'Toshiba' 'Huawei' 'Xiaomi' 'Vero' 'Razer' 'Mediacom' 'Samsung' 'Google'\n",
      " 'Fujitsu' 'LG']\n",
      "****************************************************************************************************\n"
     ]
    },
    {
     "data": {
      "text/plain": [
       "Dell         297\n",
       "Lenovo       297\n",
       "HP           274\n",
       "Asus         158\n",
       "Acer         103\n",
       "MSI           54\n",
       "Toshiba       48\n",
       "Apple         21\n",
       "Samsung        9\n",
       "Razer          7\n",
       "Mediacom       7\n",
       "Microsoft      6\n",
       "Xiaomi         4\n",
       "Vero           4\n",
       "Chuwi          3\n",
       "Google         3\n",
       "Fujitsu        3\n",
       "LG             3\n",
       "Huawei         2\n",
       "Name: Company, dtype: int64"
      ]
     },
     "execution_count": 9,
     "metadata": {},
     "output_type": "execute_result"
    }
   ],
   "source": [
    "# different companies of laptop available\n",
    "\n",
    "print('The number of laptop producers are:', df[\"Company\"].nunique())\n",
    "\n",
    "print('The name of producers of laptop are', df['Company'].unique())\n",
    "\n",
    "print('*' * 100)\n",
    "\n",
    "df['Company'].value_counts()"
   ]
  },
  {
   "cell_type": "markdown",
   "id": "fce4b9c6",
   "metadata": {},
   "source": [
    "### Brand name price comparison"
   ]
  },
  {
   "cell_type": "code",
   "execution_count": 10,
   "id": "9ccb12f3",
   "metadata": {
    "colab": {
     "base_uri": "https://localhost:8080/",
     "height": 677
    },
    "executionInfo": {
     "elapsed": 63,
     "status": "ok",
     "timestamp": 1671692643229,
     "user": {
      "displayName": "Himanshu Arora",
      "userId": "03026800847751892488"
     },
     "user_tz": -330
    },
    "id": "9ccb12f3",
    "outputId": "9db64325-c9a2-451b-cd10-5a158396c91c"
   },
   "outputs": [
    {
     "data": {
      "text/html": [
       "<div>\n",
       "<style scoped>\n",
       "    .dataframe tbody tr th:only-of-type {\n",
       "        vertical-align: middle;\n",
       "    }\n",
       "\n",
       "    .dataframe tbody tr th {\n",
       "        vertical-align: top;\n",
       "    }\n",
       "\n",
       "    .dataframe thead th {\n",
       "        text-align: right;\n",
       "    }\n",
       "</style>\n",
       "<table border=\"1\" class=\"dataframe\">\n",
       "  <thead>\n",
       "    <tr style=\"text-align: right;\">\n",
       "      <th></th>\n",
       "      <th>mean</th>\n",
       "      <th>median</th>\n",
       "      <th>count</th>\n",
       "    </tr>\n",
       "    <tr>\n",
       "      <th>Company</th>\n",
       "      <th></th>\n",
       "      <th></th>\n",
       "      <th></th>\n",
       "    </tr>\n",
       "  </thead>\n",
       "  <tbody>\n",
       "    <tr>\n",
       "      <th>Razer</th>\n",
       "      <td>178282.49</td>\n",
       "      <td>154458.72</td>\n",
       "      <td>7</td>\n",
       "    </tr>\n",
       "    <tr>\n",
       "      <th>LG</th>\n",
       "      <td>111834.72</td>\n",
       "      <td>111834.72</td>\n",
       "      <td>3</td>\n",
       "    </tr>\n",
       "    <tr>\n",
       "      <th>MSI</th>\n",
       "      <td>92116.23</td>\n",
       "      <td>85194.72</td>\n",
       "      <td>54</td>\n",
       "    </tr>\n",
       "    <tr>\n",
       "      <th>Google</th>\n",
       "      <td>89386.08</td>\n",
       "      <td>83063.52</td>\n",
       "      <td>3</td>\n",
       "    </tr>\n",
       "    <tr>\n",
       "      <th>Microsoft</th>\n",
       "      <td>85903.79</td>\n",
       "      <td>83622.96</td>\n",
       "      <td>6</td>\n",
       "    </tr>\n",
       "    <tr>\n",
       "      <th>Apple</th>\n",
       "      <td>83340.50</td>\n",
       "      <td>71378.68</td>\n",
       "      <td>21</td>\n",
       "    </tr>\n",
       "    <tr>\n",
       "      <th>Huawei</th>\n",
       "      <td>75870.72</td>\n",
       "      <td>75870.72</td>\n",
       "      <td>2</td>\n",
       "    </tr>\n",
       "    <tr>\n",
       "      <th>Samsung</th>\n",
       "      <td>75308.32</td>\n",
       "      <td>87858.72</td>\n",
       "      <td>9</td>\n",
       "    </tr>\n",
       "    <tr>\n",
       "      <th>Toshiba</th>\n",
       "      <td>67549.05</td>\n",
       "      <td>64548.72</td>\n",
       "      <td>48</td>\n",
       "    </tr>\n",
       "    <tr>\n",
       "      <th>Dell</th>\n",
       "      <td>63193.76</td>\n",
       "      <td>52480.80</td>\n",
       "      <td>297</td>\n",
       "    </tr>\n",
       "    <tr>\n",
       "      <th>Xiaomi</th>\n",
       "      <td>60390.88</td>\n",
       "      <td>58578.70</td>\n",
       "      <td>4</td>\n",
       "    </tr>\n",
       "    <tr>\n",
       "      <th>Asus</th>\n",
       "      <td>58830.14</td>\n",
       "      <td>53946.00</td>\n",
       "      <td>158</td>\n",
       "    </tr>\n",
       "    <tr>\n",
       "      <th>Lenovo</th>\n",
       "      <td>57882.56</td>\n",
       "      <td>47898.72</td>\n",
       "      <td>297</td>\n",
       "    </tr>\n",
       "    <tr>\n",
       "      <th>HP</th>\n",
       "      <td>56891.04</td>\n",
       "      <td>51495.12</td>\n",
       "      <td>274</td>\n",
       "    </tr>\n",
       "    <tr>\n",
       "      <th>Fujitsu</th>\n",
       "      <td>38841.12</td>\n",
       "      <td>39373.92</td>\n",
       "      <td>3</td>\n",
       "    </tr>\n",
       "    <tr>\n",
       "      <th>Acer</th>\n",
       "      <td>33394.62</td>\n",
       "      <td>29783.52</td>\n",
       "      <td>103</td>\n",
       "    </tr>\n",
       "    <tr>\n",
       "      <th>Chuwi</th>\n",
       "      <td>16745.73</td>\n",
       "      <td>13261.39</td>\n",
       "      <td>3</td>\n",
       "    </tr>\n",
       "    <tr>\n",
       "      <th>Mediacom</th>\n",
       "      <td>15717.60</td>\n",
       "      <td>14119.20</td>\n",
       "      <td>7</td>\n",
       "    </tr>\n",
       "    <tr>\n",
       "      <th>Vero</th>\n",
       "      <td>11584.40</td>\n",
       "      <td>11020.97</td>\n",
       "      <td>4</td>\n",
       "    </tr>\n",
       "  </tbody>\n",
       "</table>\n",
       "</div>"
      ],
      "text/plain": [
       "                mean     median  count\n",
       "Company                               \n",
       "Razer      178282.49  154458.72      7\n",
       "LG         111834.72  111834.72      3\n",
       "MSI         92116.23   85194.72     54\n",
       "Google      89386.08   83063.52      3\n",
       "Microsoft   85903.79   83622.96      6\n",
       "Apple       83340.50   71378.68     21\n",
       "Huawei      75870.72   75870.72      2\n",
       "Samsung     75308.32   87858.72      9\n",
       "Toshiba     67549.05   64548.72     48\n",
       "Dell        63193.76   52480.80    297\n",
       "Xiaomi      60390.88   58578.70      4\n",
       "Asus        58830.14   53946.00    158\n",
       "Lenovo      57882.56   47898.72    297\n",
       "HP          56891.04   51495.12    274\n",
       "Fujitsu     38841.12   39373.92      3\n",
       "Acer        33394.62   29783.52    103\n",
       "Chuwi       16745.73   13261.39      3\n",
       "Mediacom    15717.60   14119.20      7\n",
       "Vero        11584.40   11020.97      4"
      ]
     },
     "execution_count": 10,
     "metadata": {},
     "output_type": "execute_result"
    }
   ],
   "source": [
    "# price comparison of different manufacturers\n",
    "\n",
    "company_grp = df.groupby(by='Company')\n",
    "\n",
    "company_func = company_grp['Price'].aggregate(func=['mean','median','count']).apply(lambda x : np.round(x,decimals=2)).sort_values('mean',ascending=False)\n",
    "\n",
    "company_func"
   ]
  },
  {
   "cell_type": "markdown",
   "id": "9a53e160",
   "metadata": {
    "id": "9a53e160"
   },
   "source": [
    "- Razer and LG have products more focussed on the higher end of the market.\n",
    "- Asus and lenovo produces more budget segment laptops.\n",
    "- Many of the lesser name chinese brands have more products in the lower segment of the market."
   ]
  },
  {
   "cell_type": "code",
   "execution_count": 11,
   "id": "56dfef11",
   "metadata": {
    "colab": {
     "base_uri": "https://localhost:8080/",
     "height": 337
    },
    "executionInfo": {
     "elapsed": 710,
     "status": "ok",
     "timestamp": 1671692318297,
     "user": {
      "displayName": "Himanshu Arora",
      "userId": "03026800847751892488"
     },
     "user_tz": -330
    },
    "id": "56dfef11",
    "outputId": "aed3ec74-9ce1-44da-dfbd-0756defafdc0"
   },
   "outputs": [
    {
     "data": {
      "image/png": "[encoded data removed]",
      "text/plain": [
       "<Figure size 640x480 with 1 Axes>"
      ]
     },
     "metadata": {},
     "output_type": "display_data"
    }
   ],
   "source": [
    "sns.barplot(x='Company',y='Price',data=df,estimator=np.mean,order=company_func.index)\n",
    "plt.xticks(rotation=90)\n",
    "plt.title('Mean Price with respect to company')\n",
    "plt.ylabel('Mean Price')\n",
    "plt.show()"
   ]
  },
  {
   "cell_type": "markdown",
   "id": "6edc4144",
   "metadata": {},
   "source": [
    "### Laptops Types:"
   ]
  },
  {
   "cell_type": "code",
   "execution_count": 12,
   "id": "52a4c516",
   "metadata": {
    "colab": {
     "base_uri": "https://localhost:8080/",
     "height": 269
    },
    "executionInfo": {
     "elapsed": 586,
     "status": "ok",
     "timestamp": 1671692326282,
     "user": {
      "displayName": "Himanshu Arora",
      "userId": "03026800847751892488"
     },
     "user_tz": -330
    },
    "id": "46ea3e03",
    "outputId": "9389ae3c-1318-446f-f239-195c68ad0608"
   },
   "outputs": [
    {
     "data": {
      "text/html": [
       "<div>\n",
       "<style scoped>\n",
       "    .dataframe tbody tr th:only-of-type {\n",
       "        vertical-align: middle;\n",
       "    }\n",
       "\n",
       "    .dataframe tbody tr th {\n",
       "        vertical-align: top;\n",
       "    }\n",
       "\n",
       "    .dataframe thead th {\n",
       "        text-align: right;\n",
       "    }\n",
       "</style>\n",
       "<table border=\"1\" class=\"dataframe\">\n",
       "  <thead>\n",
       "    <tr style=\"text-align: right;\">\n",
       "      <th></th>\n",
       "      <th>mean</th>\n",
       "      <th>median</th>\n",
       "    </tr>\n",
       "    <tr>\n",
       "      <th>TypeName</th>\n",
       "      <th></th>\n",
       "      <th></th>\n",
       "    </tr>\n",
       "  </thead>\n",
       "  <tbody>\n",
       "    <tr>\n",
       "      <th>Workstation</th>\n",
       "      <td>121497.53</td>\n",
       "      <td>110017.87</td>\n",
       "    </tr>\n",
       "    <tr>\n",
       "      <th>Gaming</th>\n",
       "      <td>92247.96</td>\n",
       "      <td>79536.38</td>\n",
       "    </tr>\n",
       "    <tr>\n",
       "      <th>Ultrabook</th>\n",
       "      <td>82489.71</td>\n",
       "      <td>79866.72</td>\n",
       "    </tr>\n",
       "    <tr>\n",
       "      <th>2 in 1 Convertible</th>\n",
       "      <td>68326.36</td>\n",
       "      <td>63882.72</td>\n",
       "    </tr>\n",
       "    <tr>\n",
       "      <th>Notebook</th>\n",
       "      <td>41669.15</td>\n",
       "      <td>36816.48</td>\n",
       "    </tr>\n",
       "    <tr>\n",
       "      <th>Netbook</th>\n",
       "      <td>33898.44</td>\n",
       "      <td>18115.20</td>\n",
       "    </tr>\n",
       "  </tbody>\n",
       "</table>\n",
       "</div>"
      ],
      "text/plain": [
       "                         mean     median\n",
       "TypeName                                \n",
       "Workstation         121497.53  110017.87\n",
       "Gaming               92247.96   79536.38\n",
       "Ultrabook            82489.71   79866.72\n",
       "2 in 1 Convertible   68326.36   63882.72\n",
       "Notebook             41669.15   36816.48\n",
       "Netbook              33898.44   18115.20"
      ]
     },
     "execution_count": 12,
     "metadata": {},
     "output_type": "execute_result"
    }
   ],
   "source": [
    "# check the different types of laptops\n",
    "\n",
    "df['TypeName'].value_counts()\n",
    "\n",
    "type_grp = df.groupby(by='TypeName')['Price'].aggregate(func=['mean','median'])\n",
    "\n",
    "type_grp.sort_values('mean',ascending=False).apply(lambda x :np.round(x,decimals=2))"
   ]
  },
  {
   "cell_type": "code",
   "execution_count": 13,
   "id": "d4d2bb0a",
   "metadata": {
    "executionInfo": {
     "elapsed": 602,
     "status": "ok",
     "timestamp": 1671692336487,
     "user": {
      "displayName": "Himanshu Arora",
      "userId": "03026800847751892488"
     },
     "user_tz": -330
    },
    "id": "d4d2bb0a"
   },
   "outputs": [],
   "source": [
    "# create a new segment column\n",
    "\n",
    "def type_high_seg(x):\n",
    "    if (x == 'Workstation') or (x == 'Gaming') or (x == 'Ultrabook'):\n",
    "        return 'Yes'\n",
    "    else:\n",
    "        return 'No'\n",
    "    \n",
    "df['High_segment'] = df['TypeName'].apply(lambda x: type_high_seg(x))"
   ]
  },
  {
   "cell_type": "code",
   "execution_count": 14,
   "id": "78df4f30",
   "metadata": {
    "colab": {
     "base_uri": "https://localhost:8080/",
     "height": 374
    },
    "executionInfo": {
     "elapsed": 966,
     "status": "ok",
     "timestamp": 1671692357417,
     "user": {
      "displayName": "Himanshu Arora",
      "userId": "03026800847751892488"
     },
     "user_tz": -330
    },
    "id": "78df4f30",
    "outputId": "44955a3e-b7fc-4b49-b248-c78d088373c8"
   },
   "outputs": [
    {
     "data": {
      "image/png": "[encoded data removed]",
      "text/plain": [
       "<Figure size 640x480 with 1 Axes>"
      ]
     },
     "metadata": {},
     "output_type": "display_data"
    }
   ],
   "source": [
    "sns.barplot(x='TypeName',y='Price',data=df,estimator=np.mean,order=type_grp.sort_values(by='mean',ascending=False).index)\n",
    "plt.xticks(rotation=90)\n",
    "plt.title('Mean Price with respect to type of laptop')\n",
    "plt.ylabel('Mean Price')\n",
    "plt.show()"
   ]
  },
  {
   "cell_type": "markdown",
   "id": "62827190",
   "metadata": {
    "id": "62827190"
   },
   "source": [
    "- Workstation laptops are the most expensive may be due to the hardware specs.\n",
    "- Gaming laptops come second due to presence of better GPU's in them.\n",
    "- Netbooks are the cheapest because they might be supporting low end hardware\n",
    "- Ultrabooks are more expensive in comparison to 2 in 1 because of the thin profile.\n",
    "- Notebooks are the most general section of laptops in the market."
   ]
  },
  {
   "cell_type": "code",
   "execution_count": 15,
   "id": "8c81506f",
   "metadata": {},
   "outputs": [
    {
     "data": {
      "image/png": "[encoded data removed]",
      "text/plain": [
       "<Figure size 640x480 with 1 Axes>"
      ]
     },
     "metadata": {},
     "output_type": "display_data"
    }
   ],
   "source": [
    "# mean price comparison of the high segment of laptops with the low segment\n",
    "\n",
    "sns.barplot(x='High_segment',y='Price',data=df,estimator=np.mean,order=['Yes','No'])\n",
    "plt.title('Mean Price with respect to type of laptop')\n",
    "plt.ylabel('Mean Price')\n",
    "plt.show()"
   ]
  },
  {
   "cell_type": "markdown",
   "id": "ff5bf274",
   "metadata": {},
   "source": [
    "### Laptop Screen size"
   ]
  },
  {
   "cell_type": "code",
   "execution_count": 16,
   "id": "56c347c9",
   "metadata": {},
   "outputs": [
    {
     "data": {
      "text/plain": [
       "Company              object\n",
       "TypeName             object\n",
       "Inches              float64\n",
       "ScreenResolution     object\n",
       "Cpu                  object\n",
       "Ram                  object\n",
       "Memory               object\n",
       "Gpu                  object\n",
       "OpSys                object\n",
       "Weight               object\n",
       "Price               float64\n",
       "High_segment         object\n",
       "dtype: object"
      ]
     },
     "execution_count": 16,
     "metadata": {},
     "output_type": "execute_result"
    }
   ],
   "source": [
    "df.dtypes"
   ]
  },
  {
   "cell_type": "code",
   "execution_count": 17,
   "id": "bbde6a4a",
   "metadata": {},
   "outputs": [
    {
     "data": {
      "text/plain": [
       "<AxesSubplot: xlabel='Price', ylabel='Density'>"
      ]
     },
     "execution_count": 17,
     "metadata": {},
     "output_type": "execute_result"
    },
    {
     "data": {
      "image/png": "[encoded data removed]",
      "text/plain": [
       "<Figure size 640x480 with 1 Axes>"
      ]
     },
     "metadata": {},
     "output_type": "display_data"
    }
   ],
   "source": [
    "# Price distribution of laptops\n",
    "\n",
    "sns.kdeplot(x='Price',data=df)"
   ]
  },
  {
   "cell_type": "markdown",
   "id": "e2d86950",
   "metadata": {},
   "source": [
    "The price distribution of the laptops shows that the distribution is skewed towards the right which means that there are many laptops in the price segment upto Rs.1,50,000 and then the expensive laptops are there but are lower in number."
   ]
  },
  {
   "cell_type": "code",
   "execution_count": 18,
   "id": "124eca23",
   "metadata": {
    "colab": {
     "base_uri": "https://localhost:8080/",
     "height": 296
    },
    "executionInfo": {
     "elapsed": 860,
     "status": "ok",
     "timestamp": 1671692363549,
     "user": {
      "displayName": "Himanshu Arora",
      "userId": "03026800847751892488"
     },
     "user_tz": -330
    },
    "id": "124eca23",
    "outputId": "9cccd04e-20be-4c70-d685-f48a23adbc2b"
   },
   "outputs": [
    {
     "data": {
      "text/plain": [
       "<seaborn.axisgrid.FacetGrid at 0x1c868a5d060>"
      ]
     },
     "execution_count": 18,
     "metadata": {},
     "output_type": "execute_result"
    },
    {
     "data": {
      "image/png": "[encoded data removed]",
      "text/plain": [
       "<Figure size 500x500 with 1 Axes>"
      ]
     },
     "metadata": {},
     "output_type": "display_data"
    }
   ],
   "source": [
    "# inches of the laptop\n",
    "\n",
    "sns.displot(x='Inches',data=df,kde='True')"
   ]
  },
  {
   "cell_type": "markdown",
   "id": "3e87b334",
   "metadata": {
    "id": "3e87b334"
   },
   "source": [
    "The graph is trimodal in nature.     \n",
    "\n",
    "Screen size of 13.5 inches, 15 inches and around 17 inches are prevalent.  \n",
    "\n",
    "Some laptops are also available in screen sizes round and smaller than 10 inches and some larger than 18 inches are also available."
   ]
  },
  {
   "cell_type": "code",
   "execution_count": 19,
   "id": "9091ad4f",
   "metadata": {},
   "outputs": [
    {
     "data": {
      "text/plain": [
       "15.6    665\n",
       "14.0    197\n",
       "13.3    164\n",
       "17.3    164\n",
       "12.5     39\n",
       "Name: Inches, dtype: int64"
      ]
     },
     "execution_count": 19,
     "metadata": {},
     "output_type": "execute_result"
    }
   ],
   "source": [
    "# screen size value counts\n",
    "\n",
    "df['Inches'].value_counts().sort_values(ascending=False).nlargest(5)"
   ]
  },
  {
   "cell_type": "code",
   "execution_count": 127,
   "id": "1d67549e",
   "metadata": {
    "colab": {
     "base_uri": "https://localhost:8080/",
     "height": 303
    },
    "executionInfo": {
     "elapsed": 934,
     "status": "ok",
     "timestamp": 1671692367987,
     "user": {
      "displayName": "Himanshu Arora",
      "userId": "03026800847751892488"
     },
     "user_tz": -330
    },
    "id": "1d67549e",
    "outputId": "c7b4f153-da67-4af6-abdb-bcb30600b0e3"
   },
   "outputs": [
    {
     "data": {
      "image/png": "[encoded data removed]",
      "text/plain": [
       "<Figure size 640x480 with 1 Axes>"
      ]
     },
     "metadata": {},
     "output_type": "display_data"
    }
   ],
   "source": [
    "# screen size and price relationship\n",
    "\n",
    "bins = [10,13,14,15,17,19]\n",
    "labels = [12.5,13.3,14,15.6,17]\n",
    "df['Inches_bins'] = pd.cut(df[\"Inches\"],bins,right=False,include_lowest=True,labels=labels)\n",
    "\n",
    "sns.stripplot(x='Inches_bins',y='Price',data=df,jitter=0.2,hue=df['Price']>150000)\n",
    "plt.tight_layout()\n",
    "plt.xticks(rotation=45)\n",
    "plt.show()"
   ]
  },
  {
   "cell_type": "markdown",
   "id": "fc5cc577",
   "metadata": {
    "id": "fc5cc577"
   },
   "source": [
    "- The bigger screen size the laptop has, the more expensive it is.\n",
    "- The High segment category is more in number in larger laptops as compared to laptops having smaller screen size."
   ]
  },
  {
   "cell_type": "code",
   "execution_count": 21,
   "id": "06a2b236",
   "metadata": {},
   "outputs": [
    {
     "data": {
      "text/plain": [
       "Company               object\n",
       "TypeName              object\n",
       "Inches               float64\n",
       "ScreenResolution      object\n",
       "Cpu                   object\n",
       "Ram                   object\n",
       "Memory                object\n",
       "Gpu                   object\n",
       "OpSys                 object\n",
       "Weight                object\n",
       "Price                float64\n",
       "High_segment          object\n",
       "Inches_bins         category\n",
       "dtype: object"
      ]
     },
     "execution_count": 21,
     "metadata": {},
     "output_type": "execute_result"
    }
   ],
   "source": [
    "df.dtypes"
   ]
  },
  {
   "cell_type": "code",
   "execution_count": 133,
   "id": "8e467f77",
   "metadata": {
    "colab": {
     "base_uri": "https://localhost:8080/",
     "height": 297
    },
    "executionInfo": {
     "elapsed": 775,
     "status": "ok",
     "timestamp": 1671692375420,
     "user": {
      "displayName": "Himanshu Arora",
      "userId": "03026800847751892488"
     },
     "user_tz": -330
    },
    "id": "8e467f77",
    "outputId": "b23f9a31-59c8-4f1b-bf53-56313a43e094"
   },
   "outputs": [
    {
     "data": {
      "text/plain": [
       "<AxesSubplot: xlabel='Inches_bins', ylabel='Count'>"
      ]
     },
     "execution_count": 133,
     "metadata": {},
     "output_type": "execute_result"
    },
    {
     "data": {
      "image/png": "[encoded data removed]",
      "text/plain": [
       "<Figure size 640x480 with 1 Axes>"
      ]
     },
     "metadata": {},
     "output_type": "display_data"
    }
   ],
   "source": [
    "# Distribution of laptops based on screen size\n",
    "\n",
    "sns.histplot(x='Inches_bins',data=df,hue='High_segment',bins=labels,multiple='layer',kde=True)"
   ]
  },
  {
   "cell_type": "markdown",
   "id": "ba342f34",
   "metadata": {},
   "source": [
    "- The larger screen size laptops are more high end as compared to smaller sizes and more of these laptops are form the High segment.\n",
    "- Lower screen sizes have lesser number of high end laptops."
   ]
  },
  {
   "cell_type": "code",
   "execution_count": 134,
   "id": "05ce1fb3",
   "metadata": {
    "colab": {
     "base_uri": "https://localhost:8080/",
     "height": 297
    },
    "executionInfo": {
     "elapsed": 29,
     "status": "ok",
     "timestamp": 1671692376001,
     "user": {
      "displayName": "Himanshu Arora",
      "userId": "03026800847751892488"
     },
     "user_tz": -330
    },
    "id": "05ce1fb3",
    "outputId": "012c68ca-4642-4ec9-ae42-474cf182e493"
   },
   "outputs": [
    {
     "data": {
      "text/plain": [
       "<AxesSubplot: xlabel='Inches_bins', ylabel='Price'>"
      ]
     },
     "execution_count": 134,
     "metadata": {},
     "output_type": "execute_result"
    },
    {
     "data": {
      "image/png": "[encoded data removed]",
      "text/plain": [
       "<Figure size 640x480 with 1 Axes>"
      ]
     },
     "metadata": {},
     "output_type": "display_data"
    }
   ],
   "source": [
    "# plot box plots to check for outliers\n",
    "\n",
    "sns.boxplot(x='Inches_bins',y='Price',data=df)"
   ]
  },
  {
   "cell_type": "markdown",
   "id": "03f0c444",
   "metadata": {
    "id": "03f0c444"
   },
   "source": [
    "There are many expensive laptops in the 15 inch segment    \n",
    "The 17 inch segment market is generally having expensive expensive products, but 3 products in the 17 inch segment seems to be outliers for their current segment."
   ]
  },
  {
   "cell_type": "code",
   "execution_count": 24,
   "id": "0cb33a38",
   "metadata": {
    "colab": {
     "base_uri": "https://localhost:8080/"
    },
    "executionInfo": {
     "elapsed": 577,
     "status": "ok",
     "timestamp": 1671692384619,
     "user": {
      "displayName": "Himanshu Arora",
      "userId": "03026800847751892488"
     },
     "user_tz": -330
    },
    "id": "0cb33a38",
    "outputId": "819b9476-a9b0-48a3-9a04-4a477e199f6e"
   },
   "outputs": [
    {
     "data": {
      "text/plain": [
       "Index(['Company', 'TypeName', 'Inches', 'ScreenResolution', 'Cpu', 'Ram',\n",
       "       'Memory', 'Gpu', 'OpSys', 'Weight', 'Price', 'High_segment',\n",
       "       'Inches_bins'],\n",
       "      dtype='object')"
      ]
     },
     "execution_count": 24,
     "metadata": {},
     "output_type": "execute_result"
    }
   ],
   "source": [
    "df.columns"
   ]
  },
  {
   "cell_type": "code",
   "execution_count": 135,
   "id": "e4f2ae8a",
   "metadata": {
    "colab": {
     "base_uri": "https://localhost:8080/",
     "height": 297
    },
    "executionInfo": {
     "elapsed": 695,
     "status": "ok",
     "timestamp": 1671692385886,
     "user": {
      "displayName": "Himanshu Arora",
      "userId": "03026800847751892488"
     },
     "user_tz": -330
    },
    "id": "e4f2ae8a",
    "outputId": "54adc193-340e-4f18-d8f1-0f5d3962fdd4"
   },
   "outputs": [
    {
     "data": {
      "text/plain": [
       "<AxesSubplot: xlabel='Inches_bins', ylabel='Price'>"
      ]
     },
     "execution_count": 135,
     "metadata": {},
     "output_type": "execute_result"
    },
    {
     "data": {
      "image/png": "[encoded data removed]",
      "text/plain": [
       "<Figure size 640x480 with 1 Axes>"
      ]
     },
     "metadata": {},
     "output_type": "display_data"
    }
   ],
   "source": [
    "# check for types of laptops wrt to their screen size\n",
    "\n",
    "sns.boxplot(x='Inches_bins',y='Price',data=df,hue='High_segment',hue_order=['No','Yes'])"
   ]
  },
  {
   "cell_type": "code",
   "execution_count": 136,
   "id": "01919fcd",
   "metadata": {
    "colab": {
     "base_uri": "https://localhost:8080/",
     "height": 297
    },
    "executionInfo": {
     "elapsed": 851,
     "status": "ok",
     "timestamp": 1671692391774,
     "user": {
      "displayName": "Himanshu Arora",
      "userId": "03026800847751892488"
     },
     "user_tz": -330
    },
    "id": "01919fcd",
    "outputId": "bc719609-f435-40b6-b22b-f67c416b1137"
   },
   "outputs": [
    {
     "data": {
      "text/plain": [
       "<AxesSubplot: xlabel='Inches_bins', ylabel='Price'>"
      ]
     },
     "execution_count": 136,
     "metadata": {},
     "output_type": "execute_result"
    },
    {
     "data": {
      "image/png": "[encoded data removed]",
      "text/plain": [
       "<Figure size 640x480 with 1 Axes>"
      ]
     },
     "metadata": {},
     "output_type": "display_data"
    }
   ],
   "source": [
    "# outliers based on type of laptop in the 15.6 inches screen size\n",
    "\n",
    "df_15_inch = df[df['Inches_bins'] == 15.6].copy()\n",
    "df_15_inch\n",
    "\n",
    "sns.boxplot(x='Inches_bins',y='Price',data=df_15_inch,hue='TypeName',order=[15.6])"
   ]
  },
  {
   "cell_type": "code",
   "execution_count": 119,
   "id": "d756b694",
   "metadata": {},
   "outputs": [],
   "source": [
    "df['Inches_bins'] = df[\"Inches_bins\"].astype(np.float32)"
   ]
  },
  {
   "cell_type": "code",
   "execution_count": 146,
   "id": "ce844bc9",
   "metadata": {},
   "outputs": [
    {
     "data": {
      "image/png": "[encoded data removed]",
      "text/plain": [
       "<Figure size 1000x400 with 2 Axes>"
      ]
     },
     "metadata": {},
     "output_type": "display_data"
    },
    {
     "data": {
      "image/png": "[encoded data removed]",
      "text/plain": [
       "<Figure size 1000x400 with 2 Axes>"
      ]
     },
     "metadata": {},
     "output_type": "display_data"
    },
    {
     "data": {
      "image/png": "[encoded data removed]",
      "text/plain": [
       "<Figure size 1000x400 with 2 Axes>"
      ]
     },
     "metadata": {},
     "output_type": "display_data"
    },
    {
     "data": {
      "image/png": "[encoded data removed]",
      "text/plain": [
       "<Figure size 1000x400 with 2 Axes>"
      ]
     },
     "metadata": {},
     "output_type": "display_data"
    },
    {
     "data": {
      "image/png": "[encoded data removed]",
      "text/plain": [
       "<Figure size 1000x400 with 2 Axes>"
      ]
     },
     "metadata": {},
     "output_type": "display_data"
    }
   ],
   "source": [
    "def plot_boxplots(df,bins):\n",
    "    for l in bins:\n",
    "        plt.figure(figsize=(10,4))\n",
    "        plt.subplot(1,2,1)\n",
    "        df_filter = df[df['Inches_bins'] == l]\n",
    "        sns.boxplot(x='Inches_bins',y='Price',data=df_filter,hue='TypeName',order=[l])\n",
    "        \n",
    "        plt.subplot(1,2,2)\n",
    "        sns.boxplot(x='Inches_bins',y='Price',data=df_filter,order=[l])\n",
    "        plt.show()\n",
    "        \n",
    "plot_boxplots(df,labels)"
   ]
  },
  {
   "cell_type": "markdown",
   "id": "e165d6a3",
   "metadata": {
    "id": "e165d6a3"
   },
   "source": [
    "- Many laptops in the Notebook and Gaming laptops category have a higher price then the rest.\n",
    "- The workstation laptops already have a highe price as compared to other laptops in the same screen size.\n",
    "\n",
    "This might be due to presence or absence of high end GPU's in the laptop or can be due to other powerful hardware present."
   ]
  },
  {
   "cell_type": "markdown",
   "id": "b791afce",
   "metadata": {},
   "source": [
    "##### Extreme outliers in the data"
   ]
  },
  {
   "cell_type": "code",
   "execution_count": 148,
   "id": "a74e2ede",
   "metadata": {},
   "outputs": [
    {
     "data": {
      "text/html": [
       "<div>\n",
       "<style scoped>\n",
       "    .dataframe tbody tr th:only-of-type {\n",
       "        vertical-align: middle;\n",
       "    }\n",
       "\n",
       "    .dataframe tbody tr th {\n",
       "        vertical-align: top;\n",
       "    }\n",
       "\n",
       "    .dataframe thead th {\n",
       "        text-align: right;\n",
       "    }\n",
       "</style>\n",
       "<table border=\"1\" class=\"dataframe\">\n",
       "  <thead>\n",
       "    <tr style=\"text-align: right;\">\n",
       "      <th></th>\n",
       "      <th>Company</th>\n",
       "      <th>TypeName</th>\n",
       "      <th>Inches</th>\n",
       "      <th>Ram</th>\n",
       "      <th>Gpu</th>\n",
       "      <th>OpSys</th>\n",
       "      <th>Weight</th>\n",
       "      <th>Price</th>\n",
       "      <th>High_segment</th>\n",
       "      <th>Inches_bins</th>\n",
       "      <th>Horizontal_resolution</th>\n",
       "      <th>Vertical_resolution</th>\n",
       "      <th>High_res</th>\n",
       "      <th>Has_touchscreen</th>\n",
       "      <th>Is_IPS</th>\n",
       "      <th>Cpu_model</th>\n",
       "      <th>Cpu_clock_freq</th>\n",
       "      <th>HDD</th>\n",
       "      <th>SSD</th>\n",
       "      <th>Flash</th>\n",
       "    </tr>\n",
       "  </thead>\n",
       "  <tbody>\n",
       "    <tr>\n",
       "      <th>196</th>\n",
       "      <td>Razer</td>\n",
       "      <td>Gaming</td>\n",
       "      <td>17.3</td>\n",
       "      <td>32</td>\n",
       "      <td>Nvidia GeForce GTX 1080</td>\n",
       "      <td>Windows 10</td>\n",
       "      <td>3.49kg</td>\n",
       "      <td>324954.72</td>\n",
       "      <td>Yes</td>\n",
       "      <td>17.0</td>\n",
       "      <td>3840</td>\n",
       "      <td>2160</td>\n",
       "      <td>True</td>\n",
       "      <td>True</td>\n",
       "      <td>False</td>\n",
       "      <td>Intel i7</td>\n",
       "      <td>2.9</td>\n",
       "      <td>0</td>\n",
       "      <td>1000</td>\n",
       "      <td>0</td>\n",
       "    </tr>\n",
       "    <tr>\n",
       "      <th>610</th>\n",
       "      <td>Lenovo</td>\n",
       "      <td>Notebook</td>\n",
       "      <td>15.6</td>\n",
       "      <td>32</td>\n",
       "      <td>Nvidia Quadro M2200M</td>\n",
       "      <td>Windows 10</td>\n",
       "      <td>2.5kg</td>\n",
       "      <td>261018.72</td>\n",
       "      <td>No</td>\n",
       "      <td>15.6</td>\n",
       "      <td>3840</td>\n",
       "      <td>2160</td>\n",
       "      <td>True</td>\n",
       "      <td>False</td>\n",
       "      <td>True</td>\n",
       "      <td>Intel Others</td>\n",
       "      <td>3.1</td>\n",
       "      <td>0</td>\n",
       "      <td>1000</td>\n",
       "      <td>0</td>\n",
       "    </tr>\n",
       "    <tr>\n",
       "      <th>830</th>\n",
       "      <td>Razer</td>\n",
       "      <td>Gaming</td>\n",
       "      <td>17.3</td>\n",
       "      <td>32</td>\n",
       "      <td>Nvidia GeForce GTX 1080</td>\n",
       "      <td>Windows 10</td>\n",
       "      <td>3.49kg</td>\n",
       "      <td>292986.72</td>\n",
       "      <td>Yes</td>\n",
       "      <td>17.0</td>\n",
       "      <td>3840</td>\n",
       "      <td>2160</td>\n",
       "      <td>True</td>\n",
       "      <td>True</td>\n",
       "      <td>False</td>\n",
       "      <td>Intel i7</td>\n",
       "      <td>2.9</td>\n",
       "      <td>0</td>\n",
       "      <td>512</td>\n",
       "      <td>0</td>\n",
       "    </tr>\n",
       "  </tbody>\n",
       "</table>\n",
       "</div>"
      ],
      "text/plain": [
       "    Company  TypeName  Inches  Ram                      Gpu       OpSys  \\\n",
       "196   Razer    Gaming    17.3   32  Nvidia GeForce GTX 1080  Windows 10   \n",
       "610  Lenovo  Notebook    15.6   32     Nvidia Quadro M2200M  Windows 10   \n",
       "830   Razer    Gaming    17.3   32  Nvidia GeForce GTX 1080  Windows 10   \n",
       "\n",
       "     Weight      Price High_segment Inches_bins  Horizontal_resolution  \\\n",
       "196  3.49kg  324954.72          Yes        17.0                   3840   \n",
       "610   2.5kg  261018.72           No        15.6                   3840   \n",
       "830  3.49kg  292986.72          Yes        17.0                   3840   \n",
       "\n",
       "     Vertical_resolution  High_res  Has_touchscreen  Is_IPS     Cpu_model  \\\n",
       "196                 2160      True             True   False      Intel i7   \n",
       "610                 2160      True            False    True  Intel Others   \n",
       "830                 2160      True             True   False      Intel i7   \n",
       "\n",
       "    Cpu_clock_freq  HDD   SSD  Flash  \n",
       "196            2.9    0  1000      0  \n",
       "610            3.1    0  1000      0  \n",
       "830            2.9    0   512      0  "
      ]
     },
     "execution_count": 148,
     "metadata": {},
     "output_type": "execute_result"
    }
   ],
   "source": [
    "# check for the extreme outliers in the data\n",
    "df_extreme_outliers = df[df['Price'] >= 250000]\n",
    "df_extreme_outliers"
   ]
  },
  {
   "cell_type": "markdown",
   "id": "2f24adcb",
   "metadata": {},
   "source": [
    "We may have to consider removing these outliers from our data as they are extreme outliers and can effect our pedictions"
   ]
  },
  {
   "cell_type": "code",
   "execution_count": 151,
   "id": "32565269",
   "metadata": {},
   "outputs": [
    {
     "data": {
      "text/plain": [
       "0.002304147465437788"
      ]
     },
     "execution_count": 151,
     "metadata": {},
     "output_type": "execute_result"
    }
   ],
   "source": [
    "# Percantage of outlers data points vs length of df\n",
    "\n",
    "percentage_outliers = (df_extreme_outliers.shape[0] / df.shape[0]) * 100\n",
    "percentage_outliers"
   ]
  },
  {
   "cell_type": "markdown",
   "id": "89b91ca5",
   "metadata": {},
   "source": [
    "The percentage of outliers in comparison to the data is even less than 0.25% and we can consider to remove these if they impact our analysis."
   ]
  },
  {
   "cell_type": "code",
   "execution_count": 27,
   "id": "368f26b9",
   "metadata": {
    "colab": {
     "base_uri": "https://localhost:8080/",
     "height": 458
    },
    "executionInfo": {
     "elapsed": 36,
     "status": "ok",
     "timestamp": 1671692396009,
     "user": {
      "displayName": "Himanshu Arora",
      "userId": "03026800847751892488"
     },
     "user_tz": -330
    },
    "id": "368f26b9",
    "outputId": "ff2ae7eb-37d7-49a3-977b-8d41ec4cf119"
   },
   "outputs": [
    {
     "data": {
      "text/html": [
       "<div>\n",
       "<style scoped>\n",
       "    .dataframe tbody tr th:only-of-type {\n",
       "        vertical-align: middle;\n",
       "    }\n",
       "\n",
       "    .dataframe tbody tr th {\n",
       "        vertical-align: top;\n",
       "    }\n",
       "\n",
       "    .dataframe thead th {\n",
       "        text-align: right;\n",
       "    }\n",
       "</style>\n",
       "<table border=\"1\" class=\"dataframe\">\n",
       "  <thead>\n",
       "    <tr style=\"text-align: right;\">\n",
       "      <th></th>\n",
       "      <th>Company</th>\n",
       "      <th>TypeName</th>\n",
       "      <th>Inches</th>\n",
       "      <th>ScreenResolution</th>\n",
       "      <th>Cpu</th>\n",
       "      <th>Ram</th>\n",
       "      <th>Memory</th>\n",
       "      <th>Gpu</th>\n",
       "      <th>OpSys</th>\n",
       "      <th>Weight</th>\n",
       "      <th>Price</th>\n",
       "      <th>High_segment</th>\n",
       "      <th>Inches_bins</th>\n",
       "    </tr>\n",
       "  </thead>\n",
       "  <tbody>\n",
       "    <tr>\n",
       "      <th>0</th>\n",
       "      <td>Apple</td>\n",
       "      <td>Ultrabook</td>\n",
       "      <td>13.3</td>\n",
       "      <td>IPS Panel Retina Display 2560x1600</td>\n",
       "      <td>Intel Core i5 2.3GHz</td>\n",
       "      <td>8GB</td>\n",
       "      <td>128GB SSD</td>\n",
       "      <td>Intel Iris Plus Graphics 640</td>\n",
       "      <td>macOS</td>\n",
       "      <td>1.37kg</td>\n",
       "      <td>71378.6832</td>\n",
       "      <td>Yes</td>\n",
       "      <td>13.3</td>\n",
       "    </tr>\n",
       "    <tr>\n",
       "      <th>1</th>\n",
       "      <td>Apple</td>\n",
       "      <td>Ultrabook</td>\n",
       "      <td>13.3</td>\n",
       "      <td>1440x900</td>\n",
       "      <td>Intel Core i5 1.8GHz</td>\n",
       "      <td>8GB</td>\n",
       "      <td>128GB Flash Storage</td>\n",
       "      <td>Intel HD Graphics 6000</td>\n",
       "      <td>macOS</td>\n",
       "      <td>1.34kg</td>\n",
       "      <td>47895.5232</td>\n",
       "      <td>Yes</td>\n",
       "      <td>13.3</td>\n",
       "    </tr>\n",
       "    <tr>\n",
       "      <th>2</th>\n",
       "      <td>HP</td>\n",
       "      <td>Notebook</td>\n",
       "      <td>15.6</td>\n",
       "      <td>Full HD 1920x1080</td>\n",
       "      <td>Intel Core i5 7200U 2.5GHz</td>\n",
       "      <td>8GB</td>\n",
       "      <td>256GB SSD</td>\n",
       "      <td>Intel HD Graphics 620</td>\n",
       "      <td>No OS</td>\n",
       "      <td>1.86kg</td>\n",
       "      <td>30636.0000</td>\n",
       "      <td>No</td>\n",
       "      <td>15.6</td>\n",
       "    </tr>\n",
       "    <tr>\n",
       "      <th>3</th>\n",
       "      <td>Apple</td>\n",
       "      <td>Ultrabook</td>\n",
       "      <td>15.4</td>\n",
       "      <td>IPS Panel Retina Display 2880x1800</td>\n",
       "      <td>Intel Core i7 2.7GHz</td>\n",
       "      <td>16GB</td>\n",
       "      <td>512GB SSD</td>\n",
       "      <td>AMD Radeon Pro 455</td>\n",
       "      <td>macOS</td>\n",
       "      <td>1.83kg</td>\n",
       "      <td>135195.3360</td>\n",
       "      <td>Yes</td>\n",
       "      <td>15.6</td>\n",
       "    </tr>\n",
       "    <tr>\n",
       "      <th>4</th>\n",
       "      <td>Apple</td>\n",
       "      <td>Ultrabook</td>\n",
       "      <td>13.3</td>\n",
       "      <td>IPS Panel Retina Display 2560x1600</td>\n",
       "      <td>Intel Core i5 3.1GHz</td>\n",
       "      <td>8GB</td>\n",
       "      <td>256GB SSD</td>\n",
       "      <td>Intel Iris Plus Graphics 650</td>\n",
       "      <td>macOS</td>\n",
       "      <td>1.37kg</td>\n",
       "      <td>96095.8080</td>\n",
       "      <td>Yes</td>\n",
       "      <td>13.3</td>\n",
       "    </tr>\n",
       "  </tbody>\n",
       "</table>\n",
       "</div>"
      ],
      "text/plain": [
       "  Company   TypeName  Inches                    ScreenResolution  \\\n",
       "0   Apple  Ultrabook    13.3  IPS Panel Retina Display 2560x1600   \n",
       "1   Apple  Ultrabook    13.3                            1440x900   \n",
       "2      HP   Notebook    15.6                   Full HD 1920x1080   \n",
       "3   Apple  Ultrabook    15.4  IPS Panel Retina Display 2880x1800   \n",
       "4   Apple  Ultrabook    13.3  IPS Panel Retina Display 2560x1600   \n",
       "\n",
       "                          Cpu   Ram               Memory  \\\n",
       "0        Intel Core i5 2.3GHz   8GB            128GB SSD   \n",
       "1        Intel Core i5 1.8GHz   8GB  128GB Flash Storage   \n",
       "2  Intel Core i5 7200U 2.5GHz   8GB            256GB SSD   \n",
       "3        Intel Core i7 2.7GHz  16GB            512GB SSD   \n",
       "4        Intel Core i5 3.1GHz   8GB            256GB SSD   \n",
       "\n",
       "                            Gpu  OpSys  Weight        Price High_segment  \\\n",
       "0  Intel Iris Plus Graphics 640  macOS  1.37kg   71378.6832          Yes   \n",
       "1        Intel HD Graphics 6000  macOS  1.34kg   47895.5232          Yes   \n",
       "2         Intel HD Graphics 620  No OS  1.86kg   30636.0000           No   \n",
       "3            AMD Radeon Pro 455  macOS  1.83kg  135195.3360          Yes   \n",
       "4  Intel Iris Plus Graphics 650  macOS  1.37kg   96095.8080          Yes   \n",
       "\n",
       "  Inches_bins  \n",
       "0        13.3  \n",
       "1        13.3  \n",
       "2        15.6  \n",
       "3        15.6  \n",
       "4        13.3  "
      ]
     },
     "execution_count": 27,
     "metadata": {},
     "output_type": "execute_result"
    }
   ],
   "source": [
    "df.head()"
   ]
  },
  {
   "cell_type": "markdown",
   "id": "f1cb2be4",
   "metadata": {},
   "source": [
    "### Screen resolution"
   ]
  },
  {
   "cell_type": "code",
   "execution_count": 28,
   "id": "954a057f",
   "metadata": {
    "colab": {
     "base_uri": "https://localhost:8080/",
     "height": 363
    },
    "executionInfo": {
     "elapsed": 32,
     "status": "ok",
     "timestamp": 1671692399149,
     "user": {
      "displayName": "Himanshu Arora",
      "userId": "03026800847751892488"
     },
     "user_tz": -330
    },
    "id": "954a057f",
    "outputId": "b2b80236-62a7-4b47-d58a-1cdbfd7bb106"
   },
   "outputs": [
    {
     "data": {
      "text/html": [
       "<div>\n",
       "<style scoped>\n",
       "    .dataframe tbody tr th:only-of-type {\n",
       "        vertical-align: middle;\n",
       "    }\n",
       "\n",
       "    .dataframe tbody tr th {\n",
       "        vertical-align: top;\n",
       "    }\n",
       "\n",
       "    .dataframe thead th {\n",
       "        text-align: right;\n",
       "    }\n",
       "</style>\n",
       "<table border=\"1\" class=\"dataframe\">\n",
       "  <thead>\n",
       "    <tr style=\"text-align: right;\">\n",
       "      <th></th>\n",
       "      <th>TypeName</th>\n",
       "      <th>ScreenResolution</th>\n",
       "      <th>Price</th>\n",
       "    </tr>\n",
       "  </thead>\n",
       "  <tbody>\n",
       "    <tr>\n",
       "      <th>196</th>\n",
       "      <td>Gaming</td>\n",
       "      <td>4K Ultra HD / Touchscreen 3840x2160</td>\n",
       "      <td>324954.720</td>\n",
       "    </tr>\n",
       "    <tr>\n",
       "      <th>830</th>\n",
       "      <td>Gaming</td>\n",
       "      <td>4K Ultra HD / Touchscreen 3840x2160</td>\n",
       "      <td>292986.720</td>\n",
       "    </tr>\n",
       "    <tr>\n",
       "      <th>610</th>\n",
       "      <td>Notebook</td>\n",
       "      <td>IPS Panel 4K Ultra HD 3840x2160</td>\n",
       "      <td>261018.720</td>\n",
       "    </tr>\n",
       "    <tr>\n",
       "      <th>749</th>\n",
       "      <td>Workstation</td>\n",
       "      <td>IPS Panel Full HD 1920x1080</td>\n",
       "      <td>233845.920</td>\n",
       "    </tr>\n",
       "    <tr>\n",
       "      <th>1066</th>\n",
       "      <td>Gaming</td>\n",
       "      <td>IPS Panel Full HD 1920x1080</td>\n",
       "      <td>211788.000</td>\n",
       "    </tr>\n",
       "    <tr>\n",
       "      <th>1136</th>\n",
       "      <td>Workstation</td>\n",
       "      <td>IPS Panel Full HD 1920x1080</td>\n",
       "      <td>210424.032</td>\n",
       "    </tr>\n",
       "    <tr>\n",
       "      <th>238</th>\n",
       "      <td>Gaming</td>\n",
       "      <td>Full HD 1920x1080</td>\n",
       "      <td>207259.200</td>\n",
       "    </tr>\n",
       "    <tr>\n",
       "      <th>723</th>\n",
       "      <td>Gaming</td>\n",
       "      <td>4K Ultra HD 3840x2160</td>\n",
       "      <td>194972.832</td>\n",
       "    </tr>\n",
       "    <tr>\n",
       "      <th>780</th>\n",
       "      <td>Gaming</td>\n",
       "      <td>IPS Panel Full HD 1920x1080</td>\n",
       "      <td>191211.264</td>\n",
       "    </tr>\n",
       "    <tr>\n",
       "      <th>1231</th>\n",
       "      <td>Gaming</td>\n",
       "      <td>Full HD 1920x1080</td>\n",
       "      <td>186426.720</td>\n",
       "    </tr>\n",
       "  </tbody>\n",
       "</table>\n",
       "</div>"
      ],
      "text/plain": [
       "         TypeName                     ScreenResolution       Price\n",
       "196        Gaming  4K Ultra HD / Touchscreen 3840x2160  324954.720\n",
       "830        Gaming  4K Ultra HD / Touchscreen 3840x2160  292986.720\n",
       "610      Notebook      IPS Panel 4K Ultra HD 3840x2160  261018.720\n",
       "749   Workstation          IPS Panel Full HD 1920x1080  233845.920\n",
       "1066       Gaming          IPS Panel Full HD 1920x1080  211788.000\n",
       "1136  Workstation          IPS Panel Full HD 1920x1080  210424.032\n",
       "238        Gaming                    Full HD 1920x1080  207259.200\n",
       "723        Gaming                4K Ultra HD 3840x2160  194972.832\n",
       "780        Gaming          IPS Panel Full HD 1920x1080  191211.264\n",
       "1231       Gaming                    Full HD 1920x1080  186426.720"
      ]
     },
     "execution_count": 28,
     "metadata": {},
     "output_type": "execute_result"
    }
   ],
   "source": [
    "df[['TypeName','ScreenResolution',\"Price\"]].sort_values(by='Price',ascending=False).head(10)"
   ]
  },
  {
   "cell_type": "code",
   "execution_count": 29,
   "id": "094f49e6",
   "metadata": {
    "colab": {
     "base_uri": "https://localhost:8080/",
     "height": 363
    },
    "executionInfo": {
     "elapsed": 49,
     "status": "ok",
     "timestamp": 1671692400101,
     "user": {
      "displayName": "Himanshu Arora",
      "userId": "03026800847751892488"
     },
     "user_tz": -330
    },
    "id": "094f49e6",
    "outputId": "87b2e6ee-ac1e-4b86-b304-98038391d792"
   },
   "outputs": [
    {
     "data": {
      "text/html": [
       "<div>\n",
       "<style scoped>\n",
       "    .dataframe tbody tr th:only-of-type {\n",
       "        vertical-align: middle;\n",
       "    }\n",
       "\n",
       "    .dataframe tbody tr th {\n",
       "        vertical-align: top;\n",
       "    }\n",
       "\n",
       "    .dataframe thead th {\n",
       "        text-align: right;\n",
       "    }\n",
       "</style>\n",
       "<table border=\"1\" class=\"dataframe\">\n",
       "  <thead>\n",
       "    <tr style=\"text-align: right;\">\n",
       "      <th></th>\n",
       "      <th>TypeName</th>\n",
       "      <th>ScreenResolution</th>\n",
       "      <th>Price</th>\n",
       "    </tr>\n",
       "  </thead>\n",
       "  <tbody>\n",
       "    <tr>\n",
       "      <th>1102</th>\n",
       "      <td>Notebook</td>\n",
       "      <td>1366x768</td>\n",
       "      <td>11135.520</td>\n",
       "    </tr>\n",
       "    <tr>\n",
       "      <th>1282</th>\n",
       "      <td>Netbook</td>\n",
       "      <td>1366x768</td>\n",
       "      <td>11135.520</td>\n",
       "    </tr>\n",
       "    <tr>\n",
       "      <th>1296</th>\n",
       "      <td>Netbook</td>\n",
       "      <td>1366x768</td>\n",
       "      <td>11135.520</td>\n",
       "    </tr>\n",
       "    <tr>\n",
       "      <th>1268</th>\n",
       "      <td>Netbook</td>\n",
       "      <td>1366x768</td>\n",
       "      <td>11135.520</td>\n",
       "    </tr>\n",
       "    <tr>\n",
       "      <th>791</th>\n",
       "      <td>Notebook</td>\n",
       "      <td>1920x1080</td>\n",
       "      <td>10810.512</td>\n",
       "    </tr>\n",
       "    <tr>\n",
       "      <th>290</th>\n",
       "      <td>Notebook</td>\n",
       "      <td>1366x768</td>\n",
       "      <td>10602.720</td>\n",
       "    </tr>\n",
       "    <tr>\n",
       "      <th>31</th>\n",
       "      <td>Notebook</td>\n",
       "      <td>1366x768</td>\n",
       "      <td>10602.720</td>\n",
       "    </tr>\n",
       "    <tr>\n",
       "      <th>1120</th>\n",
       "      <td>Notebook</td>\n",
       "      <td>Full HD 1920x1080</td>\n",
       "      <td>10442.880</td>\n",
       "    </tr>\n",
       "    <tr>\n",
       "      <th>20</th>\n",
       "      <td>Netbook</td>\n",
       "      <td>1366x768</td>\n",
       "      <td>10224.432</td>\n",
       "    </tr>\n",
       "    <tr>\n",
       "      <th>1215</th>\n",
       "      <td>Netbook</td>\n",
       "      <td>1366x768</td>\n",
       "      <td>9270.720</td>\n",
       "    </tr>\n",
       "  </tbody>\n",
       "</table>\n",
       "</div>"
      ],
      "text/plain": [
       "      TypeName   ScreenResolution      Price\n",
       "1102  Notebook           1366x768  11135.520\n",
       "1282   Netbook           1366x768  11135.520\n",
       "1296   Netbook           1366x768  11135.520\n",
       "1268   Netbook           1366x768  11135.520\n",
       "791   Notebook          1920x1080  10810.512\n",
       "290   Notebook           1366x768  10602.720\n",
       "31    Notebook           1366x768  10602.720\n",
       "1120  Notebook  Full HD 1920x1080  10442.880\n",
       "20     Netbook           1366x768  10224.432\n",
       "1215   Netbook           1366x768   9270.720"
      ]
     },
     "execution_count": 29,
     "metadata": {},
     "output_type": "execute_result"
    }
   ],
   "source": [
    "df[['TypeName','ScreenResolution',\"Price\"]].sort_values(by='Price',ascending=False).tail(10)"
   ]
  },
  {
   "cell_type": "code",
   "execution_count": 30,
   "id": "f398c5f4",
   "metadata": {
    "colab": {
     "base_uri": "https://localhost:8080/"
    },
    "executionInfo": {
     "elapsed": 31,
     "status": "ok",
     "timestamp": 1671692401292,
     "user": {
      "displayName": "Himanshu Arora",
      "userId": "03026800847751892488"
     },
     "user_tz": -330
    },
    "id": "f398c5f4",
    "outputId": "db3e944c-7790-43b5-c897-b30ec5302459"
   },
   "outputs": [
    {
     "data": {
      "text/plain": [
       "Full HD 1920x1080                                507\n",
       "1366x768                                         281\n",
       "IPS Panel Full HD 1920x1080                      230\n",
       "IPS Panel Full HD / Touchscreen 1920x1080         53\n",
       "Full HD / Touchscreen 1920x1080                   47\n",
       "1600x900                                          23\n",
       "Touchscreen 1366x768                              16\n",
       "Quad HD+ / Touchscreen 3200x1800                  15\n",
       "IPS Panel 4K Ultra HD 3840x2160                   12\n",
       "IPS Panel 4K Ultra HD / Touchscreen 3840x2160     11\n",
       "4K Ultra HD / Touchscreen 3840x2160               10\n",
       "4K Ultra HD 3840x2160                              7\n",
       "Touchscreen 2560x1440                              7\n",
       "IPS Panel 1366x768                                 7\n",
       "IPS Panel Quad HD+ / Touchscreen 3200x1800         6\n",
       "IPS Panel Retina Display 2560x1600                 6\n",
       "IPS Panel Retina Display 2304x1440                 6\n",
       "Touchscreen 2256x1504                              6\n",
       "IPS Panel Touchscreen 2560x1440                    5\n",
       "IPS Panel Retina Display 2880x1800                 4\n",
       "IPS Panel Touchscreen 1920x1200                    4\n",
       "1440x900                                           4\n",
       "IPS Panel 2560x1440                                4\n",
       "IPS Panel Quad HD+ 2560x1440                       3\n",
       "Quad HD+ 3200x1800                                 3\n",
       "1920x1080                                          3\n",
       "Touchscreen 2400x1600                              3\n",
       "2560x1440                                          3\n",
       "IPS Panel Touchscreen 1366x768                     3\n",
       "IPS Panel Touchscreen / 4K Ultra HD 3840x2160      2\n",
       "IPS Panel Full HD 2160x1440                        2\n",
       "IPS Panel Quad HD+ 3200x1800                       2\n",
       "IPS Panel Retina Display 2736x1824                 1\n",
       "IPS Panel Full HD 1920x1200                        1\n",
       "IPS Panel Full HD 2560x1440                        1\n",
       "IPS Panel Full HD 1366x768                         1\n",
       "Touchscreen / Full HD 1920x1080                    1\n",
       "Touchscreen / Quad HD+ 3200x1800                   1\n",
       "Touchscreen / 4K Ultra HD 3840x2160                1\n",
       "IPS Panel Touchscreen 2400x1600                    1\n",
       "Name: ScreenResolution, dtype: int64"
      ]
     },
     "execution_count": 30,
     "metadata": {},
     "output_type": "execute_result"
    }
   ],
   "source": [
    "# screen resolutions column\n",
    "\n",
    "df['ScreenResolution'].value_counts()"
   ]
  },
  {
   "cell_type": "code",
   "execution_count": 31,
   "id": "b7495710",
   "metadata": {
    "executionInfo": {
     "elapsed": 32,
     "status": "ok",
     "timestamp": 1671692409194,
     "user": {
      "displayName": "Himanshu Arora",
      "userId": "03026800847751892488"
     },
     "user_tz": -330
    },
    "id": "b7495710"
   },
   "outputs": [],
   "source": [
    "# Extract screen resolution info\n",
    "\n",
    "import re\n",
    "\n",
    "def sep_resolution(text):\n",
    "    pattern = re.compile('\\d{3,}')\n",
    "    resolution = pattern.findall(text)\n",
    "    return resolution\n",
    "\n",
    "df['Horizontal_resolution'] = df['ScreenResolution'].apply(lambda x : sep_resolution(x)[0])\n",
    "df['Vertical_resolution'] = df['ScreenResolution'].apply(lambda x : sep_resolution(x)[1])"
   ]
  },
  {
   "cell_type": "code",
   "execution_count": 32,
   "id": "842888a3",
   "metadata": {
    "colab": {
     "base_uri": "https://localhost:8080/",
     "height": 36
    },
    "executionInfo": {
     "elapsed": 49,
     "status": "ok",
     "timestamp": 1671692412381,
     "user": {
      "displayName": "Himanshu Arora",
      "userId": "03026800847751892488"
     },
     "user_tz": -330
    },
    "id": "842888a3",
    "outputId": "7a993aa2-7003-4a8f-ae94-e1d69cc5f7ad"
   },
   "outputs": [
    {
     "data": {
      "text/plain": [
       "'1440'"
      ]
     },
     "execution_count": 32,
     "metadata": {},
     "output_type": "execute_result"
    }
   ],
   "source": [
    "sep_resolution('2560x1440')[1]"
   ]
  },
  {
   "cell_type": "code",
   "execution_count": 33,
   "id": "5db7a12c",
   "metadata": {
    "colab": {
     "base_uri": "https://localhost:8080/",
     "height": 496
    },
    "executionInfo": {
     "elapsed": 50,
     "status": "ok",
     "timestamp": 1671692415637,
     "user": {
      "displayName": "Himanshu Arora",
      "userId": "03026800847751892488"
     },
     "user_tz": -330
    },
    "id": "5db7a12c",
    "outputId": "16c0132b-66c4-4a78-a377-e2cab60428f1"
   },
   "outputs": [
    {
     "data": {
      "text/html": [
       "<div>\n",
       "<style scoped>\n",
       "    .dataframe tbody tr th:only-of-type {\n",
       "        vertical-align: middle;\n",
       "    }\n",
       "\n",
       "    .dataframe tbody tr th {\n",
       "        vertical-align: top;\n",
       "    }\n",
       "\n",
       "    .dataframe thead th {\n",
       "        text-align: right;\n",
       "    }\n",
       "</style>\n",
       "<table border=\"1\" class=\"dataframe\">\n",
       "  <thead>\n",
       "    <tr style=\"text-align: right;\">\n",
       "      <th></th>\n",
       "      <th>Company</th>\n",
       "      <th>TypeName</th>\n",
       "      <th>Inches</th>\n",
       "      <th>ScreenResolution</th>\n",
       "      <th>Cpu</th>\n",
       "      <th>Ram</th>\n",
       "      <th>Memory</th>\n",
       "      <th>Gpu</th>\n",
       "      <th>OpSys</th>\n",
       "      <th>Weight</th>\n",
       "      <th>Price</th>\n",
       "      <th>High_segment</th>\n",
       "      <th>Inches_bins</th>\n",
       "      <th>Horizontal_resolution</th>\n",
       "      <th>Vertical_resolution</th>\n",
       "    </tr>\n",
       "  </thead>\n",
       "  <tbody>\n",
       "    <tr>\n",
       "      <th>0</th>\n",
       "      <td>Apple</td>\n",
       "      <td>Ultrabook</td>\n",
       "      <td>13.3</td>\n",
       "      <td>IPS Panel Retina Display 2560x1600</td>\n",
       "      <td>Intel Core i5 2.3GHz</td>\n",
       "      <td>8GB</td>\n",
       "      <td>128GB SSD</td>\n",
       "      <td>Intel Iris Plus Graphics 640</td>\n",
       "      <td>macOS</td>\n",
       "      <td>1.37kg</td>\n",
       "      <td>71378.6832</td>\n",
       "      <td>Yes</td>\n",
       "      <td>13.3</td>\n",
       "      <td>2560</td>\n",
       "      <td>1600</td>\n",
       "    </tr>\n",
       "    <tr>\n",
       "      <th>1</th>\n",
       "      <td>Apple</td>\n",
       "      <td>Ultrabook</td>\n",
       "      <td>13.3</td>\n",
       "      <td>1440x900</td>\n",
       "      <td>Intel Core i5 1.8GHz</td>\n",
       "      <td>8GB</td>\n",
       "      <td>128GB Flash Storage</td>\n",
       "      <td>Intel HD Graphics 6000</td>\n",
       "      <td>macOS</td>\n",
       "      <td>1.34kg</td>\n",
       "      <td>47895.5232</td>\n",
       "      <td>Yes</td>\n",
       "      <td>13.3</td>\n",
       "      <td>1440</td>\n",
       "      <td>900</td>\n",
       "    </tr>\n",
       "    <tr>\n",
       "      <th>2</th>\n",
       "      <td>HP</td>\n",
       "      <td>Notebook</td>\n",
       "      <td>15.6</td>\n",
       "      <td>Full HD 1920x1080</td>\n",
       "      <td>Intel Core i5 7200U 2.5GHz</td>\n",
       "      <td>8GB</td>\n",
       "      <td>256GB SSD</td>\n",
       "      <td>Intel HD Graphics 620</td>\n",
       "      <td>No OS</td>\n",
       "      <td>1.86kg</td>\n",
       "      <td>30636.0000</td>\n",
       "      <td>No</td>\n",
       "      <td>15.6</td>\n",
       "      <td>1920</td>\n",
       "      <td>1080</td>\n",
       "    </tr>\n",
       "    <tr>\n",
       "      <th>3</th>\n",
       "      <td>Apple</td>\n",
       "      <td>Ultrabook</td>\n",
       "      <td>15.4</td>\n",
       "      <td>IPS Panel Retina Display 2880x1800</td>\n",
       "      <td>Intel Core i7 2.7GHz</td>\n",
       "      <td>16GB</td>\n",
       "      <td>512GB SSD</td>\n",
       "      <td>AMD Radeon Pro 455</td>\n",
       "      <td>macOS</td>\n",
       "      <td>1.83kg</td>\n",
       "      <td>135195.3360</td>\n",
       "      <td>Yes</td>\n",
       "      <td>15.6</td>\n",
       "      <td>2880</td>\n",
       "      <td>1800</td>\n",
       "    </tr>\n",
       "    <tr>\n",
       "      <th>4</th>\n",
       "      <td>Apple</td>\n",
       "      <td>Ultrabook</td>\n",
       "      <td>13.3</td>\n",
       "      <td>IPS Panel Retina Display 2560x1600</td>\n",
       "      <td>Intel Core i5 3.1GHz</td>\n",
       "      <td>8GB</td>\n",
       "      <td>256GB SSD</td>\n",
       "      <td>Intel Iris Plus Graphics 650</td>\n",
       "      <td>macOS</td>\n",
       "      <td>1.37kg</td>\n",
       "      <td>96095.8080</td>\n",
       "      <td>Yes</td>\n",
       "      <td>13.3</td>\n",
       "      <td>2560</td>\n",
       "      <td>1600</td>\n",
       "    </tr>\n",
       "  </tbody>\n",
       "</table>\n",
       "</div>"
      ],
      "text/plain": [
       "  Company   TypeName  Inches                    ScreenResolution  \\\n",
       "0   Apple  Ultrabook    13.3  IPS Panel Retina Display 2560x1600   \n",
       "1   Apple  Ultrabook    13.3                            1440x900   \n",
       "2      HP   Notebook    15.6                   Full HD 1920x1080   \n",
       "3   Apple  Ultrabook    15.4  IPS Panel Retina Display 2880x1800   \n",
       "4   Apple  Ultrabook    13.3  IPS Panel Retina Display 2560x1600   \n",
       "\n",
       "                          Cpu   Ram               Memory  \\\n",
       "0        Intel Core i5 2.3GHz   8GB            128GB SSD   \n",
       "1        Intel Core i5 1.8GHz   8GB  128GB Flash Storage   \n",
       "2  Intel Core i5 7200U 2.5GHz   8GB            256GB SSD   \n",
       "3        Intel Core i7 2.7GHz  16GB            512GB SSD   \n",
       "4        Intel Core i5 3.1GHz   8GB            256GB SSD   \n",
       "\n",
       "                            Gpu  OpSys  Weight        Price High_segment  \\\n",
       "0  Intel Iris Plus Graphics 640  macOS  1.37kg   71378.6832          Yes   \n",
       "1        Intel HD Graphics 6000  macOS  1.34kg   47895.5232          Yes   \n",
       "2         Intel HD Graphics 620  No OS  1.86kg   30636.0000           No   \n",
       "3            AMD Radeon Pro 455  macOS  1.83kg  135195.3360          Yes   \n",
       "4  Intel Iris Plus Graphics 650  macOS  1.37kg   96095.8080          Yes   \n",
       "\n",
       "  Inches_bins Horizontal_resolution Vertical_resolution  \n",
       "0        13.3                  2560                1600  \n",
       "1        13.3                  1440                 900  \n",
       "2        15.6                  1920                1080  \n",
       "3        15.6                  2880                1800  \n",
       "4        13.3                  2560                1600  "
      ]
     },
     "execution_count": 33,
     "metadata": {},
     "output_type": "execute_result"
    }
   ],
   "source": [
    "df.head()"
   ]
  },
  {
   "cell_type": "code",
   "execution_count": 34,
   "id": "7900f1f3",
   "metadata": {
    "colab": {
     "base_uri": "https://localhost:8080/",
     "height": 990
    },
    "executionInfo": {
     "elapsed": 45,
     "status": "ok",
     "timestamp": 1671692421071,
     "user": {
      "displayName": "Himanshu Arora",
      "userId": "03026800847751892488"
     },
     "user_tz": -330
    },
    "id": "7900f1f3",
    "outputId": "2b3499a0-dcff-461a-bc3f-870851ab00c9"
   },
   "outputs": [
    {
     "data": {
      "text/html": [
       "<div>\n",
       "<style scoped>\n",
       "    .dataframe tbody tr th:only-of-type {\n",
       "        vertical-align: middle;\n",
       "    }\n",
       "\n",
       "    .dataframe tbody tr th {\n",
       "        vertical-align: top;\n",
       "    }\n",
       "\n",
       "    .dataframe thead th {\n",
       "        text-align: right;\n",
       "    }\n",
       "</style>\n",
       "<table border=\"1\" class=\"dataframe\">\n",
       "  <thead>\n",
       "    <tr style=\"text-align: right;\">\n",
       "      <th></th>\n",
       "      <th>ScreenResolution</th>\n",
       "      <th>Horizontal_resolution</th>\n",
       "      <th>Vertical_resolution</th>\n",
       "    </tr>\n",
       "  </thead>\n",
       "  <tbody>\n",
       "    <tr>\n",
       "      <th>142</th>\n",
       "      <td>IPS Panel Full HD 1920x1080</td>\n",
       "      <td>1920</td>\n",
       "      <td>1080</td>\n",
       "    </tr>\n",
       "    <tr>\n",
       "      <th>703</th>\n",
       "      <td>Full HD 1920x1080</td>\n",
       "      <td>1920</td>\n",
       "      <td>1080</td>\n",
       "    </tr>\n",
       "    <tr>\n",
       "      <th>338</th>\n",
       "      <td>1366x768</td>\n",
       "      <td>1366</td>\n",
       "      <td>768</td>\n",
       "    </tr>\n",
       "    <tr>\n",
       "      <th>75</th>\n",
       "      <td>Full HD 1920x1080</td>\n",
       "      <td>1920</td>\n",
       "      <td>1080</td>\n",
       "    </tr>\n",
       "    <tr>\n",
       "      <th>400</th>\n",
       "      <td>1366x768</td>\n",
       "      <td>1366</td>\n",
       "      <td>768</td>\n",
       "    </tr>\n",
       "    <tr>\n",
       "      <th>887</th>\n",
       "      <td>Full HD 1920x1080</td>\n",
       "      <td>1920</td>\n",
       "      <td>1080</td>\n",
       "    </tr>\n",
       "    <tr>\n",
       "      <th>391</th>\n",
       "      <td>Full HD 1920x1080</td>\n",
       "      <td>1920</td>\n",
       "      <td>1080</td>\n",
       "    </tr>\n",
       "    <tr>\n",
       "      <th>830</th>\n",
       "      <td>4K Ultra HD / Touchscreen 3840x2160</td>\n",
       "      <td>3840</td>\n",
       "      <td>2160</td>\n",
       "    </tr>\n",
       "    <tr>\n",
       "      <th>927</th>\n",
       "      <td>Full HD 1920x1080</td>\n",
       "      <td>1920</td>\n",
       "      <td>1080</td>\n",
       "    </tr>\n",
       "    <tr>\n",
       "      <th>354</th>\n",
       "      <td>IPS Panel Full HD 1920x1080</td>\n",
       "      <td>1920</td>\n",
       "      <td>1080</td>\n",
       "    </tr>\n",
       "    <tr>\n",
       "      <th>699</th>\n",
       "      <td>IPS Panel Full HD 1920x1080</td>\n",
       "      <td>1920</td>\n",
       "      <td>1080</td>\n",
       "    </tr>\n",
       "    <tr>\n",
       "      <th>1234</th>\n",
       "      <td>1366x768</td>\n",
       "      <td>1366</td>\n",
       "      <td>768</td>\n",
       "    </tr>\n",
       "    <tr>\n",
       "      <th>1287</th>\n",
       "      <td>1366x768</td>\n",
       "      <td>1366</td>\n",
       "      <td>768</td>\n",
       "    </tr>\n",
       "    <tr>\n",
       "      <th>319</th>\n",
       "      <td>1366x768</td>\n",
       "      <td>1366</td>\n",
       "      <td>768</td>\n",
       "    </tr>\n",
       "    <tr>\n",
       "      <th>1110</th>\n",
       "      <td>Quad HD+ / Touchscreen 3200x1800</td>\n",
       "      <td>3200</td>\n",
       "      <td>1800</td>\n",
       "    </tr>\n",
       "    <tr>\n",
       "      <th>1107</th>\n",
       "      <td>IPS Panel Full HD / Touchscreen 1920x1080</td>\n",
       "      <td>1920</td>\n",
       "      <td>1080</td>\n",
       "    </tr>\n",
       "    <tr>\n",
       "      <th>772</th>\n",
       "      <td>IPS Panel 1366x768</td>\n",
       "      <td>1366</td>\n",
       "      <td>768</td>\n",
       "    </tr>\n",
       "    <tr>\n",
       "      <th>730</th>\n",
       "      <td>IPS Panel Full HD 1920x1080</td>\n",
       "      <td>1920</td>\n",
       "      <td>1080</td>\n",
       "    </tr>\n",
       "    <tr>\n",
       "      <th>1026</th>\n",
       "      <td>1366x768</td>\n",
       "      <td>1366</td>\n",
       "      <td>768</td>\n",
       "    </tr>\n",
       "    <tr>\n",
       "      <th>276</th>\n",
       "      <td>Full HD 1920x1080</td>\n",
       "      <td>1920</td>\n",
       "      <td>1080</td>\n",
       "    </tr>\n",
       "    <tr>\n",
       "      <th>953</th>\n",
       "      <td>Full HD 1920x1080</td>\n",
       "      <td>1920</td>\n",
       "      <td>1080</td>\n",
       "    </tr>\n",
       "    <tr>\n",
       "      <th>824</th>\n",
       "      <td>IPS Panel Full HD 1920x1080</td>\n",
       "      <td>1920</td>\n",
       "      <td>1080</td>\n",
       "    </tr>\n",
       "    <tr>\n",
       "      <th>125</th>\n",
       "      <td>1366x768</td>\n",
       "      <td>1366</td>\n",
       "      <td>768</td>\n",
       "    </tr>\n",
       "    <tr>\n",
       "      <th>1283</th>\n",
       "      <td>1366x768</td>\n",
       "      <td>1366</td>\n",
       "      <td>768</td>\n",
       "    </tr>\n",
       "    <tr>\n",
       "      <th>576</th>\n",
       "      <td>Full HD / Touchscreen 1920x1080</td>\n",
       "      <td>1920</td>\n",
       "      <td>1080</td>\n",
       "    </tr>\n",
       "    <tr>\n",
       "      <th>1174</th>\n",
       "      <td>Full HD 1920x1080</td>\n",
       "      <td>1920</td>\n",
       "      <td>1080</td>\n",
       "    </tr>\n",
       "    <tr>\n",
       "      <th>850</th>\n",
       "      <td>1366x768</td>\n",
       "      <td>1366</td>\n",
       "      <td>768</td>\n",
       "    </tr>\n",
       "    <tr>\n",
       "      <th>1184</th>\n",
       "      <td>IPS Panel Full HD 1920x1080</td>\n",
       "      <td>1920</td>\n",
       "      <td>1080</td>\n",
       "    </tr>\n",
       "    <tr>\n",
       "      <th>981</th>\n",
       "      <td>Full HD 1920x1080</td>\n",
       "      <td>1920</td>\n",
       "      <td>1080</td>\n",
       "    </tr>\n",
       "    <tr>\n",
       "      <th>826</th>\n",
       "      <td>Touchscreen / Full HD 1920x1080</td>\n",
       "      <td>1920</td>\n",
       "      <td>1080</td>\n",
       "    </tr>\n",
       "  </tbody>\n",
       "</table>\n",
       "</div>"
      ],
      "text/plain": [
       "                               ScreenResolution Horizontal_resolution  \\\n",
       "142                 IPS Panel Full HD 1920x1080                  1920   \n",
       "703                           Full HD 1920x1080                  1920   \n",
       "338                                    1366x768                  1366   \n",
       "75                            Full HD 1920x1080                  1920   \n",
       "400                                    1366x768                  1366   \n",
       "887                           Full HD 1920x1080                  1920   \n",
       "391                           Full HD 1920x1080                  1920   \n",
       "830         4K Ultra HD / Touchscreen 3840x2160                  3840   \n",
       "927                           Full HD 1920x1080                  1920   \n",
       "354                 IPS Panel Full HD 1920x1080                  1920   \n",
       "699                 IPS Panel Full HD 1920x1080                  1920   \n",
       "1234                                   1366x768                  1366   \n",
       "1287                                   1366x768                  1366   \n",
       "319                                    1366x768                  1366   \n",
       "1110           Quad HD+ / Touchscreen 3200x1800                  3200   \n",
       "1107  IPS Panel Full HD / Touchscreen 1920x1080                  1920   \n",
       "772                          IPS Panel 1366x768                  1366   \n",
       "730                 IPS Panel Full HD 1920x1080                  1920   \n",
       "1026                                   1366x768                  1366   \n",
       "276                           Full HD 1920x1080                  1920   \n",
       "953                           Full HD 1920x1080                  1920   \n",
       "824                 IPS Panel Full HD 1920x1080                  1920   \n",
       "125                                    1366x768                  1366   \n",
       "1283                                   1366x768                  1366   \n",
       "576             Full HD / Touchscreen 1920x1080                  1920   \n",
       "1174                          Full HD 1920x1080                  1920   \n",
       "850                                    1366x768                  1366   \n",
       "1184                IPS Panel Full HD 1920x1080                  1920   \n",
       "981                           Full HD 1920x1080                  1920   \n",
       "826             Touchscreen / Full HD 1920x1080                  1920   \n",
       "\n",
       "     Vertical_resolution  \n",
       "142                 1080  \n",
       "703                 1080  \n",
       "338                  768  \n",
       "75                  1080  \n",
       "400                  768  \n",
       "887                 1080  \n",
       "391                 1080  \n",
       "830                 2160  \n",
       "927                 1080  \n",
       "354                 1080  \n",
       "699                 1080  \n",
       "1234                 768  \n",
       "1287                 768  \n",
       "319                  768  \n",
       "1110                1800  \n",
       "1107                1080  \n",
       "772                  768  \n",
       "730                 1080  \n",
       "1026                 768  \n",
       "276                 1080  \n",
       "953                 1080  \n",
       "824                 1080  \n",
       "125                  768  \n",
       "1283                 768  \n",
       "576                 1080  \n",
       "1174                1080  \n",
       "850                  768  \n",
       "1184                1080  \n",
       "981                 1080  \n",
       "826                 1080  "
      ]
     },
     "execution_count": 34,
     "metadata": {},
     "output_type": "execute_result"
    }
   ],
   "source": [
    "df[['ScreenResolution','Horizontal_resolution','Vertical_resolution']].sample(30)"
   ]
  },
  {
   "cell_type": "code",
   "execution_count": 152,
   "id": "04166b37",
   "metadata": {
    "executionInfo": {
     "elapsed": 27,
     "status": "ok",
     "timestamp": 1671692421075,
     "user": {
      "displayName": "Himanshu Arora",
      "userId": "03026800847751892488"
     },
     "user_tz": -330
    },
    "id": "04166b37"
   },
   "outputs": [],
   "source": [
    "# convert to numerical columns\n",
    "\n",
    "df['Horizontal_resolution'] = df['Horizontal_resolution'].astype('int32')\n",
    "df['Vertical_resolution'] = df['Vertical_resolution'].astype('int32')"
   ]
  },
  {
   "cell_type": "code",
   "execution_count": 153,
   "id": "9d256706",
   "metadata": {
    "colab": {
     "base_uri": "https://localhost:8080/"
    },
    "executionInfo": {
     "elapsed": 697,
     "status": "ok",
     "timestamp": 1671692428175,
     "user": {
      "displayName": "Himanshu Arora",
      "userId": "03026800847751892488"
     },
     "user_tz": -330
    },
    "id": "9d256706",
    "outputId": "d7123ae6-b7e8-4c72-88ea-a33bd8a25385"
   },
   "outputs": [
    {
     "data": {
      "text/plain": [
       "Company                    object\n",
       "TypeName                   object\n",
       "Inches                    float64\n",
       "Ram                         int32\n",
       "Gpu                        object\n",
       "OpSys                      object\n",
       "Weight                     object\n",
       "Price                     float64\n",
       "High_segment               object\n",
       "Inches_bins              category\n",
       "Horizontal_resolution       int32\n",
       "Vertical_resolution         int32\n",
       "High_res                     bool\n",
       "Has_touchscreen              bool\n",
       "Is_IPS                       bool\n",
       "Cpu_model                  object\n",
       "Cpu_clock_freq             object\n",
       "HDD                         int64\n",
       "SSD                         int64\n",
       "Flash                       int64\n",
       "dtype: object"
      ]
     },
     "execution_count": 153,
     "metadata": {},
     "output_type": "execute_result"
    }
   ],
   "source": [
    "df.dtypes"
   ]
  },
  {
   "cell_type": "code",
   "execution_count": 37,
   "id": "f56f47b3",
   "metadata": {
    "executionInfo": {
     "elapsed": 14,
     "status": "ok",
     "timestamp": 1671692429057,
     "user": {
      "displayName": "Himanshu Arora",
      "userId": "03026800847751892488"
     },
     "user_tz": -330
    },
    "id": "f56f47b3"
   },
   "outputs": [],
   "source": [
    "# create a new higher resolution displays column\n",
    "def create_high_res(number):\n",
    "    if number > 1200:\n",
    "        return True\n",
    "    else:\n",
    "        return False\n",
    "    \n",
    "df['High_res'] = df['Vertical_resolution'].apply(lambda x : create_high_res(x))"
   ]
  },
  {
   "cell_type": "code",
   "execution_count": 38,
   "id": "9e937e52",
   "metadata": {
    "colab": {
     "base_uri": "https://localhost:8080/"
    },
    "executionInfo": {
     "elapsed": 19,
     "status": "ok",
     "timestamp": 1671692429677,
     "user": {
      "displayName": "Himanshu Arora",
      "userId": "03026800847751892488"
     },
     "user_tz": -330
    },
    "id": "9e937e52",
    "outputId": "4cfaa2d3-d20a-498c-e1a5-7ca127b876af"
   },
   "outputs": [
    {
     "data": {
      "text/plain": [
       "False    0.90637\n",
       "True     0.09363\n",
       "Name: High_res, dtype: float64"
      ]
     },
     "execution_count": 38,
     "metadata": {},
     "output_type": "execute_result"
    }
   ],
   "source": [
    "# do value counts on high_res displays\n",
    "\n",
    "df['High_res'].value_counts(normalize=True)"
   ]
  },
  {
   "cell_type": "code",
   "execution_count": 39,
   "id": "c806dd4e",
   "metadata": {
    "colab": {
     "base_uri": "https://localhost:8080/",
     "height": 297
    },
    "executionInfo": {
     "elapsed": 896,
     "status": "ok",
     "timestamp": 1671692431404,
     "user": {
      "displayName": "Himanshu Arora",
      "userId": "03026800847751892488"
     },
     "user_tz": -330
    },
    "id": "c806dd4e",
    "outputId": "686b3124-d0e4-474a-ac42-89e92044e9db"
   },
   "outputs": [
    {
     "data": {
      "text/plain": [
       "<AxesSubplot: xlabel='High_res', ylabel='count'>"
      ]
     },
     "execution_count": 39,
     "metadata": {},
     "output_type": "execute_result"
    },
    {
     "data": {
      "image/png": "[encoded data removed]",
      "text/plain": [
       "<Figure size 640x480 with 1 Axes>"
      ]
     },
     "metadata": {},
     "output_type": "display_data"
    }
   ],
   "source": [
    "sns.countplot(x='High_res',data=df,hue=\"High_segment\")"
   ]
  },
  {
   "cell_type": "code",
   "execution_count": 40,
   "id": "l_8YnMZgrKwv",
   "metadata": {
    "colab": {
     "base_uri": "https://localhost:8080/",
     "height": 339
    },
    "executionInfo": {
     "elapsed": 944,
     "status": "ok",
     "timestamp": 1671693326937,
     "user": {
      "displayName": "Himanshu Arora",
      "userId": "03026800847751892488"
     },
     "user_tz": -330
    },
    "id": "l_8YnMZgrKwv",
    "outputId": "325e1552-78c6-41d7-8622-755c28adb9c0"
   },
   "outputs": [
    {
     "data": {
      "image/png": "[encoded data removed]",
      "text/plain": [
       "<Figure size 640x480 with 1 Axes>"
      ]
     },
     "metadata": {},
     "output_type": "display_data"
    }
   ],
   "source": [
    "# check how many high resolution displays are workstations\n",
    "\n",
    "sns.countplot(x='TypeName',data=df,hue='High_res',hue_order=[True,False])\n",
    "plt.xticks(rotation=45)\n",
    "plt.show()"
   ]
  },
  {
   "cell_type": "markdown",
   "id": "3jM1IRLusBk1",
   "metadata": {
    "id": "3jM1IRLusBk1"
   },
   "source": [
    "The Ultrabooks and thin and light convertibles have higher ratio of high resolution displays.   \n",
    "Netbook segment because it is the cheapest option has no high resolution displays."
   ]
  },
  {
   "cell_type": "code",
   "execution_count": 41,
   "id": "ROehuRAOsA4e",
   "metadata": {
    "colab": {
     "base_uri": "https://localhost:8080/"
    },
    "executionInfo": {
     "elapsed": 31,
     "status": "ok",
     "timestamp": 1671693510878,
     "user": {
      "displayName": "Himanshu Arora",
      "userId": "03026800847751892488"
     },
     "user_tz": -330
    },
    "id": "ROehuRAOsA4e",
    "outputId": "28a17c35-aade-4b01-b4fa-96d2a9ac560e"
   },
   "outputs": [
    {
     "data": {
      "text/plain": [
       "0    False\n",
       "1    False\n",
       "2    False\n",
       "3    False\n",
       "4    False\n",
       "5    False\n",
       "6    False\n",
       "7    False\n",
       "8    False\n",
       "9    False\n",
       "Name: ScreenResolution, dtype: bool"
      ]
     },
     "execution_count": 41,
     "metadata": {},
     "output_type": "execute_result"
    }
   ],
   "source": [
    "df['ScreenResolution'].str.contains('Touchscreen').head(10)"
   ]
  },
  {
   "cell_type": "code",
   "execution_count": 42,
   "id": "i0HkNKrRtG1f",
   "metadata": {
    "colab": {
     "base_uri": "https://localhost:8080/"
    },
    "executionInfo": {
     "elapsed": 24,
     "status": "ok",
     "timestamp": 1671693640675,
     "user": {
      "displayName": "Himanshu Arora",
      "userId": "03026800847751892488"
     },
     "user_tz": -330
    },
    "id": "i0HkNKrRtG1f",
    "outputId": "82f4e8ed-e1c4-4fa9-dcc6-6824c04921ea"
   },
   "outputs": [
    {
     "data": {
      "text/plain": [
       "Full HD 1920x1080                                507\n",
       "1366x768                                         281\n",
       "IPS Panel Full HD 1920x1080                      230\n",
       "IPS Panel Full HD / Touchscreen 1920x1080         53\n",
       "Full HD / Touchscreen 1920x1080                   47\n",
       "1600x900                                          23\n",
       "Touchscreen 1366x768                              16\n",
       "Quad HD+ / Touchscreen 3200x1800                  15\n",
       "IPS Panel 4K Ultra HD 3840x2160                   12\n",
       "IPS Panel 4K Ultra HD / Touchscreen 3840x2160     11\n",
       "4K Ultra HD / Touchscreen 3840x2160               10\n",
       "4K Ultra HD 3840x2160                              7\n",
       "Touchscreen 2560x1440                              7\n",
       "IPS Panel 1366x768                                 7\n",
       "IPS Panel Quad HD+ / Touchscreen 3200x1800         6\n",
       "IPS Panel Retina Display 2560x1600                 6\n",
       "IPS Panel Retina Display 2304x1440                 6\n",
       "Touchscreen 2256x1504                              6\n",
       "IPS Panel Touchscreen 2560x1440                    5\n",
       "IPS Panel Retina Display 2880x1800                 4\n",
       "IPS Panel Touchscreen 1920x1200                    4\n",
       "1440x900                                           4\n",
       "IPS Panel 2560x1440                                4\n",
       "IPS Panel Quad HD+ 2560x1440                       3\n",
       "Quad HD+ 3200x1800                                 3\n",
       "1920x1080                                          3\n",
       "Touchscreen 2400x1600                              3\n",
       "2560x1440                                          3\n",
       "IPS Panel Touchscreen 1366x768                     3\n",
       "IPS Panel Touchscreen / 4K Ultra HD 3840x2160      2\n",
       "IPS Panel Full HD 2160x1440                        2\n",
       "IPS Panel Quad HD+ 3200x1800                       2\n",
       "IPS Panel Retina Display 2736x1824                 1\n",
       "IPS Panel Full HD 1920x1200                        1\n",
       "IPS Panel Full HD 2560x1440                        1\n",
       "IPS Panel Full HD 1366x768                         1\n",
       "Touchscreen / Full HD 1920x1080                    1\n",
       "Touchscreen / Quad HD+ 3200x1800                   1\n",
       "Touchscreen / 4K Ultra HD 3840x2160                1\n",
       "IPS Panel Touchscreen 2400x1600                    1\n",
       "Name: ScreenResolution, dtype: int64"
      ]
     },
     "execution_count": 42,
     "metadata": {},
     "output_type": "execute_result"
    }
   ],
   "source": [
    "df['ScreenResolution'].value_counts()"
   ]
  },
  {
   "cell_type": "code",
   "execution_count": 43,
   "id": "84d0b08d",
   "metadata": {
    "executionInfo": {
     "elapsed": 609,
     "status": "ok",
     "timestamp": 1671693760027,
     "user": {
      "displayName": "Himanshu Arora",
      "userId": "03026800847751892488"
     },
     "user_tz": -330
    },
    "id": "84d0b08d"
   },
   "outputs": [],
   "source": [
    "def has_touchscreen(text):\n",
    "  if \"Touchscreen\" in text.split(' '):\n",
    "    return True\n",
    "  else:\n",
    "    return False\n"
   ]
  },
  {
   "cell_type": "code",
   "execution_count": 44,
   "id": "EG1mwbVItWo0",
   "metadata": {
    "executionInfo": {
     "elapsed": 600,
     "status": "ok",
     "timestamp": 1671694462696,
     "user": {
      "displayName": "Himanshu Arora",
      "userId": "03026800847751892488"
     },
     "user_tz": -330
    },
    "id": "EG1mwbVItWo0"
   },
   "outputs": [],
   "source": [
    "# Make touchscreen column\n",
    "\n",
    "df['Has_touchscreen'] = df['ScreenResolution'].apply(lambda x : has_touchscreen(x))"
   ]
  },
  {
   "cell_type": "code",
   "execution_count": 45,
   "id": "EKXT4ylwtkDn",
   "metadata": {
    "colab": {
     "base_uri": "https://localhost:8080/",
     "height": 1000
    },
    "executionInfo": {
     "elapsed": 56,
     "status": "ok",
     "timestamp": 1671693781504,
     "user": {
      "displayName": "Himanshu Arora",
      "userId": "03026800847751892488"
     },
     "user_tz": -330
    },
    "id": "EKXT4ylwtkDn",
    "outputId": "668355b0-748b-46cf-9af1-5d306c7b25dc"
   },
   "outputs": [
    {
     "data": {
      "text/html": [
       "<div>\n",
       "<style scoped>\n",
       "    .dataframe tbody tr th:only-of-type {\n",
       "        vertical-align: middle;\n",
       "    }\n",
       "\n",
       "    .dataframe tbody tr th {\n",
       "        vertical-align: top;\n",
       "    }\n",
       "\n",
       "    .dataframe thead th {\n",
       "        text-align: right;\n",
       "    }\n",
       "</style>\n",
       "<table border=\"1\" class=\"dataframe\">\n",
       "  <thead>\n",
       "    <tr style=\"text-align: right;\">\n",
       "      <th></th>\n",
       "      <th>Company</th>\n",
       "      <th>TypeName</th>\n",
       "      <th>Inches</th>\n",
       "      <th>ScreenResolution</th>\n",
       "      <th>Cpu</th>\n",
       "      <th>Ram</th>\n",
       "      <th>Memory</th>\n",
       "      <th>Gpu</th>\n",
       "      <th>OpSys</th>\n",
       "      <th>Weight</th>\n",
       "      <th>Price</th>\n",
       "      <th>High_segment</th>\n",
       "      <th>Inches_bins</th>\n",
       "      <th>Horizontal_resolution</th>\n",
       "      <th>Vertical_resolution</th>\n",
       "      <th>High_res</th>\n",
       "      <th>Has_touchscreen</th>\n",
       "    </tr>\n",
       "  </thead>\n",
       "  <tbody>\n",
       "    <tr>\n",
       "      <th>0</th>\n",
       "      <td>Apple</td>\n",
       "      <td>Ultrabook</td>\n",
       "      <td>13.3</td>\n",
       "      <td>IPS Panel Retina Display 2560x1600</td>\n",
       "      <td>Intel Core i5 2.3GHz</td>\n",
       "      <td>8GB</td>\n",
       "      <td>128GB SSD</td>\n",
       "      <td>Intel Iris Plus Graphics 640</td>\n",
       "      <td>macOS</td>\n",
       "      <td>1.37kg</td>\n",
       "      <td>71378.6832</td>\n",
       "      <td>Yes</td>\n",
       "      <td>13</td>\n",
       "      <td>2560</td>\n",
       "      <td>1600</td>\n",
       "      <td>True</td>\n",
       "      <td>False</td>\n",
       "    </tr>\n",
       "    <tr>\n",
       "      <th>1</th>\n",
       "      <td>Apple</td>\n",
       "      <td>Ultrabook</td>\n",
       "      <td>13.3</td>\n",
       "      <td>1440x900</td>\n",
       "      <td>Intel Core i5 1.8GHz</td>\n",
       "      <td>8GB</td>\n",
       "      <td>128GB Flash Storage</td>\n",
       "      <td>Intel HD Graphics 6000</td>\n",
       "      <td>macOS</td>\n",
       "      <td>1.34kg</td>\n",
       "      <td>47895.5232</td>\n",
       "      <td>Yes</td>\n",
       "      <td>13</td>\n",
       "      <td>1440</td>\n",
       "      <td>900</td>\n",
       "      <td>False</td>\n",
       "      <td>False</td>\n",
       "    </tr>\n",
       "    <tr>\n",
       "      <th>2</th>\n",
       "      <td>HP</td>\n",
       "      <td>Notebook</td>\n",
       "      <td>15.6</td>\n",
       "      <td>Full HD 1920x1080</td>\n",
       "      <td>Intel Core i5 7200U 2.5GHz</td>\n",
       "      <td>8GB</td>\n",
       "      <td>256GB SSD</td>\n",
       "      <td>Intel HD Graphics 620</td>\n",
       "      <td>No OS</td>\n",
       "      <td>1.86kg</td>\n",
       "      <td>30636.0000</td>\n",
       "      <td>No</td>\n",
       "      <td>15</td>\n",
       "      <td>1920</td>\n",
       "      <td>1080</td>\n",
       "      <td>False</td>\n",
       "      <td>False</td>\n",
       "    </tr>\n",
       "    <tr>\n",
       "      <th>3</th>\n",
       "      <td>Apple</td>\n",
       "      <td>Ultrabook</td>\n",
       "      <td>15.4</td>\n",
       "      <td>IPS Panel Retina Display 2880x1800</td>\n",
       "      <td>Intel Core i7 2.7GHz</td>\n",
       "      <td>16GB</td>\n",
       "      <td>512GB SSD</td>\n",
       "      <td>AMD Radeon Pro 455</td>\n",
       "      <td>macOS</td>\n",
       "      <td>1.83kg</td>\n",
       "      <td>135195.3360</td>\n",
       "      <td>Yes</td>\n",
       "      <td>15</td>\n",
       "      <td>2880</td>\n",
       "      <td>1800</td>\n",
       "      <td>True</td>\n",
       "      <td>False</td>\n",
       "    </tr>\n",
       "    <tr>\n",
       "      <th>4</th>\n",
       "      <td>Apple</td>\n",
       "      <td>Ultrabook</td>\n",
       "      <td>13.3</td>\n",
       "      <td>IPS Panel Retina Display 2560x1600</td>\n",
       "      <td>Intel Core i5 3.1GHz</td>\n",
       "      <td>8GB</td>\n",
       "      <td>256GB SSD</td>\n",
       "      <td>Intel Iris Plus Graphics 650</td>\n",
       "      <td>macOS</td>\n",
       "      <td>1.37kg</td>\n",
       "      <td>96095.8080</td>\n",
       "      <td>Yes</td>\n",
       "      <td>13</td>\n",
       "      <td>2560</td>\n",
       "      <td>1600</td>\n",
       "      <td>True</td>\n",
       "      <td>False</td>\n",
       "    </tr>\n",
       "    <tr>\n",
       "      <th>...</th>\n",
       "      <td>...</td>\n",
       "      <td>...</td>\n",
       "      <td>...</td>\n",
       "      <td>...</td>\n",
       "      <td>...</td>\n",
       "      <td>...</td>\n",
       "      <td>...</td>\n",
       "      <td>...</td>\n",
       "      <td>...</td>\n",
       "      <td>...</td>\n",
       "      <td>...</td>\n",
       "      <td>...</td>\n",
       "      <td>...</td>\n",
       "      <td>...</td>\n",
       "      <td>...</td>\n",
       "      <td>...</td>\n",
       "      <td>...</td>\n",
       "    </tr>\n",
       "    <tr>\n",
       "      <th>1298</th>\n",
       "      <td>Lenovo</td>\n",
       "      <td>2 in 1 Convertible</td>\n",
       "      <td>14.0</td>\n",
       "      <td>IPS Panel Full HD / Touchscreen 1920x1080</td>\n",
       "      <td>Intel Core i7 6500U 2.5GHz</td>\n",
       "      <td>4GB</td>\n",
       "      <td>128GB SSD</td>\n",
       "      <td>Intel HD Graphics 520</td>\n",
       "      <td>Windows 10</td>\n",
       "      <td>1.8kg</td>\n",
       "      <td>33992.6400</td>\n",
       "      <td>No</td>\n",
       "      <td>14</td>\n",
       "      <td>1920</td>\n",
       "      <td>1080</td>\n",
       "      <td>False</td>\n",
       "      <td>True</td>\n",
       "    </tr>\n",
       "    <tr>\n",
       "      <th>1299</th>\n",
       "      <td>Lenovo</td>\n",
       "      <td>2 in 1 Convertible</td>\n",
       "      <td>13.3</td>\n",
       "      <td>IPS Panel Quad HD+ / Touchscreen 3200x1800</td>\n",
       "      <td>Intel Core i7 6500U 2.5GHz</td>\n",
       "      <td>16GB</td>\n",
       "      <td>512GB SSD</td>\n",
       "      <td>Intel HD Graphics 520</td>\n",
       "      <td>Windows 10</td>\n",
       "      <td>1.3kg</td>\n",
       "      <td>79866.7200</td>\n",
       "      <td>No</td>\n",
       "      <td>13</td>\n",
       "      <td>3200</td>\n",
       "      <td>1800</td>\n",
       "      <td>True</td>\n",
       "      <td>True</td>\n",
       "    </tr>\n",
       "    <tr>\n",
       "      <th>1300</th>\n",
       "      <td>Lenovo</td>\n",
       "      <td>Notebook</td>\n",
       "      <td>14.0</td>\n",
       "      <td>1366x768</td>\n",
       "      <td>Intel Celeron Dual Core N3050 1.6GHz</td>\n",
       "      <td>2GB</td>\n",
       "      <td>64GB Flash Storage</td>\n",
       "      <td>Intel HD Graphics</td>\n",
       "      <td>Windows 10</td>\n",
       "      <td>1.5kg</td>\n",
       "      <td>12201.1200</td>\n",
       "      <td>No</td>\n",
       "      <td>14</td>\n",
       "      <td>1366</td>\n",
       "      <td>768</td>\n",
       "      <td>False</td>\n",
       "      <td>False</td>\n",
       "    </tr>\n",
       "    <tr>\n",
       "      <th>1301</th>\n",
       "      <td>HP</td>\n",
       "      <td>Notebook</td>\n",
       "      <td>15.6</td>\n",
       "      <td>1366x768</td>\n",
       "      <td>Intel Core i7 6500U 2.5GHz</td>\n",
       "      <td>6GB</td>\n",
       "      <td>1TB HDD</td>\n",
       "      <td>AMD Radeon R5 M330</td>\n",
       "      <td>Windows 10</td>\n",
       "      <td>2.19kg</td>\n",
       "      <td>40705.9200</td>\n",
       "      <td>No</td>\n",
       "      <td>15</td>\n",
       "      <td>1366</td>\n",
       "      <td>768</td>\n",
       "      <td>False</td>\n",
       "      <td>False</td>\n",
       "    </tr>\n",
       "    <tr>\n",
       "      <th>1302</th>\n",
       "      <td>Asus</td>\n",
       "      <td>Notebook</td>\n",
       "      <td>15.6</td>\n",
       "      <td>1366x768</td>\n",
       "      <td>Intel Celeron Dual Core N3050 1.6GHz</td>\n",
       "      <td>4GB</td>\n",
       "      <td>500GB HDD</td>\n",
       "      <td>Intel HD Graphics</td>\n",
       "      <td>Windows 10</td>\n",
       "      <td>2.2kg</td>\n",
       "      <td>19660.3200</td>\n",
       "      <td>No</td>\n",
       "      <td>15</td>\n",
       "      <td>1366</td>\n",
       "      <td>768</td>\n",
       "      <td>False</td>\n",
       "      <td>False</td>\n",
       "    </tr>\n",
       "  </tbody>\n",
       "</table>\n",
       "<p>1303 rows × 17 columns</p>\n",
       "</div>"
      ],
      "text/plain": [
       "     Company            TypeName  Inches  \\\n",
       "0      Apple           Ultrabook    13.3   \n",
       "1      Apple           Ultrabook    13.3   \n",
       "2         HP            Notebook    15.6   \n",
       "3      Apple           Ultrabook    15.4   \n",
       "4      Apple           Ultrabook    13.3   \n",
       "...      ...                 ...     ...   \n",
       "1298  Lenovo  2 in 1 Convertible    14.0   \n",
       "1299  Lenovo  2 in 1 Convertible    13.3   \n",
       "1300  Lenovo            Notebook    14.0   \n",
       "1301      HP            Notebook    15.6   \n",
       "1302    Asus            Notebook    15.6   \n",
       "\n",
       "                                ScreenResolution  \\\n",
       "0             IPS Panel Retina Display 2560x1600   \n",
       "1                                       1440x900   \n",
       "2                              Full HD 1920x1080   \n",
       "3             IPS Panel Retina Display 2880x1800   \n",
       "4             IPS Panel Retina Display 2560x1600   \n",
       "...                                          ...   \n",
       "1298   IPS Panel Full HD / Touchscreen 1920x1080   \n",
       "1299  IPS Panel Quad HD+ / Touchscreen 3200x1800   \n",
       "1300                                    1366x768   \n",
       "1301                                    1366x768   \n",
       "1302                                    1366x768   \n",
       "\n",
       "                                       Cpu   Ram               Memory  \\\n",
       "0                     Intel Core i5 2.3GHz   8GB            128GB SSD   \n",
       "1                     Intel Core i5 1.8GHz   8GB  128GB Flash Storage   \n",
       "2               Intel Core i5 7200U 2.5GHz   8GB            256GB SSD   \n",
       "3                     Intel Core i7 2.7GHz  16GB            512GB SSD   \n",
       "4                     Intel Core i5 3.1GHz   8GB            256GB SSD   \n",
       "...                                    ...   ...                  ...   \n",
       "1298            Intel Core i7 6500U 2.5GHz   4GB            128GB SSD   \n",
       "1299            Intel Core i7 6500U 2.5GHz  16GB            512GB SSD   \n",
       "1300  Intel Celeron Dual Core N3050 1.6GHz   2GB   64GB Flash Storage   \n",
       "1301            Intel Core i7 6500U 2.5GHz   6GB              1TB HDD   \n",
       "1302  Intel Celeron Dual Core N3050 1.6GHz   4GB            500GB HDD   \n",
       "\n",
       "                               Gpu       OpSys  Weight        Price  \\\n",
       "0     Intel Iris Plus Graphics 640       macOS  1.37kg   71378.6832   \n",
       "1           Intel HD Graphics 6000       macOS  1.34kg   47895.5232   \n",
       "2            Intel HD Graphics 620       No OS  1.86kg   30636.0000   \n",
       "3               AMD Radeon Pro 455       macOS  1.83kg  135195.3360   \n",
       "4     Intel Iris Plus Graphics 650       macOS  1.37kg   96095.8080   \n",
       "...                            ...         ...     ...          ...   \n",
       "1298         Intel HD Graphics 520  Windows 10   1.8kg   33992.6400   \n",
       "1299         Intel HD Graphics 520  Windows 10   1.3kg   79866.7200   \n",
       "1300             Intel HD Graphics  Windows 10   1.5kg   12201.1200   \n",
       "1301            AMD Radeon R5 M330  Windows 10  2.19kg   40705.9200   \n",
       "1302             Intel HD Graphics  Windows 10   2.2kg   19660.3200   \n",
       "\n",
       "     High_segment  Inches_bins  Horizontal_resolution  Vertical_resolution  \\\n",
       "0             Yes           13                   2560                 1600   \n",
       "1             Yes           13                   1440                  900   \n",
       "2              No           15                   1920                 1080   \n",
       "3             Yes           15                   2880                 1800   \n",
       "4             Yes           13                   2560                 1600   \n",
       "...           ...          ...                    ...                  ...   \n",
       "1298           No           14                   1920                 1080   \n",
       "1299           No           13                   3200                 1800   \n",
       "1300           No           14                   1366                  768   \n",
       "1301           No           15                   1366                  768   \n",
       "1302           No           15                   1366                  768   \n",
       "\n",
       "      High_res  Has_touchscreen  \n",
       "0         True            False  \n",
       "1        False            False  \n",
       "2        False            False  \n",
       "3         True            False  \n",
       "4         True            False  \n",
       "...        ...              ...  \n",
       "1298     False             True  \n",
       "1299      True             True  \n",
       "1300     False            False  \n",
       "1301     False            False  \n",
       "1302     False            False  \n",
       "\n",
       "[1303 rows x 17 columns]"
      ]
     },
     "execution_count": 45,
     "metadata": {},
     "output_type": "execute_result"
    }
   ],
   "source": [
    "df"
   ]
  },
  {
   "cell_type": "code",
   "execution_count": 46,
   "id": "T_SkS6jetr2a",
   "metadata": {
    "colab": {
     "base_uri": "https://localhost:8080/",
     "height": 990
    },
    "executionInfo": {
     "elapsed": 45,
     "status": "ok",
     "timestamp": 1671693838814,
     "user": {
      "displayName": "Himanshu Arora",
      "userId": "03026800847751892488"
     },
     "user_tz": -330
    },
    "id": "T_SkS6jetr2a",
    "outputId": "33d86dbe-9664-44d0-af35-4bcfedecdf01"
   },
   "outputs": [
    {
     "data": {
      "text/html": [
       "<div>\n",
       "<style scoped>\n",
       "    .dataframe tbody tr th:only-of-type {\n",
       "        vertical-align: middle;\n",
       "    }\n",
       "\n",
       "    .dataframe tbody tr th {\n",
       "        vertical-align: top;\n",
       "    }\n",
       "\n",
       "    .dataframe thead th {\n",
       "        text-align: right;\n",
       "    }\n",
       "</style>\n",
       "<table border=\"1\" class=\"dataframe\">\n",
       "  <thead>\n",
       "    <tr style=\"text-align: right;\">\n",
       "      <th></th>\n",
       "      <th>ScreenResolution</th>\n",
       "      <th>Has_touchscreen</th>\n",
       "    </tr>\n",
       "  </thead>\n",
       "  <tbody>\n",
       "    <tr>\n",
       "      <th>762</th>\n",
       "      <td>Touchscreen 2400x1600</td>\n",
       "      <td>True</td>\n",
       "    </tr>\n",
       "    <tr>\n",
       "      <th>1274</th>\n",
       "      <td>1366x768</td>\n",
       "      <td>False</td>\n",
       "    </tr>\n",
       "    <tr>\n",
       "      <th>645</th>\n",
       "      <td>1366x768</td>\n",
       "      <td>False</td>\n",
       "    </tr>\n",
       "    <tr>\n",
       "      <th>563</th>\n",
       "      <td>IPS Panel Full HD 1920x1080</td>\n",
       "      <td>False</td>\n",
       "    </tr>\n",
       "    <tr>\n",
       "      <th>1093</th>\n",
       "      <td>IPS Panel Full HD 1920x1080</td>\n",
       "      <td>False</td>\n",
       "    </tr>\n",
       "    <tr>\n",
       "      <th>410</th>\n",
       "      <td>Full HD 1920x1080</td>\n",
       "      <td>False</td>\n",
       "    </tr>\n",
       "    <tr>\n",
       "      <th>208</th>\n",
       "      <td>Full HD 1920x1080</td>\n",
       "      <td>False</td>\n",
       "    </tr>\n",
       "    <tr>\n",
       "      <th>1036</th>\n",
       "      <td>1366x768</td>\n",
       "      <td>False</td>\n",
       "    </tr>\n",
       "    <tr>\n",
       "      <th>1160</th>\n",
       "      <td>Full HD 1920x1080</td>\n",
       "      <td>False</td>\n",
       "    </tr>\n",
       "    <tr>\n",
       "      <th>907</th>\n",
       "      <td>IPS Panel Full HD 1920x1080</td>\n",
       "      <td>False</td>\n",
       "    </tr>\n",
       "    <tr>\n",
       "      <th>609</th>\n",
       "      <td>1366x768</td>\n",
       "      <td>False</td>\n",
       "    </tr>\n",
       "    <tr>\n",
       "      <th>588</th>\n",
       "      <td>Touchscreen 1366x768</td>\n",
       "      <td>True</td>\n",
       "    </tr>\n",
       "    <tr>\n",
       "      <th>309</th>\n",
       "      <td>Full HD 1920x1080</td>\n",
       "      <td>False</td>\n",
       "    </tr>\n",
       "    <tr>\n",
       "      <th>135</th>\n",
       "      <td>Full HD 1920x1080</td>\n",
       "      <td>False</td>\n",
       "    </tr>\n",
       "    <tr>\n",
       "      <th>1248</th>\n",
       "      <td>IPS Panel Full HD 1920x1080</td>\n",
       "      <td>False</td>\n",
       "    </tr>\n",
       "    <tr>\n",
       "      <th>108</th>\n",
       "      <td>Full HD 1920x1080</td>\n",
       "      <td>False</td>\n",
       "    </tr>\n",
       "    <tr>\n",
       "      <th>705</th>\n",
       "      <td>Full HD 1920x1080</td>\n",
       "      <td>False</td>\n",
       "    </tr>\n",
       "    <tr>\n",
       "      <th>914</th>\n",
       "      <td>Full HD 1920x1080</td>\n",
       "      <td>False</td>\n",
       "    </tr>\n",
       "    <tr>\n",
       "      <th>576</th>\n",
       "      <td>Full HD / Touchscreen 1920x1080</td>\n",
       "      <td>True</td>\n",
       "    </tr>\n",
       "    <tr>\n",
       "      <th>122</th>\n",
       "      <td>Full HD 1920x1080</td>\n",
       "      <td>False</td>\n",
       "    </tr>\n",
       "    <tr>\n",
       "      <th>1288</th>\n",
       "      <td>1366x768</td>\n",
       "      <td>False</td>\n",
       "    </tr>\n",
       "    <tr>\n",
       "      <th>972</th>\n",
       "      <td>Full HD 1920x1080</td>\n",
       "      <td>False</td>\n",
       "    </tr>\n",
       "    <tr>\n",
       "      <th>436</th>\n",
       "      <td>1366x768</td>\n",
       "      <td>False</td>\n",
       "    </tr>\n",
       "    <tr>\n",
       "      <th>893</th>\n",
       "      <td>IPS Panel Full HD 1920x1080</td>\n",
       "      <td>False</td>\n",
       "    </tr>\n",
       "    <tr>\n",
       "      <th>306</th>\n",
       "      <td>Full HD / Touchscreen 1920x1080</td>\n",
       "      <td>True</td>\n",
       "    </tr>\n",
       "    <tr>\n",
       "      <th>991</th>\n",
       "      <td>Full HD 1920x1080</td>\n",
       "      <td>False</td>\n",
       "    </tr>\n",
       "    <tr>\n",
       "      <th>1138</th>\n",
       "      <td>Full HD 1920x1080</td>\n",
       "      <td>False</td>\n",
       "    </tr>\n",
       "    <tr>\n",
       "      <th>98</th>\n",
       "      <td>Full HD 1920x1080</td>\n",
       "      <td>False</td>\n",
       "    </tr>\n",
       "    <tr>\n",
       "      <th>1080</th>\n",
       "      <td>IPS Panel Touchscreen 2560x1440</td>\n",
       "      <td>True</td>\n",
       "    </tr>\n",
       "    <tr>\n",
       "      <th>1062</th>\n",
       "      <td>Full HD 1920x1080</td>\n",
       "      <td>False</td>\n",
       "    </tr>\n",
       "  </tbody>\n",
       "</table>\n",
       "</div>"
      ],
      "text/plain": [
       "                     ScreenResolution  Has_touchscreen\n",
       "762             Touchscreen 2400x1600             True\n",
       "1274                         1366x768            False\n",
       "645                          1366x768            False\n",
       "563       IPS Panel Full HD 1920x1080            False\n",
       "1093      IPS Panel Full HD 1920x1080            False\n",
       "410                 Full HD 1920x1080            False\n",
       "208                 Full HD 1920x1080            False\n",
       "1036                         1366x768            False\n",
       "1160                Full HD 1920x1080            False\n",
       "907       IPS Panel Full HD 1920x1080            False\n",
       "609                          1366x768            False\n",
       "588              Touchscreen 1366x768             True\n",
       "309                 Full HD 1920x1080            False\n",
       "135                 Full HD 1920x1080            False\n",
       "1248      IPS Panel Full HD 1920x1080            False\n",
       "108                 Full HD 1920x1080            False\n",
       "705                 Full HD 1920x1080            False\n",
       "914                 Full HD 1920x1080            False\n",
       "576   Full HD / Touchscreen 1920x1080             True\n",
       "122                 Full HD 1920x1080            False\n",
       "1288                         1366x768            False\n",
       "972                 Full HD 1920x1080            False\n",
       "436                          1366x768            False\n",
       "893       IPS Panel Full HD 1920x1080            False\n",
       "306   Full HD / Touchscreen 1920x1080             True\n",
       "991                 Full HD 1920x1080            False\n",
       "1138                Full HD 1920x1080            False\n",
       "98                  Full HD 1920x1080            False\n",
       "1080  IPS Panel Touchscreen 2560x1440             True\n",
       "1062                Full HD 1920x1080            False"
      ]
     },
     "execution_count": 46,
     "metadata": {},
     "output_type": "execute_result"
    }
   ],
   "source": [
    "df[['ScreenResolution','Has_touchscreen']].sample(30)"
   ]
  },
  {
   "cell_type": "code",
   "execution_count": 47,
   "id": "pCMqx2Bkt6NA",
   "metadata": {
    "colab": {
     "base_uri": "https://localhost:8080/"
    },
    "executionInfo": {
     "elapsed": 34,
     "status": "ok",
     "timestamp": 1671693885374,
     "user": {
      "displayName": "Himanshu Arora",
      "userId": "03026800847751892488"
     },
     "user_tz": -330
    },
    "id": "pCMqx2Bkt6NA",
    "outputId": "42947e3c-bc80-4b9c-cdb2-0b105ad02c8b"
   },
   "outputs": [
    {
     "data": {
      "text/plain": [
       "192"
      ]
     },
     "execution_count": 47,
     "metadata": {},
     "output_type": "execute_result"
    }
   ],
   "source": [
    "df['ScreenResolution'].str.contains('Touchscreen').sum()"
   ]
  },
  {
   "cell_type": "code",
   "execution_count": 48,
   "id": "4uw_OU2IuFZ9",
   "metadata": {
    "colab": {
     "base_uri": "https://localhost:8080/"
    },
    "executionInfo": {
     "elapsed": 599,
     "status": "ok",
     "timestamp": 1671693897830,
     "user": {
      "displayName": "Himanshu Arora",
      "userId": "03026800847751892488"
     },
     "user_tz": -330
    },
    "id": "4uw_OU2IuFZ9",
    "outputId": "8f530565-8827-4537-ad47-b076cbfcce79"
   },
   "outputs": [
    {
     "data": {
      "text/plain": [
       "192"
      ]
     },
     "execution_count": 48,
     "metadata": {},
     "output_type": "execute_result"
    }
   ],
   "source": [
    "df['Has_touchscreen'].sum()"
   ]
  },
  {
   "cell_type": "code",
   "execution_count": 49,
   "id": "Rs8Ka4I7uIjT",
   "metadata": {
    "executionInfo": {
     "elapsed": 39,
     "status": "ok",
     "timestamp": 1671694144706,
     "user": {
      "displayName": "Himanshu Arora",
      "userId": "03026800847751892488"
     },
     "user_tz": -330
    },
    "id": "Rs8Ka4I7uIjT"
   },
   "outputs": [],
   "source": [
    "def is_ips(text):\n",
    "  if 'IPS' in text.split(' '):\n",
    "    return True\n",
    "  else:\n",
    "    return False\n"
   ]
  },
  {
   "cell_type": "code",
   "execution_count": 50,
   "id": "5I5w5vFNvE8X",
   "metadata": {
    "executionInfo": {
     "elapsed": 557,
     "status": "ok",
     "timestamp": 1671694234380,
     "user": {
      "displayName": "Himanshu Arora",
      "userId": "03026800847751892488"
     },
     "user_tz": -330
    },
    "id": "5I5w5vFNvE8X"
   },
   "outputs": [],
   "source": [
    "# check if the display is IPS\n",
    "\n",
    "df['Is_IPS'] = df['ScreenResolution'].apply(lambda x : is_ips(x))"
   ]
  },
  {
   "cell_type": "code",
   "execution_count": 51,
   "id": "j6W1RI2cvatq",
   "metadata": {
    "colab": {
     "base_uri": "https://localhost:8080/",
     "height": 496
    },
    "executionInfo": {
     "elapsed": 53,
     "status": "ok",
     "timestamp": 1671694254059,
     "user": {
      "displayName": "Himanshu Arora",
      "userId": "03026800847751892488"
     },
     "user_tz": -330
    },
    "id": "j6W1RI2cvatq",
    "outputId": "181e5801-430d-4f84-9efa-6097b9eac0ba"
   },
   "outputs": [
    {
     "data": {
      "text/html": [
       "<div>\n",
       "<style scoped>\n",
       "    .dataframe tbody tr th:only-of-type {\n",
       "        vertical-align: middle;\n",
       "    }\n",
       "\n",
       "    .dataframe tbody tr th {\n",
       "        vertical-align: top;\n",
       "    }\n",
       "\n",
       "    .dataframe thead th {\n",
       "        text-align: right;\n",
       "    }\n",
       "</style>\n",
       "<table border=\"1\" class=\"dataframe\">\n",
       "  <thead>\n",
       "    <tr style=\"text-align: right;\">\n",
       "      <th></th>\n",
       "      <th>Company</th>\n",
       "      <th>TypeName</th>\n",
       "      <th>Inches</th>\n",
       "      <th>ScreenResolution</th>\n",
       "      <th>Cpu</th>\n",
       "      <th>Ram</th>\n",
       "      <th>Memory</th>\n",
       "      <th>Gpu</th>\n",
       "      <th>OpSys</th>\n",
       "      <th>Weight</th>\n",
       "      <th>Price</th>\n",
       "      <th>High_segment</th>\n",
       "      <th>Inches_bins</th>\n",
       "      <th>Horizontal_resolution</th>\n",
       "      <th>Vertical_resolution</th>\n",
       "      <th>High_res</th>\n",
       "      <th>Has_touchscreen</th>\n",
       "      <th>Is_IPS</th>\n",
       "    </tr>\n",
       "  </thead>\n",
       "  <tbody>\n",
       "    <tr>\n",
       "      <th>0</th>\n",
       "      <td>Apple</td>\n",
       "      <td>Ultrabook</td>\n",
       "      <td>13.3</td>\n",
       "      <td>IPS Panel Retina Display 2560x1600</td>\n",
       "      <td>Intel Core i5 2.3GHz</td>\n",
       "      <td>8GB</td>\n",
       "      <td>128GB SSD</td>\n",
       "      <td>Intel Iris Plus Graphics 640</td>\n",
       "      <td>macOS</td>\n",
       "      <td>1.37kg</td>\n",
       "      <td>71378.6832</td>\n",
       "      <td>Yes</td>\n",
       "      <td>13</td>\n",
       "      <td>2560</td>\n",
       "      <td>1600</td>\n",
       "      <td>True</td>\n",
       "      <td>False</td>\n",
       "      <td>True</td>\n",
       "    </tr>\n",
       "    <tr>\n",
       "      <th>1</th>\n",
       "      <td>Apple</td>\n",
       "      <td>Ultrabook</td>\n",
       "      <td>13.3</td>\n",
       "      <td>1440x900</td>\n",
       "      <td>Intel Core i5 1.8GHz</td>\n",
       "      <td>8GB</td>\n",
       "      <td>128GB Flash Storage</td>\n",
       "      <td>Intel HD Graphics 6000</td>\n",
       "      <td>macOS</td>\n",
       "      <td>1.34kg</td>\n",
       "      <td>47895.5232</td>\n",
       "      <td>Yes</td>\n",
       "      <td>13</td>\n",
       "      <td>1440</td>\n",
       "      <td>900</td>\n",
       "      <td>False</td>\n",
       "      <td>False</td>\n",
       "      <td>False</td>\n",
       "    </tr>\n",
       "    <tr>\n",
       "      <th>2</th>\n",
       "      <td>HP</td>\n",
       "      <td>Notebook</td>\n",
       "      <td>15.6</td>\n",
       "      <td>Full HD 1920x1080</td>\n",
       "      <td>Intel Core i5 7200U 2.5GHz</td>\n",
       "      <td>8GB</td>\n",
       "      <td>256GB SSD</td>\n",
       "      <td>Intel HD Graphics 620</td>\n",
       "      <td>No OS</td>\n",
       "      <td>1.86kg</td>\n",
       "      <td>30636.0000</td>\n",
       "      <td>No</td>\n",
       "      <td>15</td>\n",
       "      <td>1920</td>\n",
       "      <td>1080</td>\n",
       "      <td>False</td>\n",
       "      <td>False</td>\n",
       "      <td>False</td>\n",
       "    </tr>\n",
       "    <tr>\n",
       "      <th>3</th>\n",
       "      <td>Apple</td>\n",
       "      <td>Ultrabook</td>\n",
       "      <td>15.4</td>\n",
       "      <td>IPS Panel Retina Display 2880x1800</td>\n",
       "      <td>Intel Core i7 2.7GHz</td>\n",
       "      <td>16GB</td>\n",
       "      <td>512GB SSD</td>\n",
       "      <td>AMD Radeon Pro 455</td>\n",
       "      <td>macOS</td>\n",
       "      <td>1.83kg</td>\n",
       "      <td>135195.3360</td>\n",
       "      <td>Yes</td>\n",
       "      <td>15</td>\n",
       "      <td>2880</td>\n",
       "      <td>1800</td>\n",
       "      <td>True</td>\n",
       "      <td>False</td>\n",
       "      <td>True</td>\n",
       "    </tr>\n",
       "    <tr>\n",
       "      <th>4</th>\n",
       "      <td>Apple</td>\n",
       "      <td>Ultrabook</td>\n",
       "      <td>13.3</td>\n",
       "      <td>IPS Panel Retina Display 2560x1600</td>\n",
       "      <td>Intel Core i5 3.1GHz</td>\n",
       "      <td>8GB</td>\n",
       "      <td>256GB SSD</td>\n",
       "      <td>Intel Iris Plus Graphics 650</td>\n",
       "      <td>macOS</td>\n",
       "      <td>1.37kg</td>\n",
       "      <td>96095.8080</td>\n",
       "      <td>Yes</td>\n",
       "      <td>13</td>\n",
       "      <td>2560</td>\n",
       "      <td>1600</td>\n",
       "      <td>True</td>\n",
       "      <td>False</td>\n",
       "      <td>True</td>\n",
       "    </tr>\n",
       "  </tbody>\n",
       "</table>\n",
       "</div>"
      ],
      "text/plain": [
       "  Company   TypeName  Inches                    ScreenResolution  \\\n",
       "0   Apple  Ultrabook    13.3  IPS Panel Retina Display 2560x1600   \n",
       "1   Apple  Ultrabook    13.3                            1440x900   \n",
       "2      HP   Notebook    15.6                   Full HD 1920x1080   \n",
       "3   Apple  Ultrabook    15.4  IPS Panel Retina Display 2880x1800   \n",
       "4   Apple  Ultrabook    13.3  IPS Panel Retina Display 2560x1600   \n",
       "\n",
       "                          Cpu   Ram               Memory  \\\n",
       "0        Intel Core i5 2.3GHz   8GB            128GB SSD   \n",
       "1        Intel Core i5 1.8GHz   8GB  128GB Flash Storage   \n",
       "2  Intel Core i5 7200U 2.5GHz   8GB            256GB SSD   \n",
       "3        Intel Core i7 2.7GHz  16GB            512GB SSD   \n",
       "4        Intel Core i5 3.1GHz   8GB            256GB SSD   \n",
       "\n",
       "                            Gpu  OpSys  Weight        Price High_segment  \\\n",
       "0  Intel Iris Plus Graphics 640  macOS  1.37kg   71378.6832          Yes   \n",
       "1        Intel HD Graphics 6000  macOS  1.34kg   47895.5232          Yes   \n",
       "2         Intel HD Graphics 620  No OS  1.86kg   30636.0000           No   \n",
       "3            AMD Radeon Pro 455  macOS  1.83kg  135195.3360          Yes   \n",
       "4  Intel Iris Plus Graphics 650  macOS  1.37kg   96095.8080          Yes   \n",
       "\n",
       "   Inches_bins  Horizontal_resolution  Vertical_resolution  High_res  \\\n",
       "0           13                   2560                 1600      True   \n",
       "1           13                   1440                  900     False   \n",
       "2           15                   1920                 1080     False   \n",
       "3           15                   2880                 1800      True   \n",
       "4           13                   2560                 1600      True   \n",
       "\n",
       "   Has_touchscreen  Is_IPS  \n",
       "0            False    True  \n",
       "1            False   False  \n",
       "2            False   False  \n",
       "3            False    True  \n",
       "4            False    True  "
      ]
     },
     "execution_count": 51,
     "metadata": {},
     "output_type": "execute_result"
    }
   ],
   "source": [
    "df.head(5)"
   ]
  },
  {
   "cell_type": "markdown",
   "id": "27629627",
   "metadata": {},
   "source": [
    "### CPU"
   ]
  },
  {
   "cell_type": "code",
   "execution_count": 52,
   "id": "XF7d2m3wvfjr",
   "metadata": {
    "colab": {
     "base_uri": "https://localhost:8080/"
    },
    "executionInfo": {
     "elapsed": 553,
     "status": "ok",
     "timestamp": 1671694751954,
     "user": {
      "displayName": "Himanshu Arora",
      "userId": "03026800847751892488"
     },
     "user_tz": -330
    },
    "id": "XF7d2m3wvfjr",
    "outputId": "231e22ce-bb69-48ec-fd7a-1e71e0f34738"
   },
   "outputs": [
    {
     "data": {
      "text/plain": [
       "Intel Core i7 2.7GHz                       1\n",
       "Intel Core i3 6006U 2GHz                  64\n",
       "AMD A12-Series 9700P 2.5GHz                1\n",
       "Intel Core i5 8250U 1.6GHz                72\n",
       "Intel Core i7 7Y75 1.3GHz                  5\n",
       "Intel Core i7 6820HK 2.7GHz               10\n",
       "Intel Celeron Dual Core N3350 2.0GHz       1\n",
       "Intel Celeron Quad Core N3160 1.6GHz       2\n",
       "Intel Core i7 7820HK 2.9GHz                7\n",
       "Intel Celeron Dual Core N3350 1.1GHz      30\n",
       "Intel Core i3 6100U 2.1GHz                 1\n",
       "AMD E-Series 6110 1.5GHz                   1\n",
       "Intel Core i3 7130U 2.7GHz                 8\n",
       "Intel Core i7 6700HQ 2.6GHz               43\n",
       "Intel Pentium Dual Core 4405Y 1.5GHz       1\n",
       "AMD FX 9830P 3GHz                          1\n",
       "AMD E-Series 7110 1.8GHz                   2\n",
       "Intel Core i5 6200U 2.3GHz                68\n",
       "AMD Ryzen 1700 3GHz                        3\n",
       "Intel Core i5 6300U 2.4GHz                11\n",
       "Intel Atom Z8350 1.92GHz                   1\n",
       "Intel Core i7 6560U 2.2GHz                 1\n",
       "Intel Core i7 6500U 2.50GHz                2\n",
       "Intel Core i3 6100U 2.3GHz                 9\n",
       "Intel Core i5 2.0GHz                       1\n",
       "Intel Atom X5-Z8350 1.44GHz                2\n",
       "Intel Pentium Dual Core N4200 1.1GHz       1\n",
       "Intel Pentium Dual Core 4405U 2.1GHz       1\n",
       "AMD FX 8800P 2.1GHz                        1\n",
       "Intel Celeron Dual Core N3060 1.6GHz      28\n",
       "AMD A8-Series 7410 2.2GHz                  4\n",
       "AMD A9-Series 9410 2.9GHz                  3\n",
       "Intel Core i5 7200U 2.70GHz                1\n",
       "AMD A9-Series A9-9420 3GHz                 2\n",
       "AMD E-Series 9000 2.2GHz                   1\n",
       "Intel Atom x5-Z8350 1.44GHz                5\n",
       "Intel Celeron Quad Core N3450 1.1GHz       5\n",
       "Intel Core M 6Y75 1.2GHz                   5\n",
       "Intel Core i7 7700HQ 2.7GHz                1\n",
       "Intel Core i7 8650U 1.9GHz                 2\n",
       "Intel Core M m7-6Y75 1.2GHz                1\n",
       "Intel Core i7 8550U 1.8GHz                73\n",
       "Intel Celeron Dual Core N3060 1.60GHz      1\n",
       "AMD A9-Series 9420 2.9GHz                  1\n",
       "Intel Core i7 7700HQ 2.8GHz              146\n",
       "Intel Core i5 1.8GHz                       2\n",
       "AMD A12-Series 9720P 2.7GHz                2\n",
       "Intel Core i7 6500U 2.5GHz                49\n",
       "Intel Core i5 1.6GHz                       3\n",
       "Intel Celeron Dual Core 3205U 1.5GHz       4\n",
       "Name: Cpu, dtype: int64"
      ]
     },
     "execution_count": 52,
     "metadata": {},
     "output_type": "execute_result"
    }
   ],
   "source": [
    "# Take information out of the CPU column\n",
    "\n",
    "df['Cpu'].value_counts().sample(50)"
   ]
  },
  {
   "cell_type": "code",
   "execution_count": 53,
   "id": "k-ZqrZ2QxhAQ",
   "metadata": {
    "executionInfo": {
     "elapsed": 575,
     "status": "ok",
     "timestamp": 1671694932566,
     "user": {
      "displayName": "Himanshu Arora",
      "userId": "03026800847751892488"
     },
     "user_tz": -330
    },
    "id": "k-ZqrZ2QxhAQ"
   },
   "outputs": [],
   "source": [
    "def cpu_brand(text):\n",
    "  if ('Intel') in text.split(' '):\n",
    "    return 'Intel'\n",
    "  elif \"AMD\" in text.split(' '):\n",
    "    return 'AMD'\n",
    "  else:\n",
    "    return 'Others'\n",
    "\n",
    "df['Cpu_Brand'] = df['Cpu'].apply(lambda x: cpu_brand(x))"
   ]
  },
  {
   "cell_type": "code",
   "execution_count": 54,
   "id": "RCs7wcffyFJw",
   "metadata": {
    "colab": {
     "base_uri": "https://localhost:8080/",
     "height": 1000
    },
    "executionInfo": {
     "elapsed": 46,
     "status": "ok",
     "timestamp": 1671694978002,
     "user": {
      "displayName": "Himanshu Arora",
      "userId": "03026800847751892488"
     },
     "user_tz": -330
    },
    "id": "RCs7wcffyFJw",
    "outputId": "de3a9ea9-76a9-4413-f085-e804d8edb569"
   },
   "outputs": [
    {
     "data": {
      "text/html": [
       "<div>\n",
       "<style scoped>\n",
       "    .dataframe tbody tr th:only-of-type {\n",
       "        vertical-align: middle;\n",
       "    }\n",
       "\n",
       "    .dataframe tbody tr th {\n",
       "        vertical-align: top;\n",
       "    }\n",
       "\n",
       "    .dataframe thead th {\n",
       "        text-align: right;\n",
       "    }\n",
       "</style>\n",
       "<table border=\"1\" class=\"dataframe\">\n",
       "  <thead>\n",
       "    <tr style=\"text-align: right;\">\n",
       "      <th></th>\n",
       "      <th>Cpu</th>\n",
       "      <th>Cpu_Brand</th>\n",
       "    </tr>\n",
       "  </thead>\n",
       "  <tbody>\n",
       "    <tr>\n",
       "      <th>1042</th>\n",
       "      <td>Intel Core i7 6500U 2.5GHz</td>\n",
       "      <td>Intel</td>\n",
       "    </tr>\n",
       "    <tr>\n",
       "      <th>161</th>\n",
       "      <td>Intel Core i5 8250U 1.6GHz</td>\n",
       "      <td>Intel</td>\n",
       "    </tr>\n",
       "    <tr>\n",
       "      <th>755</th>\n",
       "      <td>Intel Core i5 6260U 1.8GHz</td>\n",
       "      <td>Intel</td>\n",
       "    </tr>\n",
       "    <tr>\n",
       "      <th>621</th>\n",
       "      <td>Intel Core i5 6200U 2.3GHz</td>\n",
       "      <td>Intel</td>\n",
       "    </tr>\n",
       "    <tr>\n",
       "      <th>276</th>\n",
       "      <td>Intel Core i7 8550U 1.8GHz</td>\n",
       "      <td>Intel</td>\n",
       "    </tr>\n",
       "    <tr>\n",
       "      <th>970</th>\n",
       "      <td>Intel Core i7 7Y75 1.3GHz</td>\n",
       "      <td>Intel</td>\n",
       "    </tr>\n",
       "    <tr>\n",
       "      <th>1107</th>\n",
       "      <td>Intel Core i5 6200U 2.3GHz</td>\n",
       "      <td>Intel</td>\n",
       "    </tr>\n",
       "    <tr>\n",
       "      <th>1141</th>\n",
       "      <td>Intel Core i7 7700HQ 2.8GHz</td>\n",
       "      <td>Intel</td>\n",
       "    </tr>\n",
       "    <tr>\n",
       "      <th>544</th>\n",
       "      <td>AMD E-Series 7110 1.8GHz</td>\n",
       "      <td>AMD</td>\n",
       "    </tr>\n",
       "    <tr>\n",
       "      <th>825</th>\n",
       "      <td>Intel Pentium Dual Core 4405U 2.1GHz</td>\n",
       "      <td>Intel</td>\n",
       "    </tr>\n",
       "    <tr>\n",
       "      <th>325</th>\n",
       "      <td>Intel Celeron Dual Core N3350 1.1GHz</td>\n",
       "      <td>Intel</td>\n",
       "    </tr>\n",
       "    <tr>\n",
       "      <th>64</th>\n",
       "      <td>Intel Core i5 7200U 2.5GHz</td>\n",
       "      <td>Intel</td>\n",
       "    </tr>\n",
       "    <tr>\n",
       "      <th>1054</th>\n",
       "      <td>Intel Core i7 7500U 2.7GHz</td>\n",
       "      <td>Intel</td>\n",
       "    </tr>\n",
       "    <tr>\n",
       "      <th>812</th>\n",
       "      <td>Intel Core i5 7200U 2.5GHz</td>\n",
       "      <td>Intel</td>\n",
       "    </tr>\n",
       "    <tr>\n",
       "      <th>1283</th>\n",
       "      <td>Intel Core i7 6500U 2.5GHz</td>\n",
       "      <td>Intel</td>\n",
       "    </tr>\n",
       "    <tr>\n",
       "      <th>67</th>\n",
       "      <td>Intel Celeron Dual Core N3060 1.6GHz</td>\n",
       "      <td>Intel</td>\n",
       "    </tr>\n",
       "    <tr>\n",
       "      <th>219</th>\n",
       "      <td>Intel Core i7 8550U 1.8GHz</td>\n",
       "      <td>Intel</td>\n",
       "    </tr>\n",
       "    <tr>\n",
       "      <th>742</th>\n",
       "      <td>Intel Core i5 7200U 2.5GHz</td>\n",
       "      <td>Intel</td>\n",
       "    </tr>\n",
       "    <tr>\n",
       "      <th>727</th>\n",
       "      <td>Intel Core i3 7100U 2.4GHz</td>\n",
       "      <td>Intel</td>\n",
       "    </tr>\n",
       "    <tr>\n",
       "      <th>959</th>\n",
       "      <td>Intel Celeron Dual Core N3060 1.6GHz</td>\n",
       "      <td>Intel</td>\n",
       "    </tr>\n",
       "    <tr>\n",
       "      <th>966</th>\n",
       "      <td>Intel Core i5 7200U 2.5GHz</td>\n",
       "      <td>Intel</td>\n",
       "    </tr>\n",
       "    <tr>\n",
       "      <th>1041</th>\n",
       "      <td>Intel Atom X5-Z8350 1.44GHz</td>\n",
       "      <td>Intel</td>\n",
       "    </tr>\n",
       "    <tr>\n",
       "      <th>308</th>\n",
       "      <td>Intel Core i5 7200U 2.5GHz</td>\n",
       "      <td>Intel</td>\n",
       "    </tr>\n",
       "    <tr>\n",
       "      <th>516</th>\n",
       "      <td>Intel Core i5 8250U 1.6GHz</td>\n",
       "      <td>Intel</td>\n",
       "    </tr>\n",
       "    <tr>\n",
       "      <th>399</th>\n",
       "      <td>Intel Core i7 7500U 2.7GHz</td>\n",
       "      <td>Intel</td>\n",
       "    </tr>\n",
       "    <tr>\n",
       "      <th>870</th>\n",
       "      <td>Intel Core i5 7200U 2.5GHz</td>\n",
       "      <td>Intel</td>\n",
       "    </tr>\n",
       "    <tr>\n",
       "      <th>711</th>\n",
       "      <td>Intel Core i5 7440HQ 2.8GHz</td>\n",
       "      <td>Intel</td>\n",
       "    </tr>\n",
       "    <tr>\n",
       "      <th>1279</th>\n",
       "      <td>Intel Core i7 6700HQ 2.6GHz</td>\n",
       "      <td>Intel</td>\n",
       "    </tr>\n",
       "    <tr>\n",
       "      <th>1237</th>\n",
       "      <td>Intel Core i5 6200U 2.3GHz</td>\n",
       "      <td>Intel</td>\n",
       "    </tr>\n",
       "    <tr>\n",
       "      <th>1293</th>\n",
       "      <td>Intel Core i7 6700HQ 2.6GHz</td>\n",
       "      <td>Intel</td>\n",
       "    </tr>\n",
       "    <tr>\n",
       "      <th>135</th>\n",
       "      <td>Intel Core i7 8550U 1.8GHz</td>\n",
       "      <td>Intel</td>\n",
       "    </tr>\n",
       "    <tr>\n",
       "      <th>172</th>\n",
       "      <td>AMD A6-Series 9220 2.9GHz</td>\n",
       "      <td>AMD</td>\n",
       "    </tr>\n",
       "    <tr>\n",
       "      <th>177</th>\n",
       "      <td>Intel Core i7 6920HQ 2.9GHz</td>\n",
       "      <td>Intel</td>\n",
       "    </tr>\n",
       "    <tr>\n",
       "      <th>693</th>\n",
       "      <td>Intel Core i7 7500U 2.7GHz</td>\n",
       "      <td>Intel</td>\n",
       "    </tr>\n",
       "    <tr>\n",
       "      <th>455</th>\n",
       "      <td>Intel Pentium Quad Core N3710 1.6GHz</td>\n",
       "      <td>Intel</td>\n",
       "    </tr>\n",
       "    <tr>\n",
       "      <th>545</th>\n",
       "      <td>Intel Core i3 7100U 2.4GHz</td>\n",
       "      <td>Intel</td>\n",
       "    </tr>\n",
       "    <tr>\n",
       "      <th>61</th>\n",
       "      <td>Intel Core i5 8250U 1.6GHz</td>\n",
       "      <td>Intel</td>\n",
       "    </tr>\n",
       "    <tr>\n",
       "      <th>1266</th>\n",
       "      <td>AMD A9-Series 9410 2.9GHz</td>\n",
       "      <td>AMD</td>\n",
       "    </tr>\n",
       "    <tr>\n",
       "      <th>579</th>\n",
       "      <td>Intel Core i7 7500U 2.7GHz</td>\n",
       "      <td>Intel</td>\n",
       "    </tr>\n",
       "    <tr>\n",
       "      <th>1018</th>\n",
       "      <td>Intel Core i5 6200U 2.3GHz</td>\n",
       "      <td>Intel</td>\n",
       "    </tr>\n",
       "    <tr>\n",
       "      <th>139</th>\n",
       "      <td>Intel Core i5 7200U 2.5GHz</td>\n",
       "      <td>Intel</td>\n",
       "    </tr>\n",
       "    <tr>\n",
       "      <th>215</th>\n",
       "      <td>Intel Core i7 8550U 1.8GHz</td>\n",
       "      <td>Intel</td>\n",
       "    </tr>\n",
       "    <tr>\n",
       "      <th>923</th>\n",
       "      <td>Intel Core i7 6600U 2.6GHz</td>\n",
       "      <td>Intel</td>\n",
       "    </tr>\n",
       "    <tr>\n",
       "      <th>1078</th>\n",
       "      <td>Intel Core i5 6200U 2.3GHz</td>\n",
       "      <td>Intel</td>\n",
       "    </tr>\n",
       "    <tr>\n",
       "      <th>108</th>\n",
       "      <td>Intel Core i7 7700HQ 2.8GHz</td>\n",
       "      <td>Intel</td>\n",
       "    </tr>\n",
       "    <tr>\n",
       "      <th>614</th>\n",
       "      <td>Intel Core i5 7300U 2.6GHz</td>\n",
       "      <td>Intel</td>\n",
       "    </tr>\n",
       "    <tr>\n",
       "      <th>893</th>\n",
       "      <td>Intel Core i5 7200U 2.5GHz</td>\n",
       "      <td>Intel</td>\n",
       "    </tr>\n",
       "    <tr>\n",
       "      <th>807</th>\n",
       "      <td>AMD A12-Series 9700P 2.5GHz</td>\n",
       "      <td>AMD</td>\n",
       "    </tr>\n",
       "    <tr>\n",
       "      <th>398</th>\n",
       "      <td>Intel Core i7 7700HQ 2.8GHz</td>\n",
       "      <td>Intel</td>\n",
       "    </tr>\n",
       "    <tr>\n",
       "      <th>705</th>\n",
       "      <td>Intel Core i5 7200U 2.5GHz</td>\n",
       "      <td>Intel</td>\n",
       "    </tr>\n",
       "    <tr>\n",
       "      <th>277</th>\n",
       "      <td>Intel Core i7 8550U 1.8GHz</td>\n",
       "      <td>Intel</td>\n",
       "    </tr>\n",
       "    <tr>\n",
       "      <th>231</th>\n",
       "      <td>AMD E-Series 9000e 1.5GHz</td>\n",
       "      <td>AMD</td>\n",
       "    </tr>\n",
       "    <tr>\n",
       "      <th>1195</th>\n",
       "      <td>Intel Core i7 7700HQ 2.8GHz</td>\n",
       "      <td>Intel</td>\n",
       "    </tr>\n",
       "    <tr>\n",
       "      <th>47</th>\n",
       "      <td>AMD Ryzen 1700 3GHz</td>\n",
       "      <td>AMD</td>\n",
       "    </tr>\n",
       "    <tr>\n",
       "      <th>79</th>\n",
       "      <td>Intel Core i5 8250U 1.6GHz</td>\n",
       "      <td>Intel</td>\n",
       "    </tr>\n",
       "    <tr>\n",
       "      <th>333</th>\n",
       "      <td>Intel Core i3 6006U 2GHz</td>\n",
       "      <td>Intel</td>\n",
       "    </tr>\n",
       "    <tr>\n",
       "      <th>599</th>\n",
       "      <td>Intel Core i7 7700HQ 2.8GHz</td>\n",
       "      <td>Intel</td>\n",
       "    </tr>\n",
       "    <tr>\n",
       "      <th>1121</th>\n",
       "      <td>Intel Core i5 6200U 2.3GHz</td>\n",
       "      <td>Intel</td>\n",
       "    </tr>\n",
       "    <tr>\n",
       "      <th>685</th>\n",
       "      <td>Intel Core i7 7820HK 2.9GHz</td>\n",
       "      <td>Intel</td>\n",
       "    </tr>\n",
       "    <tr>\n",
       "      <th>680</th>\n",
       "      <td>Intel Core i5 7300HQ 2.5GHz</td>\n",
       "      <td>Intel</td>\n",
       "    </tr>\n",
       "  </tbody>\n",
       "</table>\n",
       "</div>"
      ],
      "text/plain": [
       "                                       Cpu Cpu_Brand\n",
       "1042            Intel Core i7 6500U 2.5GHz     Intel\n",
       "161             Intel Core i5 8250U 1.6GHz     Intel\n",
       "755             Intel Core i5 6260U 1.8GHz     Intel\n",
       "621             Intel Core i5 6200U 2.3GHz     Intel\n",
       "276             Intel Core i7 8550U 1.8GHz     Intel\n",
       "970              Intel Core i7 7Y75 1.3GHz     Intel\n",
       "1107            Intel Core i5 6200U 2.3GHz     Intel\n",
       "1141           Intel Core i7 7700HQ 2.8GHz     Intel\n",
       "544               AMD E-Series 7110 1.8GHz       AMD\n",
       "825   Intel Pentium Dual Core 4405U 2.1GHz     Intel\n",
       "325   Intel Celeron Dual Core N3350 1.1GHz     Intel\n",
       "64              Intel Core i5 7200U 2.5GHz     Intel\n",
       "1054            Intel Core i7 7500U 2.7GHz     Intel\n",
       "812             Intel Core i5 7200U 2.5GHz     Intel\n",
       "1283            Intel Core i7 6500U 2.5GHz     Intel\n",
       "67    Intel Celeron Dual Core N3060 1.6GHz     Intel\n",
       "219             Intel Core i7 8550U 1.8GHz     Intel\n",
       "742             Intel Core i5 7200U 2.5GHz     Intel\n",
       "727             Intel Core i3 7100U 2.4GHz     Intel\n",
       "959   Intel Celeron Dual Core N3060 1.6GHz     Intel\n",
       "966             Intel Core i5 7200U 2.5GHz     Intel\n",
       "1041           Intel Atom X5-Z8350 1.44GHz     Intel\n",
       "308             Intel Core i5 7200U 2.5GHz     Intel\n",
       "516             Intel Core i5 8250U 1.6GHz     Intel\n",
       "399             Intel Core i7 7500U 2.7GHz     Intel\n",
       "870             Intel Core i5 7200U 2.5GHz     Intel\n",
       "711            Intel Core i5 7440HQ 2.8GHz     Intel\n",
       "1279           Intel Core i7 6700HQ 2.6GHz     Intel\n",
       "1237            Intel Core i5 6200U 2.3GHz     Intel\n",
       "1293           Intel Core i7 6700HQ 2.6GHz     Intel\n",
       "135             Intel Core i7 8550U 1.8GHz     Intel\n",
       "172              AMD A6-Series 9220 2.9GHz       AMD\n",
       "177            Intel Core i7 6920HQ 2.9GHz     Intel\n",
       "693             Intel Core i7 7500U 2.7GHz     Intel\n",
       "455   Intel Pentium Quad Core N3710 1.6GHz     Intel\n",
       "545             Intel Core i3 7100U 2.4GHz     Intel\n",
       "61              Intel Core i5 8250U 1.6GHz     Intel\n",
       "1266             AMD A9-Series 9410 2.9GHz       AMD\n",
       "579             Intel Core i7 7500U 2.7GHz     Intel\n",
       "1018            Intel Core i5 6200U 2.3GHz     Intel\n",
       "139             Intel Core i5 7200U 2.5GHz     Intel\n",
       "215             Intel Core i7 8550U 1.8GHz     Intel\n",
       "923             Intel Core i7 6600U 2.6GHz     Intel\n",
       "1078            Intel Core i5 6200U 2.3GHz     Intel\n",
       "108            Intel Core i7 7700HQ 2.8GHz     Intel\n",
       "614             Intel Core i5 7300U 2.6GHz     Intel\n",
       "893             Intel Core i5 7200U 2.5GHz     Intel\n",
       "807            AMD A12-Series 9700P 2.5GHz       AMD\n",
       "398            Intel Core i7 7700HQ 2.8GHz     Intel\n",
       "705             Intel Core i5 7200U 2.5GHz     Intel\n",
       "277             Intel Core i7 8550U 1.8GHz     Intel\n",
       "231              AMD E-Series 9000e 1.5GHz       AMD\n",
       "1195           Intel Core i7 7700HQ 2.8GHz     Intel\n",
       "47                     AMD Ryzen 1700 3GHz       AMD\n",
       "79              Intel Core i5 8250U 1.6GHz     Intel\n",
       "333               Intel Core i3 6006U 2GHz     Intel\n",
       "599            Intel Core i7 7700HQ 2.8GHz     Intel\n",
       "1121            Intel Core i5 6200U 2.3GHz     Intel\n",
       "685            Intel Core i7 7820HK 2.9GHz     Intel\n",
       "680            Intel Core i5 7300HQ 2.5GHz     Intel"
      ]
     },
     "execution_count": 54,
     "metadata": {},
     "output_type": "execute_result"
    }
   ],
   "source": [
    "df[['Cpu','Cpu_Brand']].sample(60)"
   ]
  },
  {
   "cell_type": "code",
   "execution_count": 55,
   "id": "r7DliNsTyKht",
   "metadata": {
    "colab": {
     "base_uri": "https://localhost:8080/",
     "height": 297
    },
    "executionInfo": {
     "elapsed": 47,
     "status": "ok",
     "timestamp": 1671695033433,
     "user": {
      "displayName": "Himanshu Arora",
      "userId": "03026800847751892488"
     },
     "user_tz": -330
    },
    "id": "r7DliNsTyKht",
    "outputId": "5fe86367-138d-4dc1-878d-e32fae986f4a"
   },
   "outputs": [
    {
     "data": {
      "text/plain": [
       "<AxesSubplot: xlabel='Cpu_Brand', ylabel='count'>"
      ]
     },
     "execution_count": 55,
     "metadata": {},
     "output_type": "execute_result"
    },
    {
     "data": {
      "image/png": "[encoded data removed]",
      "text/plain": [
       "<Figure size 640x480 with 1 Axes>"
      ]
     },
     "metadata": {},
     "output_type": "display_data"
    }
   ],
   "source": [
    "df['Cpu_Brand'].value_counts()\n",
    "\n",
    "sns.countplot(x='Cpu_Brand',data=df)"
   ]
  },
  {
   "cell_type": "code",
   "execution_count": 56,
   "id": "OCB-2RKQyWVR",
   "metadata": {
    "executionInfo": {
     "elapsed": 16,
     "status": "ok",
     "timestamp": 1671695501226,
     "user": {
      "displayName": "Himanshu Arora",
      "userId": "03026800847751892488"
     },
     "user_tz": -330
    },
    "id": "OCB-2RKQyWVR"
   },
   "outputs": [],
   "source": [
    "# drop the others column\n",
    "others_index =  df[df['Cpu_Brand'] == 'Others'].index\n",
    "\n",
    "df.drop(index=others_index,inplace=True)"
   ]
  },
  {
   "cell_type": "code",
   "execution_count": 57,
   "id": "ieX87unBz_sG",
   "metadata": {
    "colab": {
     "base_uri": "https://localhost:8080/"
    },
    "executionInfo": {
     "elapsed": 585,
     "status": "ok",
     "timestamp": 1671695526053,
     "user": {
      "displayName": "Himanshu Arora",
      "userId": "03026800847751892488"
     },
     "user_tz": -330
    },
    "id": "ieX87unBz_sG",
    "outputId": "225a9aa2-1eba-47d0-e4b8-e1686877ef5b"
   },
   "outputs": [
    {
     "data": {
      "text/plain": [
       "Intel    1240\n",
       "AMD        62\n",
       "Name: Cpu_Brand, dtype: int64"
      ]
     },
     "execution_count": 57,
     "metadata": {},
     "output_type": "execute_result"
    }
   ],
   "source": [
    "df['Cpu_Brand'].value_counts()"
   ]
  },
  {
   "cell_type": "code",
   "execution_count": 58,
   "id": "Q9I3T6t50UFn",
   "metadata": {
    "colab": {
     "base_uri": "https://localhost:8080/"
    },
    "executionInfo": {
     "elapsed": 20,
     "status": "ok",
     "timestamp": 1671696426819,
     "user": {
      "displayName": "Himanshu Arora",
      "userId": "03026800847751892488"
     },
     "user_tz": -330
    },
    "id": "Q9I3T6t50UFn",
    "outputId": "178b91c1-dc03-403d-947d-40e83a569edd"
   },
   "outputs": [
    {
     "data": {
      "text/plain": [
       "673              AMD E-Series E2-9000 2.2GHz\n",
       "211              Intel Core i7 7700HQ 2.8GHz\n",
       "491               Intel Core i7 7500U 2.7GHz\n",
       "1066             Intel Core i7 6820HK 2.7GHz\n",
       "334              Intel Core i7 7700HQ 2.8GHz\n",
       "426               Intel Core i7 8550U 1.8GHz\n",
       "395                  AMD A9-Series 9420 3GHz\n",
       "371                  AMD A9-Series 9420 3GHz\n",
       "140               Intel Core i3 7130U 2.7GHz\n",
       "1135              Intel Core i7 6500U 2.5GHz\n",
       "486              Intel Core i7 6820HQ 2.7GHz\n",
       "127                 AMD E-Series 6110 1.5GHz\n",
       "456              Intel Core i7 7700HQ 2.7GHz\n",
       "801               Intel Core i5 7200U 2.5GHz\n",
       "907     Intel Celeron Dual Core 3205U 1.5GHz\n",
       "898               Intel Core i3 6006U 2.0GHz\n",
       "796     Intel Celeron Dual Core N3350 1.1GHz\n",
       "1193                     Intel Core M 1.1GHz\n",
       "1126             Intel Atom x5-Z8550 1.44GHz\n",
       "328               Intel Core i7 7500U 2.7GHz\n",
       "1041             Intel Atom X5-Z8350 1.44GHz\n",
       "791     Intel Celeron Dual Core N3350 1.1GHz\n",
       "386               Intel Core i3 7100U 2.4GHz\n",
       "537     Intel Pentium Quad Core N3710 1.6GHz\n",
       "359               Intel Core i5 7300U 2.6GHz\n",
       "12                      Intel Core i7 2.8GHz\n",
       "506               Intel Core i7 7500U 2.7GHz\n",
       "1138             Intel Core i7 6820HQ 2.7GHz\n",
       "516               Intel Core i5 8250U 1.6GHz\n",
       "792               Intel Core i7 7500U 2.7GHz\n",
       "1140              Intel Core i7 6600U 2.6GHz\n",
       "1088    Intel Pentium Dual Core 4405Y 1.5GHz\n",
       "665               Intel Core i3 6100U 2.1GHz\n",
       "948               Intel Core i3 6006U 2.0GHz\n",
       "279               Intel Core i7 8550U 1.8GHz\n",
       "425              Intel Core i7 7700HQ 2.8GHz\n",
       "343               Intel Core i7 8550U 1.8GHz\n",
       "595               Intel Core i3 6100U 2.3GHz\n",
       "203              Intel Core i7 7700HQ 2.8GHz\n",
       "950              Intel Core i7 6820HQ 2.7GHz\n",
       "179               Intel Core i5 8250U 1.6GHz\n",
       "1154             Intel Core i5 6300HQ 2.3GHz\n",
       "826               Intel Core i5 7200U 2.5GHz\n",
       "303               Intel Core i5 7200U 2.5GHz\n",
       "539               Intel Core i7 7500U 2.7GHz\n",
       "390              Intel Core i7 7700HQ 2.8GHz\n",
       "55                Intel Core i7 8550U 1.8GHz\n",
       "619     Intel Celeron Quad Core N3160 1.6GHz\n",
       "155               Intel Core i5 8250U 1.6GHz\n",
       "349               Intel Core i5 8250U 1.6GHz\n",
       "1272    Intel Celeron Dual Core N3050 1.6GHz\n",
       "600               Intel Core i7 7500U 2.7GHz\n",
       "160                  AMD A9-Series 9420 3GHz\n",
       "25                  Intel Core i3 6006U 2GHz\n",
       "1200              Intel Core i3 6006U 2.0GHz\n",
       "213               Intel Core i5 7200U 2.5GHz\n",
       "410              Intel Core i7 7700HQ 2.8GHz\n",
       "944              Intel Core M m7-6Y75 1.2GHz\n",
       "581               Intel Core i5 7300U 2.6GHz\n",
       "573               Intel Core i5 7200U 2.5GHz\n",
       "Name: Cpu, dtype: object"
      ]
     },
     "execution_count": 58,
     "metadata": {},
     "output_type": "execute_result"
    }
   ],
   "source": [
    "df['Cpu'].sample(60)"
   ]
  },
  {
   "cell_type": "code",
   "execution_count": 59,
   "id": "pUyda_Kf0jWM",
   "metadata": {
    "executionInfo": {
     "elapsed": 837,
     "status": "ok",
     "timestamp": 1671696756496,
     "user": {
      "displayName": "Himanshu Arora",
      "userId": "03026800847751892488"
     },
     "user_tz": -330
    },
    "id": "pUyda_Kf0jWM"
   },
   "outputs": [],
   "source": [
    "def cpu_model(text):\n",
    "  cpu_model_pattern = re.compile('i\\d{1}')\n",
    "  if len(cpu_model_pattern.findall(text)) > 0:\n",
    "    return (cpu_model_pattern.findall(text)[0])\n",
    "  else:\n",
    "    return 'Others'\n",
    "\n",
    "df['Cpu_model'] = df['Cpu'].apply(lambda x: cpu_model(x))\n"
   ]
  },
  {
   "cell_type": "code",
   "execution_count": 60,
   "id": "OVyv_ov24wQd",
   "metadata": {
    "colab": {
     "base_uri": "https://localhost:8080/",
     "height": 424
    },
    "executionInfo": {
     "elapsed": 41,
     "status": "ok",
     "timestamp": 1671696757178,
     "user": {
      "displayName": "Himanshu Arora",
      "userId": "03026800847751892488"
     },
     "user_tz": -330
    },
    "id": "OVyv_ov24wQd",
    "outputId": "13d27239-8549-40b3-bdda-6eba00af2717"
   },
   "outputs": [
    {
     "data": {
      "text/html": [
       "<div>\n",
       "<style scoped>\n",
       "    .dataframe tbody tr th:only-of-type {\n",
       "        vertical-align: middle;\n",
       "    }\n",
       "\n",
       "    .dataframe tbody tr th {\n",
       "        vertical-align: top;\n",
       "    }\n",
       "\n",
       "    .dataframe thead th {\n",
       "        text-align: right;\n",
       "    }\n",
       "</style>\n",
       "<table border=\"1\" class=\"dataframe\">\n",
       "  <thead>\n",
       "    <tr style=\"text-align: right;\">\n",
       "      <th></th>\n",
       "      <th>Cpu</th>\n",
       "      <th>Cpu_model</th>\n",
       "    </tr>\n",
       "  </thead>\n",
       "  <tbody>\n",
       "    <tr>\n",
       "      <th>1231</th>\n",
       "      <td>Intel Core i7 7700HQ 2.8GHz</td>\n",
       "      <td>i7</td>\n",
       "    </tr>\n",
       "    <tr>\n",
       "      <th>512</th>\n",
       "      <td>Intel Core i5 7200U 2.5GHz</td>\n",
       "      <td>i5</td>\n",
       "    </tr>\n",
       "    <tr>\n",
       "      <th>95</th>\n",
       "      <td>Intel Core i5 8250U 1.6GHz</td>\n",
       "      <td>i5</td>\n",
       "    </tr>\n",
       "    <tr>\n",
       "      <th>847</th>\n",
       "      <td>Intel Core i5 6200U 2.3GHz</td>\n",
       "      <td>i5</td>\n",
       "    </tr>\n",
       "    <tr>\n",
       "      <th>80</th>\n",
       "      <td>Intel Core i5 8250U 1.6GHz</td>\n",
       "      <td>i5</td>\n",
       "    </tr>\n",
       "    <tr>\n",
       "      <th>...</th>\n",
       "      <td>...</td>\n",
       "      <td>...</td>\n",
       "    </tr>\n",
       "    <tr>\n",
       "      <th>884</th>\n",
       "      <td>Intel Pentium Quad Core N3710 1.6GHz</td>\n",
       "      <td>Others</td>\n",
       "    </tr>\n",
       "    <tr>\n",
       "      <th>782</th>\n",
       "      <td>Intel Core i7 6600U 2.6GHz</td>\n",
       "      <td>i7</td>\n",
       "    </tr>\n",
       "    <tr>\n",
       "      <th>536</th>\n",
       "      <td>Intel Core i5 8250U 1.6GHz</td>\n",
       "      <td>i5</td>\n",
       "    </tr>\n",
       "    <tr>\n",
       "      <th>1274</th>\n",
       "      <td>Intel Celeron Dual Core N3050 1.6GHz</td>\n",
       "      <td>Others</td>\n",
       "    </tr>\n",
       "    <tr>\n",
       "      <th>1026</th>\n",
       "      <td>Intel Core i5 7200U 2.5GHz</td>\n",
       "      <td>i5</td>\n",
       "    </tr>\n",
       "  </tbody>\n",
       "</table>\n",
       "<p>70 rows × 2 columns</p>\n",
       "</div>"
      ],
      "text/plain": [
       "                                       Cpu Cpu_model\n",
       "1231           Intel Core i7 7700HQ 2.8GHz        i7\n",
       "512             Intel Core i5 7200U 2.5GHz        i5\n",
       "95              Intel Core i5 8250U 1.6GHz        i5\n",
       "847             Intel Core i5 6200U 2.3GHz        i5\n",
       "80              Intel Core i5 8250U 1.6GHz        i5\n",
       "...                                    ...       ...\n",
       "884   Intel Pentium Quad Core N3710 1.6GHz    Others\n",
       "782             Intel Core i7 6600U 2.6GHz        i7\n",
       "536             Intel Core i5 8250U 1.6GHz        i5\n",
       "1274  Intel Celeron Dual Core N3050 1.6GHz    Others\n",
       "1026            Intel Core i5 7200U 2.5GHz        i5\n",
       "\n",
       "[70 rows x 2 columns]"
      ]
     },
     "execution_count": 60,
     "metadata": {},
     "output_type": "execute_result"
    }
   ],
   "source": [
    "df[['Cpu','Cpu_model']].sample(70)"
   ]
  },
  {
   "cell_type": "code",
   "execution_count": 61,
   "id": "6P2VUFMm444p",
   "metadata": {
    "executionInfo": {
     "elapsed": 594,
     "status": "ok",
     "timestamp": 1671697636850,
     "user": {
      "displayName": "Himanshu Arora",
      "userId": "03026800847751892488"
     },
     "user_tz": -330
    },
    "id": "6P2VUFMm444p"
   },
   "outputs": [],
   "source": [
    "def clock_freq(text):\n",
    "  pattern = re.compile('\\d{1,}\\.*\\d*GHz')\n",
    "\n",
    "  out = pattern.findall(text)[0]\n",
    "  return out.replace('GHz','')\n",
    "\n",
    "df['Cpu_clock_freq'] = df['Cpu'].apply(lambda x: clock_freq(x))\n"
   ]
  },
  {
   "cell_type": "code",
   "execution_count": 62,
   "id": "IeCj5-jg6FGi",
   "metadata": {
    "colab": {
     "base_uri": "https://localhost:8080/",
     "height": 1000
    },
    "executionInfo": {
     "elapsed": 46,
     "status": "ok",
     "timestamp": 1671697640125,
     "user": {
      "displayName": "Himanshu Arora",
      "userId": "03026800847751892488"
     },
     "user_tz": -330
    },
    "id": "IeCj5-jg6FGi",
    "outputId": "3ca327a5-a7f7-4cb7-b8a4-6f00653b3489"
   },
   "outputs": [
    {
     "data": {
      "text/html": [
       "<div>\n",
       "<style scoped>\n",
       "    .dataframe tbody tr th:only-of-type {\n",
       "        vertical-align: middle;\n",
       "    }\n",
       "\n",
       "    .dataframe tbody tr th {\n",
       "        vertical-align: top;\n",
       "    }\n",
       "\n",
       "    .dataframe thead th {\n",
       "        text-align: right;\n",
       "    }\n",
       "</style>\n",
       "<table border=\"1\" class=\"dataframe\">\n",
       "  <thead>\n",
       "    <tr style=\"text-align: right;\">\n",
       "      <th></th>\n",
       "      <th>Cpu</th>\n",
       "      <th>Cpu_clock_freq</th>\n",
       "    </tr>\n",
       "  </thead>\n",
       "  <tbody>\n",
       "    <tr>\n",
       "      <th>221</th>\n",
       "      <td>Intel Core i5 8250U 1.6GHz</td>\n",
       "      <td>1.6</td>\n",
       "    </tr>\n",
       "    <tr>\n",
       "      <th>155</th>\n",
       "      <td>Intel Core i5 8250U 1.6GHz</td>\n",
       "      <td>1.6</td>\n",
       "    </tr>\n",
       "    <tr>\n",
       "      <th>1288</th>\n",
       "      <td>Intel Celeron Dual Core N3050 1.6GHz</td>\n",
       "      <td>1.6</td>\n",
       "    </tr>\n",
       "    <tr>\n",
       "      <th>972</th>\n",
       "      <td>Intel Core i7 6700HQ 2.6GHz</td>\n",
       "      <td>2.6</td>\n",
       "    </tr>\n",
       "    <tr>\n",
       "      <th>272</th>\n",
       "      <td>Intel Core i7 8550U 1.8GHz</td>\n",
       "      <td>1.8</td>\n",
       "    </tr>\n",
       "    <tr>\n",
       "      <th>922</th>\n",
       "      <td>Intel Core i7 7500U 2.7GHz</td>\n",
       "      <td>2.7</td>\n",
       "    </tr>\n",
       "    <tr>\n",
       "      <th>1015</th>\n",
       "      <td>Intel Core i5 6200U 2.3GHz</td>\n",
       "      <td>2.3</td>\n",
       "    </tr>\n",
       "    <tr>\n",
       "      <th>604</th>\n",
       "      <td>Intel Core i3 6006U 2GHz</td>\n",
       "      <td>2</td>\n",
       "    </tr>\n",
       "    <tr>\n",
       "      <th>1175</th>\n",
       "      <td>Intel Core i3 7100U 2.4GHz</td>\n",
       "      <td>2.4</td>\n",
       "    </tr>\n",
       "    <tr>\n",
       "      <th>171</th>\n",
       "      <td>Intel Core i5 7200U 2.5GHz</td>\n",
       "      <td>2.5</td>\n",
       "    </tr>\n",
       "    <tr>\n",
       "      <th>840</th>\n",
       "      <td>Intel Core i7 6700HQ 2.6GHz</td>\n",
       "      <td>2.6</td>\n",
       "    </tr>\n",
       "    <tr>\n",
       "      <th>1261</th>\n",
       "      <td>Intel Core M 6Y30 0.9GHz</td>\n",
       "      <td>0.9</td>\n",
       "    </tr>\n",
       "    <tr>\n",
       "      <th>1302</th>\n",
       "      <td>Intel Celeron Dual Core N3050 1.6GHz</td>\n",
       "      <td>1.6</td>\n",
       "    </tr>\n",
       "    <tr>\n",
       "      <th>1168</th>\n",
       "      <td>Intel Celeron Dual Core N3060 1.6GHz</td>\n",
       "      <td>1.6</td>\n",
       "    </tr>\n",
       "    <tr>\n",
       "      <th>868</th>\n",
       "      <td>Intel Core i5 7200U 2.5GHz</td>\n",
       "      <td>2.5</td>\n",
       "    </tr>\n",
       "    <tr>\n",
       "      <th>992</th>\n",
       "      <td>Intel Celeron Dual Core N3350 1.1GHz</td>\n",
       "      <td>1.1</td>\n",
       "    </tr>\n",
       "    <tr>\n",
       "      <th>1222</th>\n",
       "      <td>AMD A12-Series 9720P 2.7GHz</td>\n",
       "      <td>2.7</td>\n",
       "    </tr>\n",
       "    <tr>\n",
       "      <th>948</th>\n",
       "      <td>Intel Core i3 6006U 2.0GHz</td>\n",
       "      <td>2.0</td>\n",
       "    </tr>\n",
       "    <tr>\n",
       "      <th>169</th>\n",
       "      <td>Intel Core i5 8250U 1.6GHz</td>\n",
       "      <td>1.6</td>\n",
       "    </tr>\n",
       "    <tr>\n",
       "      <th>199</th>\n",
       "      <td>Intel Core i7 8550U 1.8GHz</td>\n",
       "      <td>1.8</td>\n",
       "    </tr>\n",
       "    <tr>\n",
       "      <th>506</th>\n",
       "      <td>Intel Core i7 7500U 2.7GHz</td>\n",
       "      <td>2.7</td>\n",
       "    </tr>\n",
       "    <tr>\n",
       "      <th>1212</th>\n",
       "      <td>Intel Core i7 6700HQ 2.6GHz</td>\n",
       "      <td>2.6</td>\n",
       "    </tr>\n",
       "    <tr>\n",
       "      <th>154</th>\n",
       "      <td>Intel Core i5 7500U 2.7GHz</td>\n",
       "      <td>2.7</td>\n",
       "    </tr>\n",
       "    <tr>\n",
       "      <th>692</th>\n",
       "      <td>Intel Core i7 7700HQ 2.8GHz</td>\n",
       "      <td>2.8</td>\n",
       "    </tr>\n",
       "    <tr>\n",
       "      <th>1224</th>\n",
       "      <td>Intel Core i3 7100U 2.4GHz</td>\n",
       "      <td>2.4</td>\n",
       "    </tr>\n",
       "    <tr>\n",
       "      <th>642</th>\n",
       "      <td>Intel Core i7 7500U 2.7GHz</td>\n",
       "      <td>2.7</td>\n",
       "    </tr>\n",
       "    <tr>\n",
       "      <th>251</th>\n",
       "      <td>Intel Core i7 7700HQ 2.8GHz</td>\n",
       "      <td>2.8</td>\n",
       "    </tr>\n",
       "    <tr>\n",
       "      <th>1014</th>\n",
       "      <td>Intel Core i3 7100U 2.4GHz</td>\n",
       "      <td>2.4</td>\n",
       "    </tr>\n",
       "    <tr>\n",
       "      <th>507</th>\n",
       "      <td>Intel Core i5 8250U 1.6GHz</td>\n",
       "      <td>1.6</td>\n",
       "    </tr>\n",
       "    <tr>\n",
       "      <th>646</th>\n",
       "      <td>Intel Core i5 7200U 2.5GHz</td>\n",
       "      <td>2.5</td>\n",
       "    </tr>\n",
       "    <tr>\n",
       "      <th>1142</th>\n",
       "      <td>Intel Core i5 6300U 2.4GHz</td>\n",
       "      <td>2.4</td>\n",
       "    </tr>\n",
       "    <tr>\n",
       "      <th>882</th>\n",
       "      <td>Intel Celeron Dual Core N3350 1.1GHz</td>\n",
       "      <td>1.1</td>\n",
       "    </tr>\n",
       "    <tr>\n",
       "      <th>586</th>\n",
       "      <td>Intel Core i7 7700HQ 2.8GHz</td>\n",
       "      <td>2.8</td>\n",
       "    </tr>\n",
       "    <tr>\n",
       "      <th>1211</th>\n",
       "      <td>Intel Core i7 7700HQ 2.8GHz</td>\n",
       "      <td>2.8</td>\n",
       "    </tr>\n",
       "    <tr>\n",
       "      <th>1092</th>\n",
       "      <td>Intel Core i7 7700HQ 2.8GHz</td>\n",
       "      <td>2.8</td>\n",
       "    </tr>\n",
       "    <tr>\n",
       "      <th>1029</th>\n",
       "      <td>Intel Core i5 7200U 2.5GHz</td>\n",
       "      <td>2.5</td>\n",
       "    </tr>\n",
       "    <tr>\n",
       "      <th>695</th>\n",
       "      <td>Intel Celeron Dual Core N3050 1.6GHz</td>\n",
       "      <td>1.6</td>\n",
       "    </tr>\n",
       "    <tr>\n",
       "      <th>14</th>\n",
       "      <td>Intel Core M m3 1.2GHz</td>\n",
       "      <td>1.2</td>\n",
       "    </tr>\n",
       "    <tr>\n",
       "      <th>1043</th>\n",
       "      <td>Intel Core i5 6200U 2.3GHz</td>\n",
       "      <td>2.3</td>\n",
       "    </tr>\n",
       "    <tr>\n",
       "      <th>983</th>\n",
       "      <td>Intel Core i5 6200U 2.3GHz</td>\n",
       "      <td>2.3</td>\n",
       "    </tr>\n",
       "    <tr>\n",
       "      <th>424</th>\n",
       "      <td>Intel Core i7 7820HK 2.9GHz</td>\n",
       "      <td>2.9</td>\n",
       "    </tr>\n",
       "    <tr>\n",
       "      <th>73</th>\n",
       "      <td>Intel Core i5 7300HQ 2.5GHz</td>\n",
       "      <td>2.5</td>\n",
       "    </tr>\n",
       "    <tr>\n",
       "      <th>412</th>\n",
       "      <td>Intel Core i3 6006U 2GHz</td>\n",
       "      <td>2</td>\n",
       "    </tr>\n",
       "    <tr>\n",
       "      <th>920</th>\n",
       "      <td>Intel Core i5 7200U 2.5GHz</td>\n",
       "      <td>2.5</td>\n",
       "    </tr>\n",
       "    <tr>\n",
       "      <th>747</th>\n",
       "      <td>Intel Core i3 6006U 2GHz</td>\n",
       "      <td>2</td>\n",
       "    </tr>\n",
       "    <tr>\n",
       "      <th>115</th>\n",
       "      <td>Intel Core i5 8250U 1.6GHz</td>\n",
       "      <td>1.6</td>\n",
       "    </tr>\n",
       "    <tr>\n",
       "      <th>1067</th>\n",
       "      <td>Intel Core i7 6500U 2.5GHz</td>\n",
       "      <td>2.5</td>\n",
       "    </tr>\n",
       "    <tr>\n",
       "      <th>963</th>\n",
       "      <td>Intel Core i7 7500U 2.7GHz</td>\n",
       "      <td>2.7</td>\n",
       "    </tr>\n",
       "    <tr>\n",
       "      <th>661</th>\n",
       "      <td>Intel Celeron Dual Core N3350 1.1GHz</td>\n",
       "      <td>1.1</td>\n",
       "    </tr>\n",
       "    <tr>\n",
       "      <th>276</th>\n",
       "      <td>Intel Core i7 8550U 1.8GHz</td>\n",
       "      <td>1.8</td>\n",
       "    </tr>\n",
       "    <tr>\n",
       "      <th>937</th>\n",
       "      <td>Intel Core i7 7700HQ 2.8GHz</td>\n",
       "      <td>2.8</td>\n",
       "    </tr>\n",
       "    <tr>\n",
       "      <th>557</th>\n",
       "      <td>Intel Core i7 7500U 2.7GHz</td>\n",
       "      <td>2.7</td>\n",
       "    </tr>\n",
       "    <tr>\n",
       "      <th>758</th>\n",
       "      <td>Intel Core i7 7700HQ 2.8GHz</td>\n",
       "      <td>2.8</td>\n",
       "    </tr>\n",
       "    <tr>\n",
       "      <th>1182</th>\n",
       "      <td>Intel Core i7 7500U 2.7GHz</td>\n",
       "      <td>2.7</td>\n",
       "    </tr>\n",
       "    <tr>\n",
       "      <th>307</th>\n",
       "      <td>Intel Core i7 6500U 2.5GHz</td>\n",
       "      <td>2.5</td>\n",
       "    </tr>\n",
       "    <tr>\n",
       "      <th>101</th>\n",
       "      <td>AMD E-Series E2-9000e 1.5GHz</td>\n",
       "      <td>1.5</td>\n",
       "    </tr>\n",
       "    <tr>\n",
       "      <th>1183</th>\n",
       "      <td>Intel Celeron Dual Core N3350 2GHz</td>\n",
       "      <td>2</td>\n",
       "    </tr>\n",
       "    <tr>\n",
       "      <th>1097</th>\n",
       "      <td>Intel Core i7 6700HQ 2.6GHz</td>\n",
       "      <td>2.6</td>\n",
       "    </tr>\n",
       "    <tr>\n",
       "      <th>133</th>\n",
       "      <td>Intel Core i3 7130U 2.7GHz</td>\n",
       "      <td>2.7</td>\n",
       "    </tr>\n",
       "    <tr>\n",
       "      <th>710</th>\n",
       "      <td>Intel Core i7 7700HQ 2.8GHz</td>\n",
       "      <td>2.8</td>\n",
       "    </tr>\n",
       "  </tbody>\n",
       "</table>\n",
       "</div>"
      ],
      "text/plain": [
       "                                       Cpu Cpu_clock_freq\n",
       "221             Intel Core i5 8250U 1.6GHz            1.6\n",
       "155             Intel Core i5 8250U 1.6GHz            1.6\n",
       "1288  Intel Celeron Dual Core N3050 1.6GHz            1.6\n",
       "972            Intel Core i7 6700HQ 2.6GHz            2.6\n",
       "272             Intel Core i7 8550U 1.8GHz            1.8\n",
       "922             Intel Core i7 7500U 2.7GHz            2.7\n",
       "1015            Intel Core i5 6200U 2.3GHz            2.3\n",
       "604               Intel Core i3 6006U 2GHz              2\n",
       "1175            Intel Core i3 7100U 2.4GHz            2.4\n",
       "171             Intel Core i5 7200U 2.5GHz            2.5\n",
       "840            Intel Core i7 6700HQ 2.6GHz            2.6\n",
       "1261              Intel Core M 6Y30 0.9GHz            0.9\n",
       "1302  Intel Celeron Dual Core N3050 1.6GHz            1.6\n",
       "1168  Intel Celeron Dual Core N3060 1.6GHz            1.6\n",
       "868             Intel Core i5 7200U 2.5GHz            2.5\n",
       "992   Intel Celeron Dual Core N3350 1.1GHz            1.1\n",
       "1222           AMD A12-Series 9720P 2.7GHz            2.7\n",
       "948             Intel Core i3 6006U 2.0GHz            2.0\n",
       "169             Intel Core i5 8250U 1.6GHz            1.6\n",
       "199             Intel Core i7 8550U 1.8GHz            1.8\n",
       "506             Intel Core i7 7500U 2.7GHz            2.7\n",
       "1212           Intel Core i7 6700HQ 2.6GHz            2.6\n",
       "154             Intel Core i5 7500U 2.7GHz            2.7\n",
       "692            Intel Core i7 7700HQ 2.8GHz            2.8\n",
       "1224            Intel Core i3 7100U 2.4GHz            2.4\n",
       "642             Intel Core i7 7500U 2.7GHz            2.7\n",
       "251            Intel Core i7 7700HQ 2.8GHz            2.8\n",
       "1014            Intel Core i3 7100U 2.4GHz            2.4\n",
       "507             Intel Core i5 8250U 1.6GHz            1.6\n",
       "646             Intel Core i5 7200U 2.5GHz            2.5\n",
       "1142            Intel Core i5 6300U 2.4GHz            2.4\n",
       "882   Intel Celeron Dual Core N3350 1.1GHz            1.1\n",
       "586            Intel Core i7 7700HQ 2.8GHz            2.8\n",
       "1211           Intel Core i7 7700HQ 2.8GHz            2.8\n",
       "1092           Intel Core i7 7700HQ 2.8GHz            2.8\n",
       "1029            Intel Core i5 7200U 2.5GHz            2.5\n",
       "695   Intel Celeron Dual Core N3050 1.6GHz            1.6\n",
       "14                  Intel Core M m3 1.2GHz            1.2\n",
       "1043            Intel Core i5 6200U 2.3GHz            2.3\n",
       "983             Intel Core i5 6200U 2.3GHz            2.3\n",
       "424            Intel Core i7 7820HK 2.9GHz            2.9\n",
       "73             Intel Core i5 7300HQ 2.5GHz            2.5\n",
       "412               Intel Core i3 6006U 2GHz              2\n",
       "920             Intel Core i5 7200U 2.5GHz            2.5\n",
       "747               Intel Core i3 6006U 2GHz              2\n",
       "115             Intel Core i5 8250U 1.6GHz            1.6\n",
       "1067            Intel Core i7 6500U 2.5GHz            2.5\n",
       "963             Intel Core i7 7500U 2.7GHz            2.7\n",
       "661   Intel Celeron Dual Core N3350 1.1GHz            1.1\n",
       "276             Intel Core i7 8550U 1.8GHz            1.8\n",
       "937            Intel Core i7 7700HQ 2.8GHz            2.8\n",
       "557             Intel Core i7 7500U 2.7GHz            2.7\n",
       "758            Intel Core i7 7700HQ 2.8GHz            2.8\n",
       "1182            Intel Core i7 7500U 2.7GHz            2.7\n",
       "307             Intel Core i7 6500U 2.5GHz            2.5\n",
       "101           AMD E-Series E2-9000e 1.5GHz            1.5\n",
       "1183    Intel Celeron Dual Core N3350 2GHz              2\n",
       "1097           Intel Core i7 6700HQ 2.6GHz            2.6\n",
       "133             Intel Core i3 7130U 2.7GHz            2.7\n",
       "710            Intel Core i7 7700HQ 2.8GHz            2.8"
      ]
     },
     "execution_count": 62,
     "metadata": {},
     "output_type": "execute_result"
    }
   ],
   "source": [
    "df[['Cpu','Cpu_clock_freq']].sample(60)"
   ]
  },
  {
   "cell_type": "code",
   "execution_count": 63,
   "id": "f762e02f",
   "metadata": {},
   "outputs": [
    {
     "data": {
      "text/html": [
       "<div>\n",
       "<style scoped>\n",
       "    .dataframe tbody tr th:only-of-type {\n",
       "        vertical-align: middle;\n",
       "    }\n",
       "\n",
       "    .dataframe tbody tr th {\n",
       "        vertical-align: top;\n",
       "    }\n",
       "\n",
       "    .dataframe thead th {\n",
       "        text-align: right;\n",
       "    }\n",
       "</style>\n",
       "<table border=\"1\" class=\"dataframe\">\n",
       "  <thead>\n",
       "    <tr style=\"text-align: right;\">\n",
       "      <th></th>\n",
       "      <th>Cpu</th>\n",
       "      <th>Cpu_model</th>\n",
       "    </tr>\n",
       "  </thead>\n",
       "  <tbody>\n",
       "    <tr>\n",
       "      <th>0</th>\n",
       "      <td>Intel Core i5 2.3GHz</td>\n",
       "      <td>Intel i5</td>\n",
       "    </tr>\n",
       "    <tr>\n",
       "      <th>1</th>\n",
       "      <td>Intel Core i5 1.8GHz</td>\n",
       "      <td>Intel i5</td>\n",
       "    </tr>\n",
       "    <tr>\n",
       "      <th>2</th>\n",
       "      <td>Intel Core i5 7200U 2.5GHz</td>\n",
       "      <td>Intel i5</td>\n",
       "    </tr>\n",
       "    <tr>\n",
       "      <th>3</th>\n",
       "      <td>Intel Core i7 2.7GHz</td>\n",
       "      <td>Intel i7</td>\n",
       "    </tr>\n",
       "    <tr>\n",
       "      <th>4</th>\n",
       "      <td>Intel Core i5 3.1GHz</td>\n",
       "      <td>Intel i5</td>\n",
       "    </tr>\n",
       "    <tr>\n",
       "      <th>...</th>\n",
       "      <td>...</td>\n",
       "      <td>...</td>\n",
       "    </tr>\n",
       "    <tr>\n",
       "      <th>1298</th>\n",
       "      <td>Intel Core i7 6500U 2.5GHz</td>\n",
       "      <td>Intel i7</td>\n",
       "    </tr>\n",
       "    <tr>\n",
       "      <th>1299</th>\n",
       "      <td>Intel Core i7 6500U 2.5GHz</td>\n",
       "      <td>Intel i7</td>\n",
       "    </tr>\n",
       "    <tr>\n",
       "      <th>1300</th>\n",
       "      <td>Intel Celeron Dual Core N3050 1.6GHz</td>\n",
       "      <td>Intel Others</td>\n",
       "    </tr>\n",
       "    <tr>\n",
       "      <th>1301</th>\n",
       "      <td>Intel Core i7 6500U 2.5GHz</td>\n",
       "      <td>Intel i7</td>\n",
       "    </tr>\n",
       "    <tr>\n",
       "      <th>1302</th>\n",
       "      <td>Intel Celeron Dual Core N3050 1.6GHz</td>\n",
       "      <td>Intel Others</td>\n",
       "    </tr>\n",
       "  </tbody>\n",
       "</table>\n",
       "<p>1302 rows × 2 columns</p>\n",
       "</div>"
      ],
      "text/plain": [
       "                                       Cpu     Cpu_model\n",
       "0                     Intel Core i5 2.3GHz      Intel i5\n",
       "1                     Intel Core i5 1.8GHz      Intel i5\n",
       "2               Intel Core i5 7200U 2.5GHz      Intel i5\n",
       "3                     Intel Core i7 2.7GHz      Intel i7\n",
       "4                     Intel Core i5 3.1GHz      Intel i5\n",
       "...                                    ...           ...\n",
       "1298            Intel Core i7 6500U 2.5GHz      Intel i7\n",
       "1299            Intel Core i7 6500U 2.5GHz      Intel i7\n",
       "1300  Intel Celeron Dual Core N3050 1.6GHz  Intel Others\n",
       "1301            Intel Core i7 6500U 2.5GHz      Intel i7\n",
       "1302  Intel Celeron Dual Core N3050 1.6GHz  Intel Others\n",
       "\n",
       "[1302 rows x 2 columns]"
      ]
     },
     "execution_count": 63,
     "metadata": {},
     "output_type": "execute_result"
    }
   ],
   "source": [
    "df['Cpu_model'] = df['Cpu_Brand'] + ' ' + df['Cpu_model']\n",
    "\n",
    "df[['Cpu','Cpu_model']]"
   ]
  },
  {
   "cell_type": "code",
   "execution_count": 64,
   "id": "989df843",
   "metadata": {},
   "outputs": [
    {
     "data": {
      "text/plain": [
       "Intel i7        527\n",
       "Intel i5        423\n",
       "Intel Others    154\n",
       "Intel i3        136\n",
       "AMD Others       62\n",
       "Name: Cpu_model, dtype: int64"
      ]
     },
     "execution_count": 64,
     "metadata": {},
     "output_type": "execute_result"
    }
   ],
   "source": [
    "df['Cpu_model'].value_counts()"
   ]
  },
  {
   "cell_type": "code",
   "execution_count": 65,
   "id": "85c19b32",
   "metadata": {},
   "outputs": [
    {
     "data": {
      "text/plain": [
       "<AxesSubplot: xlabel='Cpu_model', ylabel='Price'>"
      ]
     },
     "execution_count": 65,
     "metadata": {},
     "output_type": "execute_result"
    },
    {
     "data": {
      "image/png": "[encoded data removed]",
      "text/plain": [
       "<Figure size 640x480 with 1 Axes>"
      ]
     },
     "metadata": {},
     "output_type": "display_data"
    }
   ],
   "source": [
    "sns.barplot(x='Cpu_model',y='Price',data=df,estimator=np.mean)"
   ]
  },
  {
   "cell_type": "markdown",
   "id": "50777d6f",
   "metadata": {},
   "source": [
    "- The intel core i7 models are generally found in higher price range of laptops\n",
    "- The intel core i5 captures the middle price segment of the market\n",
    "- AMD,intel core i3 and other intel CPU's capture the lower end of the market. "
   ]
  },
  {
   "cell_type": "code",
   "execution_count": 66,
   "id": "HCApzLto6Q8J",
   "metadata": {
    "colab": {
     "base_uri": "https://localhost:8080/",
     "height": 1000
    },
    "executionInfo": {
     "elapsed": 40,
     "status": "ok",
     "timestamp": 1671697788070,
     "user": {
      "displayName": "Himanshu Arora",
      "userId": "03026800847751892488"
     },
     "user_tz": -330
    },
    "id": "HCApzLto6Q8J",
    "outputId": "06633aa3-848e-4c08-a810-7d36547585a7"
   },
   "outputs": [
    {
     "data": {
      "text/html": [
       "<div>\n",
       "<style scoped>\n",
       "    .dataframe tbody tr th:only-of-type {\n",
       "        vertical-align: middle;\n",
       "    }\n",
       "\n",
       "    .dataframe tbody tr th {\n",
       "        vertical-align: top;\n",
       "    }\n",
       "\n",
       "    .dataframe thead th {\n",
       "        text-align: right;\n",
       "    }\n",
       "</style>\n",
       "<table border=\"1\" class=\"dataframe\">\n",
       "  <thead>\n",
       "    <tr style=\"text-align: right;\">\n",
       "      <th></th>\n",
       "      <th>Company</th>\n",
       "      <th>TypeName</th>\n",
       "      <th>Inches</th>\n",
       "      <th>ScreenResolution</th>\n",
       "      <th>Cpu</th>\n",
       "      <th>Ram</th>\n",
       "      <th>Memory</th>\n",
       "      <th>Gpu</th>\n",
       "      <th>OpSys</th>\n",
       "      <th>Weight</th>\n",
       "      <th>...</th>\n",
       "      <th>High_segment</th>\n",
       "      <th>Inches_bins</th>\n",
       "      <th>Horizontal_resolution</th>\n",
       "      <th>Vertical_resolution</th>\n",
       "      <th>High_res</th>\n",
       "      <th>Has_touchscreen</th>\n",
       "      <th>Is_IPS</th>\n",
       "      <th>Cpu_Brand</th>\n",
       "      <th>Cpu_model</th>\n",
       "      <th>Cpu_clock_freq</th>\n",
       "    </tr>\n",
       "  </thead>\n",
       "  <tbody>\n",
       "    <tr>\n",
       "      <th>0</th>\n",
       "      <td>Apple</td>\n",
       "      <td>Ultrabook</td>\n",
       "      <td>13.3</td>\n",
       "      <td>IPS Panel Retina Display 2560x1600</td>\n",
       "      <td>Intel Core i5 2.3GHz</td>\n",
       "      <td>8GB</td>\n",
       "      <td>128GB SSD</td>\n",
       "      <td>Intel Iris Plus Graphics 640</td>\n",
       "      <td>macOS</td>\n",
       "      <td>1.37kg</td>\n",
       "      <td>...</td>\n",
       "      <td>Yes</td>\n",
       "      <td>13</td>\n",
       "      <td>2560</td>\n",
       "      <td>1600</td>\n",
       "      <td>True</td>\n",
       "      <td>False</td>\n",
       "      <td>True</td>\n",
       "      <td>Intel</td>\n",
       "      <td>Intel i5</td>\n",
       "      <td>2.3</td>\n",
       "    </tr>\n",
       "    <tr>\n",
       "      <th>1</th>\n",
       "      <td>Apple</td>\n",
       "      <td>Ultrabook</td>\n",
       "      <td>13.3</td>\n",
       "      <td>1440x900</td>\n",
       "      <td>Intel Core i5 1.8GHz</td>\n",
       "      <td>8GB</td>\n",
       "      <td>128GB Flash Storage</td>\n",
       "      <td>Intel HD Graphics 6000</td>\n",
       "      <td>macOS</td>\n",
       "      <td>1.34kg</td>\n",
       "      <td>...</td>\n",
       "      <td>Yes</td>\n",
       "      <td>13</td>\n",
       "      <td>1440</td>\n",
       "      <td>900</td>\n",
       "      <td>False</td>\n",
       "      <td>False</td>\n",
       "      <td>False</td>\n",
       "      <td>Intel</td>\n",
       "      <td>Intel i5</td>\n",
       "      <td>1.8</td>\n",
       "    </tr>\n",
       "    <tr>\n",
       "      <th>2</th>\n",
       "      <td>HP</td>\n",
       "      <td>Notebook</td>\n",
       "      <td>15.6</td>\n",
       "      <td>Full HD 1920x1080</td>\n",
       "      <td>Intel Core i5 7200U 2.5GHz</td>\n",
       "      <td>8GB</td>\n",
       "      <td>256GB SSD</td>\n",
       "      <td>Intel HD Graphics 620</td>\n",
       "      <td>No OS</td>\n",
       "      <td>1.86kg</td>\n",
       "      <td>...</td>\n",
       "      <td>No</td>\n",
       "      <td>15</td>\n",
       "      <td>1920</td>\n",
       "      <td>1080</td>\n",
       "      <td>False</td>\n",
       "      <td>False</td>\n",
       "      <td>False</td>\n",
       "      <td>Intel</td>\n",
       "      <td>Intel i5</td>\n",
       "      <td>2.5</td>\n",
       "    </tr>\n",
       "    <tr>\n",
       "      <th>3</th>\n",
       "      <td>Apple</td>\n",
       "      <td>Ultrabook</td>\n",
       "      <td>15.4</td>\n",
       "      <td>IPS Panel Retina Display 2880x1800</td>\n",
       "      <td>Intel Core i7 2.7GHz</td>\n",
       "      <td>16GB</td>\n",
       "      <td>512GB SSD</td>\n",
       "      <td>AMD Radeon Pro 455</td>\n",
       "      <td>macOS</td>\n",
       "      <td>1.83kg</td>\n",
       "      <td>...</td>\n",
       "      <td>Yes</td>\n",
       "      <td>15</td>\n",
       "      <td>2880</td>\n",
       "      <td>1800</td>\n",
       "      <td>True</td>\n",
       "      <td>False</td>\n",
       "      <td>True</td>\n",
       "      <td>Intel</td>\n",
       "      <td>Intel i7</td>\n",
       "      <td>2.7</td>\n",
       "    </tr>\n",
       "    <tr>\n",
       "      <th>4</th>\n",
       "      <td>Apple</td>\n",
       "      <td>Ultrabook</td>\n",
       "      <td>13.3</td>\n",
       "      <td>IPS Panel Retina Display 2560x1600</td>\n",
       "      <td>Intel Core i5 3.1GHz</td>\n",
       "      <td>8GB</td>\n",
       "      <td>256GB SSD</td>\n",
       "      <td>Intel Iris Plus Graphics 650</td>\n",
       "      <td>macOS</td>\n",
       "      <td>1.37kg</td>\n",
       "      <td>...</td>\n",
       "      <td>Yes</td>\n",
       "      <td>13</td>\n",
       "      <td>2560</td>\n",
       "      <td>1600</td>\n",
       "      <td>True</td>\n",
       "      <td>False</td>\n",
       "      <td>True</td>\n",
       "      <td>Intel</td>\n",
       "      <td>Intel i5</td>\n",
       "      <td>3.1</td>\n",
       "    </tr>\n",
       "    <tr>\n",
       "      <th>...</th>\n",
       "      <td>...</td>\n",
       "      <td>...</td>\n",
       "      <td>...</td>\n",
       "      <td>...</td>\n",
       "      <td>...</td>\n",
       "      <td>...</td>\n",
       "      <td>...</td>\n",
       "      <td>...</td>\n",
       "      <td>...</td>\n",
       "      <td>...</td>\n",
       "      <td>...</td>\n",
       "      <td>...</td>\n",
       "      <td>...</td>\n",
       "      <td>...</td>\n",
       "      <td>...</td>\n",
       "      <td>...</td>\n",
       "      <td>...</td>\n",
       "      <td>...</td>\n",
       "      <td>...</td>\n",
       "      <td>...</td>\n",
       "      <td>...</td>\n",
       "    </tr>\n",
       "    <tr>\n",
       "      <th>1298</th>\n",
       "      <td>Lenovo</td>\n",
       "      <td>2 in 1 Convertible</td>\n",
       "      <td>14.0</td>\n",
       "      <td>IPS Panel Full HD / Touchscreen 1920x1080</td>\n",
       "      <td>Intel Core i7 6500U 2.5GHz</td>\n",
       "      <td>4GB</td>\n",
       "      <td>128GB SSD</td>\n",
       "      <td>Intel HD Graphics 520</td>\n",
       "      <td>Windows 10</td>\n",
       "      <td>1.8kg</td>\n",
       "      <td>...</td>\n",
       "      <td>No</td>\n",
       "      <td>14</td>\n",
       "      <td>1920</td>\n",
       "      <td>1080</td>\n",
       "      <td>False</td>\n",
       "      <td>True</td>\n",
       "      <td>True</td>\n",
       "      <td>Intel</td>\n",
       "      <td>Intel i7</td>\n",
       "      <td>2.5</td>\n",
       "    </tr>\n",
       "    <tr>\n",
       "      <th>1299</th>\n",
       "      <td>Lenovo</td>\n",
       "      <td>2 in 1 Convertible</td>\n",
       "      <td>13.3</td>\n",
       "      <td>IPS Panel Quad HD+ / Touchscreen 3200x1800</td>\n",
       "      <td>Intel Core i7 6500U 2.5GHz</td>\n",
       "      <td>16GB</td>\n",
       "      <td>512GB SSD</td>\n",
       "      <td>Intel HD Graphics 520</td>\n",
       "      <td>Windows 10</td>\n",
       "      <td>1.3kg</td>\n",
       "      <td>...</td>\n",
       "      <td>No</td>\n",
       "      <td>13</td>\n",
       "      <td>3200</td>\n",
       "      <td>1800</td>\n",
       "      <td>True</td>\n",
       "      <td>True</td>\n",
       "      <td>True</td>\n",
       "      <td>Intel</td>\n",
       "      <td>Intel i7</td>\n",
       "      <td>2.5</td>\n",
       "    </tr>\n",
       "    <tr>\n",
       "      <th>1300</th>\n",
       "      <td>Lenovo</td>\n",
       "      <td>Notebook</td>\n",
       "      <td>14.0</td>\n",
       "      <td>1366x768</td>\n",
       "      <td>Intel Celeron Dual Core N3050 1.6GHz</td>\n",
       "      <td>2GB</td>\n",
       "      <td>64GB Flash Storage</td>\n",
       "      <td>Intel HD Graphics</td>\n",
       "      <td>Windows 10</td>\n",
       "      <td>1.5kg</td>\n",
       "      <td>...</td>\n",
       "      <td>No</td>\n",
       "      <td>14</td>\n",
       "      <td>1366</td>\n",
       "      <td>768</td>\n",
       "      <td>False</td>\n",
       "      <td>False</td>\n",
       "      <td>False</td>\n",
       "      <td>Intel</td>\n",
       "      <td>Intel Others</td>\n",
       "      <td>1.6</td>\n",
       "    </tr>\n",
       "    <tr>\n",
       "      <th>1301</th>\n",
       "      <td>HP</td>\n",
       "      <td>Notebook</td>\n",
       "      <td>15.6</td>\n",
       "      <td>1366x768</td>\n",
       "      <td>Intel Core i7 6500U 2.5GHz</td>\n",
       "      <td>6GB</td>\n",
       "      <td>1TB HDD</td>\n",
       "      <td>AMD Radeon R5 M330</td>\n",
       "      <td>Windows 10</td>\n",
       "      <td>2.19kg</td>\n",
       "      <td>...</td>\n",
       "      <td>No</td>\n",
       "      <td>15</td>\n",
       "      <td>1366</td>\n",
       "      <td>768</td>\n",
       "      <td>False</td>\n",
       "      <td>False</td>\n",
       "      <td>False</td>\n",
       "      <td>Intel</td>\n",
       "      <td>Intel i7</td>\n",
       "      <td>2.5</td>\n",
       "    </tr>\n",
       "    <tr>\n",
       "      <th>1302</th>\n",
       "      <td>Asus</td>\n",
       "      <td>Notebook</td>\n",
       "      <td>15.6</td>\n",
       "      <td>1366x768</td>\n",
       "      <td>Intel Celeron Dual Core N3050 1.6GHz</td>\n",
       "      <td>4GB</td>\n",
       "      <td>500GB HDD</td>\n",
       "      <td>Intel HD Graphics</td>\n",
       "      <td>Windows 10</td>\n",
       "      <td>2.2kg</td>\n",
       "      <td>...</td>\n",
       "      <td>No</td>\n",
       "      <td>15</td>\n",
       "      <td>1366</td>\n",
       "      <td>768</td>\n",
       "      <td>False</td>\n",
       "      <td>False</td>\n",
       "      <td>False</td>\n",
       "      <td>Intel</td>\n",
       "      <td>Intel Others</td>\n",
       "      <td>1.6</td>\n",
       "    </tr>\n",
       "  </tbody>\n",
       "</table>\n",
       "<p>1302 rows × 21 columns</p>\n",
       "</div>"
      ],
      "text/plain": [
       "     Company            TypeName  Inches  \\\n",
       "0      Apple           Ultrabook    13.3   \n",
       "1      Apple           Ultrabook    13.3   \n",
       "2         HP            Notebook    15.6   \n",
       "3      Apple           Ultrabook    15.4   \n",
       "4      Apple           Ultrabook    13.3   \n",
       "...      ...                 ...     ...   \n",
       "1298  Lenovo  2 in 1 Convertible    14.0   \n",
       "1299  Lenovo  2 in 1 Convertible    13.3   \n",
       "1300  Lenovo            Notebook    14.0   \n",
       "1301      HP            Notebook    15.6   \n",
       "1302    Asus            Notebook    15.6   \n",
       "\n",
       "                                ScreenResolution  \\\n",
       "0             IPS Panel Retina Display 2560x1600   \n",
       "1                                       1440x900   \n",
       "2                              Full HD 1920x1080   \n",
       "3             IPS Panel Retina Display 2880x1800   \n",
       "4             IPS Panel Retina Display 2560x1600   \n",
       "...                                          ...   \n",
       "1298   IPS Panel Full HD / Touchscreen 1920x1080   \n",
       "1299  IPS Panel Quad HD+ / Touchscreen 3200x1800   \n",
       "1300                                    1366x768   \n",
       "1301                                    1366x768   \n",
       "1302                                    1366x768   \n",
       "\n",
       "                                       Cpu   Ram               Memory  \\\n",
       "0                     Intel Core i5 2.3GHz   8GB            128GB SSD   \n",
       "1                     Intel Core i5 1.8GHz   8GB  128GB Flash Storage   \n",
       "2               Intel Core i5 7200U 2.5GHz   8GB            256GB SSD   \n",
       "3                     Intel Core i7 2.7GHz  16GB            512GB SSD   \n",
       "4                     Intel Core i5 3.1GHz   8GB            256GB SSD   \n",
       "...                                    ...   ...                  ...   \n",
       "1298            Intel Core i7 6500U 2.5GHz   4GB            128GB SSD   \n",
       "1299            Intel Core i7 6500U 2.5GHz  16GB            512GB SSD   \n",
       "1300  Intel Celeron Dual Core N3050 1.6GHz   2GB   64GB Flash Storage   \n",
       "1301            Intel Core i7 6500U 2.5GHz   6GB              1TB HDD   \n",
       "1302  Intel Celeron Dual Core N3050 1.6GHz   4GB            500GB HDD   \n",
       "\n",
       "                               Gpu       OpSys  Weight  ...  High_segment  \\\n",
       "0     Intel Iris Plus Graphics 640       macOS  1.37kg  ...           Yes   \n",
       "1           Intel HD Graphics 6000       macOS  1.34kg  ...           Yes   \n",
       "2            Intel HD Graphics 620       No OS  1.86kg  ...            No   \n",
       "3               AMD Radeon Pro 455       macOS  1.83kg  ...           Yes   \n",
       "4     Intel Iris Plus Graphics 650       macOS  1.37kg  ...           Yes   \n",
       "...                            ...         ...     ...  ...           ...   \n",
       "1298         Intel HD Graphics 520  Windows 10   1.8kg  ...            No   \n",
       "1299         Intel HD Graphics 520  Windows 10   1.3kg  ...            No   \n",
       "1300             Intel HD Graphics  Windows 10   1.5kg  ...            No   \n",
       "1301            AMD Radeon R5 M330  Windows 10  2.19kg  ...            No   \n",
       "1302             Intel HD Graphics  Windows 10   2.2kg  ...            No   \n",
       "\n",
       "     Inches_bins  Horizontal_resolution  Vertical_resolution  High_res  \\\n",
       "0             13                   2560                 1600      True   \n",
       "1             13                   1440                  900     False   \n",
       "2             15                   1920                 1080     False   \n",
       "3             15                   2880                 1800      True   \n",
       "4             13                   2560                 1600      True   \n",
       "...          ...                    ...                  ...       ...   \n",
       "1298          14                   1920                 1080     False   \n",
       "1299          13                   3200                 1800      True   \n",
       "1300          14                   1366                  768     False   \n",
       "1301          15                   1366                  768     False   \n",
       "1302          15                   1366                  768     False   \n",
       "\n",
       "      Has_touchscreen  Is_IPS  Cpu_Brand     Cpu_model Cpu_clock_freq  \n",
       "0               False    True      Intel      Intel i5            2.3  \n",
       "1               False   False      Intel      Intel i5            1.8  \n",
       "2               False   False      Intel      Intel i5            2.5  \n",
       "3               False    True      Intel      Intel i7            2.7  \n",
       "4               False    True      Intel      Intel i5            3.1  \n",
       "...               ...     ...        ...           ...            ...  \n",
       "1298             True    True      Intel      Intel i7            2.5  \n",
       "1299             True    True      Intel      Intel i7            2.5  \n",
       "1300            False   False      Intel  Intel Others            1.6  \n",
       "1301            False   False      Intel      Intel i7            2.5  \n",
       "1302            False   False      Intel  Intel Others            1.6  \n",
       "\n",
       "[1302 rows x 21 columns]"
      ]
     },
     "execution_count": 66,
     "metadata": {},
     "output_type": "execute_result"
    }
   ],
   "source": [
    "df"
   ]
  },
  {
   "cell_type": "markdown",
   "id": "7d74a317",
   "metadata": {},
   "source": [
    "### RAM"
   ]
  },
  {
   "cell_type": "code",
   "execution_count": 67,
   "id": "dkq_bCmO8-Cp",
   "metadata": {
    "executionInfo": {
     "elapsed": 15,
     "status": "ok",
     "timestamp": 1671697877299,
     "user": {
      "displayName": "Himanshu Arora",
      "userId": "03026800847751892488"
     },
     "user_tz": -330
    },
    "id": "dkq_bCmO8-Cp"
   },
   "outputs": [],
   "source": [
    "df['Ram'] = df['Ram'].apply(lambda x : x.replace('GB',''))"
   ]
  },
  {
   "cell_type": "code",
   "execution_count": 68,
   "id": "db46561b",
   "metadata": {},
   "outputs": [],
   "source": [
    "df['Ram'] = df['Ram'].astype('int')"
   ]
  },
  {
   "cell_type": "code",
   "execution_count": 69,
   "id": "Mjkosi8E9NDB",
   "metadata": {
    "colab": {
     "base_uri": "https://localhost:8080/"
    },
    "executionInfo": {
     "elapsed": 29,
     "status": "ok",
     "timestamp": 1671697893168,
     "user": {
      "displayName": "Himanshu Arora",
      "userId": "03026800847751892488"
     },
     "user_tz": -330
    },
    "id": "Mjkosi8E9NDB",
    "outputId": "2b955190-5ab5-44ae-bf1e-8a18f75e67c8"
   },
   "outputs": [
    {
     "data": {
      "text/plain": [
       "8     619\n",
       "4     374\n",
       "16    200\n",
       "6      41\n",
       "12     25\n",
       "2      22\n",
       "32     17\n",
       "24      3\n",
       "64      1\n",
       "Name: Ram, dtype: int64"
      ]
     },
     "execution_count": 69,
     "metadata": {},
     "output_type": "execute_result"
    }
   ],
   "source": [
    "df['Ram'].value_counts()"
   ]
  },
  {
   "cell_type": "code",
   "execution_count": 70,
   "id": "Gp1EOdxk9X-P",
   "metadata": {
    "colab": {
     "base_uri": "https://localhost:8080/"
    },
    "executionInfo": {
     "elapsed": 33,
     "status": "ok",
     "timestamp": 1671698037094,
     "user": {
      "displayName": "Himanshu Arora",
      "userId": "03026800847751892488"
     },
     "user_tz": -330
    },
    "id": "Gp1EOdxk9X-P",
    "outputId": "f0f5d72b-4265-4309-b47b-6b812bfaa00c"
   },
   "outputs": [
    {
     "data": {
      "text/plain": [
       "High_segment  Ram\n",
       "No            8      0.433486\n",
       "              4      0.411697\n",
       "              16     0.064220\n",
       "              6      0.045872\n",
       "              2      0.025229\n",
       "              12     0.017202\n",
       "              32     0.002294\n",
       "Yes           8      0.560465\n",
       "              16     0.334884\n",
       "              4      0.034884\n",
       "              32     0.034884\n",
       "              12     0.023256\n",
       "              24     0.006977\n",
       "              6      0.002326\n",
       "              64     0.002326\n",
       "Name: Ram, dtype: float64"
      ]
     },
     "execution_count": 70,
     "metadata": {},
     "output_type": "execute_result"
    }
   ],
   "source": [
    "type_grp = df.groupby('High_segment')\n",
    "\n",
    "type_grp['Ram'].value_counts(normalize=True)\n"
   ]
  },
  {
   "cell_type": "code",
   "execution_count": 71,
   "id": "d3b49478",
   "metadata": {},
   "outputs": [
    {
     "data": {
      "text/plain": [
       "{2: (9271.0, 20193.0),\n",
       " 4: (10443.0, 95851.0),\n",
       " 6: (21792.0, 50563.0),\n",
       " 8: (17529.0, 210424.0),\n",
       " 12: (32448.0, 122491.0),\n",
       " 16: (45768.0, 233846.0),\n",
       " 24: (67612.0, 158135.0),\n",
       " 32: (68145.0, 324955.0),\n",
       " 64: (211788.0, 211788.0)}"
      ]
     },
     "execution_count": 71,
     "metadata": {},
     "output_type": "execute_result"
    }
   ],
   "source": [
    "range_list = {}\n",
    "for r in np.sort(df['Ram'].unique()):\n",
    "    min_range = df[df['Ram'] == r]['Price'].min()  \n",
    "    max_range = df[df['Ram'] == r]['Price'].max()\n",
    "    diff = np.round(max_range - min_range)\n",
    "    range_list[r] = (np.round(min_range),np.round(max_range))\n",
    "    \n",
    "range_list"
   ]
  },
  {
   "cell_type": "code",
   "execution_count": 72,
   "id": "6b2824bd",
   "metadata": {},
   "outputs": [
    {
     "data": {
      "text/plain": [
       "<AxesSubplot: xlabel='Ram', ylabel='Price'>"
      ]
     },
     "execution_count": 72,
     "metadata": {},
     "output_type": "execute_result"
    },
    {
     "data": {
      "image/png": "[encoded data removed]",
      "text/plain": [
       "<Figure size 640x480 with 1 Axes>"
      ]
     },
     "metadata": {},
     "output_type": "display_data"
    }
   ],
   "source": [
    "sns.barplot(x='Ram',y='Price',data=df)"
   ]
  },
  {
   "cell_type": "code",
   "execution_count": 73,
   "id": "O5vxHCAw9qhR",
   "metadata": {
    "colab": {
     "base_uri": "https://localhost:8080/",
     "height": 279
    },
    "executionInfo": {
     "elapsed": 947,
     "status": "ok",
     "timestamp": 1671698428428,
     "user": {
      "displayName": "Himanshu Arora",
      "userId": "03026800847751892488"
     },
     "user_tz": -330
    },
    "id": "O5vxHCAw9qhR",
    "outputId": "30f626f8-b185-40e0-bc6d-2e6d2f2d1dc7"
   },
   "outputs": [
    {
     "data": {
      "image/png": "[encoded data removed]",
      "text/plain": [
       "<Figure size 640x480 with 1 Axes>"
      ]
     },
     "metadata": {},
     "output_type": "display_data"
    }
   ],
   "source": [
    "sns.countplot(x='Ram',data=df,hue='High_segment',order=[2,4,6,8,12,16,24,32,64],hue_order=['No','Yes'])\n",
    "plt.legend(loc=1)\n",
    "plt.show()"
   ]
  },
  {
   "cell_type": "markdown",
   "id": "N-2KzgRi_GKi",
   "metadata": {
    "id": "N-2KzgRi_GKi"
   },
   "source": [
    "In lower end of the segment the 4GB and the 6GB capacity are more prevalant.   \n",
    "In the higher end of the segment the 16 GB and upwards of memory is used."
   ]
  },
  {
   "cell_type": "code",
   "execution_count": 74,
   "id": "Yel41jDY_FrE",
   "metadata": {
    "id": "Yel41jDY_FrE"
   },
   "outputs": [
    {
     "data": {
      "text/html": [
       "<div>\n",
       "<style scoped>\n",
       "    .dataframe tbody tr th:only-of-type {\n",
       "        vertical-align: middle;\n",
       "    }\n",
       "\n",
       "    .dataframe tbody tr th {\n",
       "        vertical-align: top;\n",
       "    }\n",
       "\n",
       "    .dataframe thead th {\n",
       "        text-align: right;\n",
       "    }\n",
       "</style>\n",
       "<table border=\"1\" class=\"dataframe\">\n",
       "  <thead>\n",
       "    <tr style=\"text-align: right;\">\n",
       "      <th></th>\n",
       "      <th>Company</th>\n",
       "      <th>TypeName</th>\n",
       "      <th>Inches</th>\n",
       "      <th>ScreenResolution</th>\n",
       "      <th>Cpu</th>\n",
       "      <th>Ram</th>\n",
       "      <th>Memory</th>\n",
       "      <th>Gpu</th>\n",
       "      <th>OpSys</th>\n",
       "      <th>Weight</th>\n",
       "      <th>...</th>\n",
       "      <th>High_segment</th>\n",
       "      <th>Inches_bins</th>\n",
       "      <th>Horizontal_resolution</th>\n",
       "      <th>Vertical_resolution</th>\n",
       "      <th>High_res</th>\n",
       "      <th>Has_touchscreen</th>\n",
       "      <th>Is_IPS</th>\n",
       "      <th>Cpu_Brand</th>\n",
       "      <th>Cpu_model</th>\n",
       "      <th>Cpu_clock_freq</th>\n",
       "    </tr>\n",
       "  </thead>\n",
       "  <tbody>\n",
       "    <tr>\n",
       "      <th>0</th>\n",
       "      <td>Apple</td>\n",
       "      <td>Ultrabook</td>\n",
       "      <td>13.3</td>\n",
       "      <td>IPS Panel Retina Display 2560x1600</td>\n",
       "      <td>Intel Core i5 2.3GHz</td>\n",
       "      <td>8</td>\n",
       "      <td>128GB SSD</td>\n",
       "      <td>Intel Iris Plus Graphics 640</td>\n",
       "      <td>macOS</td>\n",
       "      <td>1.37kg</td>\n",
       "      <td>...</td>\n",
       "      <td>Yes</td>\n",
       "      <td>13</td>\n",
       "      <td>2560</td>\n",
       "      <td>1600</td>\n",
       "      <td>True</td>\n",
       "      <td>False</td>\n",
       "      <td>True</td>\n",
       "      <td>Intel</td>\n",
       "      <td>Intel i5</td>\n",
       "      <td>2.3</td>\n",
       "    </tr>\n",
       "    <tr>\n",
       "      <th>1</th>\n",
       "      <td>Apple</td>\n",
       "      <td>Ultrabook</td>\n",
       "      <td>13.3</td>\n",
       "      <td>1440x900</td>\n",
       "      <td>Intel Core i5 1.8GHz</td>\n",
       "      <td>8</td>\n",
       "      <td>128GB Flash Storage</td>\n",
       "      <td>Intel HD Graphics 6000</td>\n",
       "      <td>macOS</td>\n",
       "      <td>1.34kg</td>\n",
       "      <td>...</td>\n",
       "      <td>Yes</td>\n",
       "      <td>13</td>\n",
       "      <td>1440</td>\n",
       "      <td>900</td>\n",
       "      <td>False</td>\n",
       "      <td>False</td>\n",
       "      <td>False</td>\n",
       "      <td>Intel</td>\n",
       "      <td>Intel i5</td>\n",
       "      <td>1.8</td>\n",
       "    </tr>\n",
       "    <tr>\n",
       "      <th>2</th>\n",
       "      <td>HP</td>\n",
       "      <td>Notebook</td>\n",
       "      <td>15.6</td>\n",
       "      <td>Full HD 1920x1080</td>\n",
       "      <td>Intel Core i5 7200U 2.5GHz</td>\n",
       "      <td>8</td>\n",
       "      <td>256GB SSD</td>\n",
       "      <td>Intel HD Graphics 620</td>\n",
       "      <td>No OS</td>\n",
       "      <td>1.86kg</td>\n",
       "      <td>...</td>\n",
       "      <td>No</td>\n",
       "      <td>15</td>\n",
       "      <td>1920</td>\n",
       "      <td>1080</td>\n",
       "      <td>False</td>\n",
       "      <td>False</td>\n",
       "      <td>False</td>\n",
       "      <td>Intel</td>\n",
       "      <td>Intel i5</td>\n",
       "      <td>2.5</td>\n",
       "    </tr>\n",
       "  </tbody>\n",
       "</table>\n",
       "<p>3 rows × 21 columns</p>\n",
       "</div>"
      ],
      "text/plain": [
       "  Company   TypeName  Inches                    ScreenResolution  \\\n",
       "0   Apple  Ultrabook    13.3  IPS Panel Retina Display 2560x1600   \n",
       "1   Apple  Ultrabook    13.3                            1440x900   \n",
       "2      HP   Notebook    15.6                   Full HD 1920x1080   \n",
       "\n",
       "                          Cpu  Ram               Memory  \\\n",
       "0        Intel Core i5 2.3GHz    8            128GB SSD   \n",
       "1        Intel Core i5 1.8GHz    8  128GB Flash Storage   \n",
       "2  Intel Core i5 7200U 2.5GHz    8            256GB SSD   \n",
       "\n",
       "                            Gpu  OpSys  Weight  ...  High_segment Inches_bins  \\\n",
       "0  Intel Iris Plus Graphics 640  macOS  1.37kg  ...           Yes          13   \n",
       "1        Intel HD Graphics 6000  macOS  1.34kg  ...           Yes          13   \n",
       "2         Intel HD Graphics 620  No OS  1.86kg  ...            No          15   \n",
       "\n",
       "   Horizontal_resolution  Vertical_resolution  High_res  Has_touchscreen  \\\n",
       "0                   2560                 1600      True            False   \n",
       "1                   1440                  900     False            False   \n",
       "2                   1920                 1080     False            False   \n",
       "\n",
       "   Is_IPS  Cpu_Brand Cpu_model Cpu_clock_freq  \n",
       "0    True      Intel  Intel i5            2.3  \n",
       "1   False      Intel  Intel i5            1.8  \n",
       "2   False      Intel  Intel i5            2.5  \n",
       "\n",
       "[3 rows x 21 columns]"
      ]
     },
     "execution_count": 74,
     "metadata": {},
     "output_type": "execute_result"
    }
   ],
   "source": [
    "df.head(3)"
   ]
  },
  {
   "cell_type": "code",
   "execution_count": 75,
   "id": "b1fc5000",
   "metadata": {},
   "outputs": [
    {
     "data": {
      "text/plain": [
       "Index(['Company', 'TypeName', 'Inches', 'ScreenResolution', 'Cpu', 'Ram',\n",
       "       'Memory', 'Gpu', 'OpSys', 'Weight', 'Price', 'High_segment',\n",
       "       'Inches_bins', 'Horizontal_resolution', 'Vertical_resolution',\n",
       "       'High_res', 'Has_touchscreen', 'Is_IPS', 'Cpu_Brand', 'Cpu_model',\n",
       "       'Cpu_clock_freq'],\n",
       "      dtype='object')"
      ]
     },
     "execution_count": 75,
     "metadata": {},
     "output_type": "execute_result"
    }
   ],
   "source": [
    "df.columns"
   ]
  },
  {
   "cell_type": "code",
   "execution_count": 76,
   "id": "schyI-m6-YLf",
   "metadata": {
    "id": "schyI-m6-YLf"
   },
   "outputs": [],
   "source": [
    "# Dropping redundant columns\n",
    "\n",
    "df.drop(columns=['ScreenResolution','Cpu','Cpu_Brand'],inplace=True)"
   ]
  },
  {
   "cell_type": "markdown",
   "id": "97325188",
   "metadata": {},
   "source": [
    "### Storage"
   ]
  },
  {
   "cell_type": "code",
   "execution_count": 77,
   "id": "5ff09c94",
   "metadata": {},
   "outputs": [
    {
     "data": {
      "text/plain": [
       "1.0TB Hybrid                 9\n",
       "508GB Hybrid                 1\n",
       "512GB SSD +  1.0TB Hybrid    1\n",
       "256GB SSD +  1.0TB Hybrid    1\n",
       "Name: Memory, dtype: int64"
      ]
     },
     "execution_count": 77,
     "metadata": {},
     "output_type": "execute_result"
    }
   ],
   "source": [
    "df['Memory'].value_counts()[df['Memory'].value_counts().index.str.contains('Hybrid')]"
   ]
  },
  {
   "cell_type": "code",
   "execution_count": 78,
   "id": "59215091",
   "metadata": {},
   "outputs": [],
   "source": [
    "# replace TB with 1000 GB\n",
    "\n",
    "df[\"Memory\"] = df['Memory'].apply(lambda x: x.replace('1TB','1000GB'))"
   ]
  },
  {
   "cell_type": "code",
   "execution_count": 79,
   "id": "d80ac94c",
   "metadata": {},
   "outputs": [],
   "source": [
    "df['Memory'] = df['Memory'].str.replace('Hybrid','HDD')"
   ]
  },
  {
   "cell_type": "code",
   "execution_count": 80,
   "id": "490fafe9",
   "metadata": {},
   "outputs": [],
   "source": [
    "# replace 1.0TB with 1000 GB\n",
    "\n",
    "df[\"Memory\"] = df['Memory'].apply(lambda x: x.replace('1.0TB','1000GB'))"
   ]
  },
  {
   "cell_type": "code",
   "execution_count": 81,
   "id": "071931c7",
   "metadata": {},
   "outputs": [],
   "source": [
    "# replace 2TB with 2000GB\n",
    "\n",
    "df[\"Memory\"] = df['Memory'].apply(lambda x: x.replace('2TB','1000GB'))"
   ]
  },
  {
   "cell_type": "code",
   "execution_count": 82,
   "id": "5abe6afc",
   "metadata": {},
   "outputs": [],
   "source": [
    "# split at +\n",
    "\n",
    "temp_storage = df['Memory'].str.split('+',expand=True)"
   ]
  },
  {
   "cell_type": "code",
   "execution_count": 83,
   "id": "0da07e32",
   "metadata": {},
   "outputs": [
    {
     "data": {
      "text/plain": [
       "1302"
      ]
     },
     "execution_count": 83,
     "metadata": {},
     "output_type": "execute_result"
    }
   ],
   "source": [
    "df['Memory'].value_counts().sum()"
   ]
  },
  {
   "cell_type": "code",
   "execution_count": 84,
   "id": "3bfc364f",
   "metadata": {},
   "outputs": [],
   "source": [
    "df['Memory'] = df['Memory'].str.replace('508GB','500GB')"
   ]
  },
  {
   "cell_type": "code",
   "execution_count": 85,
   "id": "40aac38d",
   "metadata": {},
   "outputs": [
    {
     "data": {
      "text/plain": [
       "256GB SSD                           412\n",
       "1000GB HDD                          249\n",
       "500GB HDD                           133\n",
       "512GB SSD                           118\n",
       "128GB SSD +  1000GB HDD              96\n",
       "256GB SSD +  1000GB HDD              84\n",
       "128GB SSD                            76\n",
       "32GB Flash Storage                   37\n",
       "512GB SSD +  1000GB HDD              18\n",
       "64GB Flash Storage                   15\n",
       "1000GB SSD                           14\n",
       "256GB Flash Storage                   8\n",
       "16GB Flash Storage                    7\n",
       "32GB SSD                              6\n",
       "180GB SSD                             5\n",
       "128GB Flash Storage                   4\n",
       "16GB SSD                              3\n",
       "256GB SSD +  256GB SSD                2\n",
       "256GB SSD +  500GB HDD                2\n",
       "512GB Flash Storage                   2\n",
       "1000GB SSD +  1000GB HDD              2\n",
       "32GB HDD                              1\n",
       "240GB SSD                             1\n",
       "128GB HDD                             1\n",
       "512GB SSD +  256GB SSD                1\n",
       "1000GB HDD +  1000GB HDD              1\n",
       "64GB Flash Storage +  1000GB HDD      1\n",
       "512GB SSD +  512GB SSD                1\n",
       "64GB SSD                              1\n",
       "8GB SSD                               1\n",
       "Name: Memory, dtype: int64"
      ]
     },
     "execution_count": 85,
     "metadata": {},
     "output_type": "execute_result"
    }
   ],
   "source": [
    "df['Memory'].value_counts()"
   ]
  },
  {
   "cell_type": "markdown",
   "id": "8a306133",
   "metadata": {},
   "source": [
    "#### Steps to make the split and calculate the storage:-\n",
    "\n",
    "1. Split the memory column on the '+' and create two new columns with name mem_split1 and mem_split2.\n",
    "2. Make 3 New columns with name of HDD, SDD, Flash storage and instantiate all with 0.\n",
    "3. Read every row and check for the presence of HDD, SDD and Flash and then add the number to the destination column accordingly.\n",
    "4. Do the same with the second split and add the values to the existing 3 columns.\n",
    "5. By doing this we add the storage capacity of the two splits together."
   ]
  },
  {
   "cell_type": "code",
   "execution_count": 86,
   "id": "d556175b",
   "metadata": {},
   "outputs": [],
   "source": [
    "df['mem_split1'] = df['Memory'].str.split('+',expand=True)[0]\n",
    "df['mem_split2'] = df['Memory'].str.split('+',expand=True)[1]"
   ]
  },
  {
   "cell_type": "code",
   "execution_count": 87,
   "id": "9605afbc",
   "metadata": {},
   "outputs": [],
   "source": [
    "df['HDD'] = 0\n",
    "df['SSD'] = 0\n",
    "df['Flash'] = 0"
   ]
  },
  {
   "cell_type": "code",
   "execution_count": 88,
   "id": "0c41db83",
   "metadata": {},
   "outputs": [
    {
     "data": {
      "text/plain": [
       "0                 128GB SSD\n",
       "1       128GB Flash Storage\n",
       "2                 256GB SSD\n",
       "3                 512GB SSD\n",
       "4                 256GB SSD\n",
       "               ...         \n",
       "1298              128GB SSD\n",
       "1299              512GB SSD\n",
       "1300     64GB Flash Storage\n",
       "1301             1000GB HDD\n",
       "1302              500GB HDD\n",
       "Name: mem_split1, Length: 1302, dtype: object"
      ]
     },
     "execution_count": 88,
     "metadata": {},
     "output_type": "execute_result"
    }
   ],
   "source": [
    "df['mem_split1']"
   ]
  },
  {
   "cell_type": "code",
   "execution_count": 89,
   "id": "d0b8d03b",
   "metadata": {},
   "outputs": [],
   "source": [
    "df['HDD'] = df['mem_split1'].apply(lambda x : int(x.split()[0].replace('GB','')) if 'HDD' in x else 0 )\n",
    "df['SSD'] = df['mem_split1'].apply(lambda x : int(x.split()[0].replace('GB','')) if 'SSD' in x else 0 )\n",
    "df['Flash'] = df['mem_split1'].apply(lambda x : int(x.split()[0].replace('GB','')) if 'Flash' in x else 0 )"
   ]
  },
  {
   "cell_type": "code",
   "execution_count": 90,
   "id": "86515c02",
   "metadata": {},
   "outputs": [
    {
     "data": {
      "text/html": [
       "<div>\n",
       "<style scoped>\n",
       "    .dataframe tbody tr th:only-of-type {\n",
       "        vertical-align: middle;\n",
       "    }\n",
       "\n",
       "    .dataframe tbody tr th {\n",
       "        vertical-align: top;\n",
       "    }\n",
       "\n",
       "    .dataframe thead th {\n",
       "        text-align: right;\n",
       "    }\n",
       "</style>\n",
       "<table border=\"1\" class=\"dataframe\">\n",
       "  <thead>\n",
       "    <tr style=\"text-align: right;\">\n",
       "      <th></th>\n",
       "      <th>Memory</th>\n",
       "      <th>HDD</th>\n",
       "      <th>SSD</th>\n",
       "      <th>Flash</th>\n",
       "    </tr>\n",
       "  </thead>\n",
       "  <tbody>\n",
       "    <tr>\n",
       "      <th>947</th>\n",
       "      <td>1000GB HDD</td>\n",
       "      <td>1000</td>\n",
       "      <td>0</td>\n",
       "      <td>0</td>\n",
       "    </tr>\n",
       "    <tr>\n",
       "      <th>190</th>\n",
       "      <td>1000GB SSD</td>\n",
       "      <td>0</td>\n",
       "      <td>1000</td>\n",
       "      <td>0</td>\n",
       "    </tr>\n",
       "    <tr>\n",
       "      <th>1084</th>\n",
       "      <td>256GB SSD</td>\n",
       "      <td>0</td>\n",
       "      <td>256</td>\n",
       "      <td>0</td>\n",
       "    </tr>\n",
       "    <tr>\n",
       "      <th>527</th>\n",
       "      <td>1000GB HDD</td>\n",
       "      <td>1000</td>\n",
       "      <td>0</td>\n",
       "      <td>0</td>\n",
       "    </tr>\n",
       "    <tr>\n",
       "      <th>116</th>\n",
       "      <td>512GB SSD</td>\n",
       "      <td>0</td>\n",
       "      <td>512</td>\n",
       "      <td>0</td>\n",
       "    </tr>\n",
       "    <tr>\n",
       "      <th>1249</th>\n",
       "      <td>256GB SSD</td>\n",
       "      <td>0</td>\n",
       "      <td>256</td>\n",
       "      <td>0</td>\n",
       "    </tr>\n",
       "    <tr>\n",
       "      <th>1035</th>\n",
       "      <td>256GB SSD</td>\n",
       "      <td>0</td>\n",
       "      <td>256</td>\n",
       "      <td>0</td>\n",
       "    </tr>\n",
       "    <tr>\n",
       "      <th>398</th>\n",
       "      <td>256GB SSD</td>\n",
       "      <td>0</td>\n",
       "      <td>256</td>\n",
       "      <td>0</td>\n",
       "    </tr>\n",
       "    <tr>\n",
       "      <th>209</th>\n",
       "      <td>256GB SSD</td>\n",
       "      <td>0</td>\n",
       "      <td>256</td>\n",
       "      <td>0</td>\n",
       "    </tr>\n",
       "    <tr>\n",
       "      <th>694</th>\n",
       "      <td>256GB SSD</td>\n",
       "      <td>0</td>\n",
       "      <td>256</td>\n",
       "      <td>0</td>\n",
       "    </tr>\n",
       "    <tr>\n",
       "      <th>764</th>\n",
       "      <td>500GB HDD</td>\n",
       "      <td>500</td>\n",
       "      <td>0</td>\n",
       "      <td>0</td>\n",
       "    </tr>\n",
       "    <tr>\n",
       "      <th>1160</th>\n",
       "      <td>256GB SSD</td>\n",
       "      <td>0</td>\n",
       "      <td>256</td>\n",
       "      <td>0</td>\n",
       "    </tr>\n",
       "    <tr>\n",
       "      <th>1053</th>\n",
       "      <td>256GB SSD</td>\n",
       "      <td>0</td>\n",
       "      <td>256</td>\n",
       "      <td>0</td>\n",
       "    </tr>\n",
       "    <tr>\n",
       "      <th>82</th>\n",
       "      <td>256GB SSD</td>\n",
       "      <td>0</td>\n",
       "      <td>256</td>\n",
       "      <td>0</td>\n",
       "    </tr>\n",
       "    <tr>\n",
       "      <th>950</th>\n",
       "      <td>8GB SSD</td>\n",
       "      <td>0</td>\n",
       "      <td>8</td>\n",
       "      <td>0</td>\n",
       "    </tr>\n",
       "    <tr>\n",
       "      <th>1102</th>\n",
       "      <td>16GB SSD</td>\n",
       "      <td>0</td>\n",
       "      <td>16</td>\n",
       "      <td>0</td>\n",
       "    </tr>\n",
       "    <tr>\n",
       "      <th>838</th>\n",
       "      <td>16GB Flash Storage</td>\n",
       "      <td>0</td>\n",
       "      <td>0</td>\n",
       "      <td>16</td>\n",
       "    </tr>\n",
       "    <tr>\n",
       "      <th>1069</th>\n",
       "      <td>256GB Flash Storage</td>\n",
       "      <td>0</td>\n",
       "      <td>0</td>\n",
       "      <td>256</td>\n",
       "    </tr>\n",
       "    <tr>\n",
       "      <th>390</th>\n",
       "      <td>1000GB HDD</td>\n",
       "      <td>1000</td>\n",
       "      <td>0</td>\n",
       "      <td>0</td>\n",
       "    </tr>\n",
       "    <tr>\n",
       "      <th>614</th>\n",
       "      <td>500GB HDD</td>\n",
       "      <td>500</td>\n",
       "      <td>0</td>\n",
       "      <td>0</td>\n",
       "    </tr>\n",
       "    <tr>\n",
       "      <th>62</th>\n",
       "      <td>256GB SSD</td>\n",
       "      <td>0</td>\n",
       "      <td>256</td>\n",
       "      <td>0</td>\n",
       "    </tr>\n",
       "    <tr>\n",
       "      <th>828</th>\n",
       "      <td>32GB Flash Storage</td>\n",
       "      <td>0</td>\n",
       "      <td>0</td>\n",
       "      <td>32</td>\n",
       "    </tr>\n",
       "    <tr>\n",
       "      <th>435</th>\n",
       "      <td>256GB SSD +  1000GB HDD</td>\n",
       "      <td>0</td>\n",
       "      <td>256</td>\n",
       "      <td>0</td>\n",
       "    </tr>\n",
       "    <tr>\n",
       "      <th>1259</th>\n",
       "      <td>128GB SSD +  1000GB HDD</td>\n",
       "      <td>0</td>\n",
       "      <td>128</td>\n",
       "      <td>0</td>\n",
       "    </tr>\n",
       "    <tr>\n",
       "      <th>430</th>\n",
       "      <td>16GB Flash Storage</td>\n",
       "      <td>0</td>\n",
       "      <td>0</td>\n",
       "      <td>16</td>\n",
       "    </tr>\n",
       "    <tr>\n",
       "      <th>994</th>\n",
       "      <td>256GB SSD</td>\n",
       "      <td>0</td>\n",
       "      <td>256</td>\n",
       "      <td>0</td>\n",
       "    </tr>\n",
       "    <tr>\n",
       "      <th>1167</th>\n",
       "      <td>1000GB HDD</td>\n",
       "      <td>1000</td>\n",
       "      <td>0</td>\n",
       "      <td>0</td>\n",
       "    </tr>\n",
       "    <tr>\n",
       "      <th>656</th>\n",
       "      <td>256GB SSD</td>\n",
       "      <td>0</td>\n",
       "      <td>256</td>\n",
       "      <td>0</td>\n",
       "    </tr>\n",
       "    <tr>\n",
       "      <th>1007</th>\n",
       "      <td>256GB SSD</td>\n",
       "      <td>0</td>\n",
       "      <td>256</td>\n",
       "      <td>0</td>\n",
       "    </tr>\n",
       "    <tr>\n",
       "      <th>826</th>\n",
       "      <td>256GB SSD</td>\n",
       "      <td>0</td>\n",
       "      <td>256</td>\n",
       "      <td>0</td>\n",
       "    </tr>\n",
       "    <tr>\n",
       "      <th>904</th>\n",
       "      <td>512GB SSD</td>\n",
       "      <td>0</td>\n",
       "      <td>512</td>\n",
       "      <td>0</td>\n",
       "    </tr>\n",
       "    <tr>\n",
       "      <th>21</th>\n",
       "      <td>128GB SSD +  1000GB HDD</td>\n",
       "      <td>0</td>\n",
       "      <td>128</td>\n",
       "      <td>0</td>\n",
       "    </tr>\n",
       "    <tr>\n",
       "      <th>591</th>\n",
       "      <td>512GB SSD</td>\n",
       "      <td>0</td>\n",
       "      <td>512</td>\n",
       "      <td>0</td>\n",
       "    </tr>\n",
       "    <tr>\n",
       "      <th>1149</th>\n",
       "      <td>256GB SSD</td>\n",
       "      <td>0</td>\n",
       "      <td>256</td>\n",
       "      <td>0</td>\n",
       "    </tr>\n",
       "    <tr>\n",
       "      <th>867</th>\n",
       "      <td>256GB SSD</td>\n",
       "      <td>0</td>\n",
       "      <td>256</td>\n",
       "      <td>0</td>\n",
       "    </tr>\n",
       "    <tr>\n",
       "      <th>1056</th>\n",
       "      <td>500GB HDD</td>\n",
       "      <td>500</td>\n",
       "      <td>0</td>\n",
       "      <td>0</td>\n",
       "    </tr>\n",
       "    <tr>\n",
       "      <th>750</th>\n",
       "      <td>128GB SSD</td>\n",
       "      <td>0</td>\n",
       "      <td>128</td>\n",
       "      <td>0</td>\n",
       "    </tr>\n",
       "    <tr>\n",
       "      <th>373</th>\n",
       "      <td>128GB SSD</td>\n",
       "      <td>0</td>\n",
       "      <td>128</td>\n",
       "      <td>0</td>\n",
       "    </tr>\n",
       "    <tr>\n",
       "      <th>924</th>\n",
       "      <td>512GB SSD</td>\n",
       "      <td>0</td>\n",
       "      <td>512</td>\n",
       "      <td>0</td>\n",
       "    </tr>\n",
       "    <tr>\n",
       "      <th>804</th>\n",
       "      <td>128GB SSD</td>\n",
       "      <td>0</td>\n",
       "      <td>128</td>\n",
       "      <td>0</td>\n",
       "    </tr>\n",
       "    <tr>\n",
       "      <th>198</th>\n",
       "      <td>256GB SSD +  1000GB HDD</td>\n",
       "      <td>0</td>\n",
       "      <td>256</td>\n",
       "      <td>0</td>\n",
       "    </tr>\n",
       "    <tr>\n",
       "      <th>1201</th>\n",
       "      <td>500GB HDD</td>\n",
       "      <td>500</td>\n",
       "      <td>0</td>\n",
       "      <td>0</td>\n",
       "    </tr>\n",
       "    <tr>\n",
       "      <th>762</th>\n",
       "      <td>256GB SSD</td>\n",
       "      <td>0</td>\n",
       "      <td>256</td>\n",
       "      <td>0</td>\n",
       "    </tr>\n",
       "    <tr>\n",
       "      <th>1185</th>\n",
       "      <td>256GB SSD +  1000GB HDD</td>\n",
       "      <td>0</td>\n",
       "      <td>256</td>\n",
       "      <td>0</td>\n",
       "    </tr>\n",
       "    <tr>\n",
       "      <th>1060</th>\n",
       "      <td>256GB SSD</td>\n",
       "      <td>0</td>\n",
       "      <td>256</td>\n",
       "      <td>0</td>\n",
       "    </tr>\n",
       "    <tr>\n",
       "      <th>382</th>\n",
       "      <td>128GB SSD +  1000GB HDD</td>\n",
       "      <td>0</td>\n",
       "      <td>128</td>\n",
       "      <td>0</td>\n",
       "    </tr>\n",
       "    <tr>\n",
       "      <th>102</th>\n",
       "      <td>1000GB HDD</td>\n",
       "      <td>1000</td>\n",
       "      <td>0</td>\n",
       "      <td>0</td>\n",
       "    </tr>\n",
       "    <tr>\n",
       "      <th>786</th>\n",
       "      <td>128GB SSD +  1000GB HDD</td>\n",
       "      <td>0</td>\n",
       "      <td>128</td>\n",
       "      <td>0</td>\n",
       "    </tr>\n",
       "    <tr>\n",
       "      <th>780</th>\n",
       "      <td>1000GB SSD +  1000GB HDD</td>\n",
       "      <td>0</td>\n",
       "      <td>1000</td>\n",
       "      <td>0</td>\n",
       "    </tr>\n",
       "    <tr>\n",
       "      <th>959</th>\n",
       "      <td>32GB Flash Storage</td>\n",
       "      <td>0</td>\n",
       "      <td>0</td>\n",
       "      <td>32</td>\n",
       "    </tr>\n",
       "  </tbody>\n",
       "</table>\n",
       "</div>"
      ],
      "text/plain": [
       "                        Memory   HDD   SSD  Flash\n",
       "947                 1000GB HDD  1000     0      0\n",
       "190                 1000GB SSD     0  1000      0\n",
       "1084                 256GB SSD     0   256      0\n",
       "527                 1000GB HDD  1000     0      0\n",
       "116                  512GB SSD     0   512      0\n",
       "1249                 256GB SSD     0   256      0\n",
       "1035                 256GB SSD     0   256      0\n",
       "398                  256GB SSD     0   256      0\n",
       "209                  256GB SSD     0   256      0\n",
       "694                  256GB SSD     0   256      0\n",
       "764                  500GB HDD   500     0      0\n",
       "1160                 256GB SSD     0   256      0\n",
       "1053                 256GB SSD     0   256      0\n",
       "82                   256GB SSD     0   256      0\n",
       "950                    8GB SSD     0     8      0\n",
       "1102                  16GB SSD     0    16      0\n",
       "838         16GB Flash Storage     0     0     16\n",
       "1069       256GB Flash Storage     0     0    256\n",
       "390                 1000GB HDD  1000     0      0\n",
       "614                  500GB HDD   500     0      0\n",
       "62                   256GB SSD     0   256      0\n",
       "828         32GB Flash Storage     0     0     32\n",
       "435    256GB SSD +  1000GB HDD     0   256      0\n",
       "1259   128GB SSD +  1000GB HDD     0   128      0\n",
       "430         16GB Flash Storage     0     0     16\n",
       "994                  256GB SSD     0   256      0\n",
       "1167                1000GB HDD  1000     0      0\n",
       "656                  256GB SSD     0   256      0\n",
       "1007                 256GB SSD     0   256      0\n",
       "826                  256GB SSD     0   256      0\n",
       "904                  512GB SSD     0   512      0\n",
       "21     128GB SSD +  1000GB HDD     0   128      0\n",
       "591                  512GB SSD     0   512      0\n",
       "1149                 256GB SSD     0   256      0\n",
       "867                  256GB SSD     0   256      0\n",
       "1056                 500GB HDD   500     0      0\n",
       "750                  128GB SSD     0   128      0\n",
       "373                  128GB SSD     0   128      0\n",
       "924                  512GB SSD     0   512      0\n",
       "804                  128GB SSD     0   128      0\n",
       "198    256GB SSD +  1000GB HDD     0   256      0\n",
       "1201                 500GB HDD   500     0      0\n",
       "762                  256GB SSD     0   256      0\n",
       "1185   256GB SSD +  1000GB HDD     0   256      0\n",
       "1060                 256GB SSD     0   256      0\n",
       "382    128GB SSD +  1000GB HDD     0   128      0\n",
       "102                 1000GB HDD  1000     0      0\n",
       "786    128GB SSD +  1000GB HDD     0   128      0\n",
       "780   1000GB SSD +  1000GB HDD     0  1000      0\n",
       "959         32GB Flash Storage     0     0     32"
      ]
     },
     "execution_count": 90,
     "metadata": {},
     "output_type": "execute_result"
    }
   ],
   "source": [
    "df[['Memory','HDD','SSD','Flash']].sample(50)"
   ]
  },
  {
   "cell_type": "code",
   "execution_count": 91,
   "id": "0ea70575",
   "metadata": {},
   "outputs": [],
   "source": [
    "df['mem_split2'].fillna('0',inplace=True)"
   ]
  },
  {
   "cell_type": "code",
   "execution_count": 92,
   "id": "3813ba44",
   "metadata": {},
   "outputs": [],
   "source": [
    "df['mem_split2'] = df['mem_split2'].str.lstrip(' ')"
   ]
  },
  {
   "cell_type": "code",
   "execution_count": 93,
   "id": "2b76a391",
   "metadata": {},
   "outputs": [],
   "source": [
    "df['HDD'] = df['HDD'] + df['mem_split2'].apply(lambda x : int(x.split()[0].replace('GB','')) if 'HDD' in x else 0 )\n",
    "df['SSD'] = df['SSD'] + df['mem_split2'].apply(lambda x : int(x.split()[0].replace('GB','')) if 'SSD' in x else 0 )\n",
    "df['Flash'] = df['Flash'] + df['mem_split2'].apply(lambda x : int(x.split()[0].replace('GB','')) if 'Flash' in x else 0 )"
   ]
  },
  {
   "cell_type": "code",
   "execution_count": 94,
   "id": "a564e1eb",
   "metadata": {},
   "outputs": [
    {
     "data": {
      "text/html": [
       "<div>\n",
       "<style scoped>\n",
       "    .dataframe tbody tr th:only-of-type {\n",
       "        vertical-align: middle;\n",
       "    }\n",
       "\n",
       "    .dataframe tbody tr th {\n",
       "        vertical-align: top;\n",
       "    }\n",
       "\n",
       "    .dataframe thead th {\n",
       "        text-align: right;\n",
       "    }\n",
       "</style>\n",
       "<table border=\"1\" class=\"dataframe\">\n",
       "  <thead>\n",
       "    <tr style=\"text-align: right;\">\n",
       "      <th></th>\n",
       "      <th>Memory</th>\n",
       "      <th>HDD</th>\n",
       "      <th>SSD</th>\n",
       "      <th>Flash</th>\n",
       "    </tr>\n",
       "  </thead>\n",
       "  <tbody>\n",
       "    <tr>\n",
       "      <th>683</th>\n",
       "      <td>256GB SSD</td>\n",
       "      <td>0</td>\n",
       "      <td>256</td>\n",
       "      <td>0</td>\n",
       "    </tr>\n",
       "    <tr>\n",
       "      <th>535</th>\n",
       "      <td>256GB SSD</td>\n",
       "      <td>0</td>\n",
       "      <td>256</td>\n",
       "      <td>0</td>\n",
       "    </tr>\n",
       "    <tr>\n",
       "      <th>1035</th>\n",
       "      <td>256GB SSD</td>\n",
       "      <td>0</td>\n",
       "      <td>256</td>\n",
       "      <td>0</td>\n",
       "    </tr>\n",
       "    <tr>\n",
       "      <th>686</th>\n",
       "      <td>500GB HDD</td>\n",
       "      <td>500</td>\n",
       "      <td>0</td>\n",
       "      <td>0</td>\n",
       "    </tr>\n",
       "    <tr>\n",
       "      <th>171</th>\n",
       "      <td>1000GB HDD</td>\n",
       "      <td>1000</td>\n",
       "      <td>0</td>\n",
       "      <td>0</td>\n",
       "    </tr>\n",
       "    <tr>\n",
       "      <th>190</th>\n",
       "      <td>1000GB SSD</td>\n",
       "      <td>0</td>\n",
       "      <td>1000</td>\n",
       "      <td>0</td>\n",
       "    </tr>\n",
       "    <tr>\n",
       "      <th>476</th>\n",
       "      <td>256GB SSD</td>\n",
       "      <td>0</td>\n",
       "      <td>256</td>\n",
       "      <td>0</td>\n",
       "    </tr>\n",
       "    <tr>\n",
       "      <th>661</th>\n",
       "      <td>500GB HDD</td>\n",
       "      <td>500</td>\n",
       "      <td>0</td>\n",
       "      <td>0</td>\n",
       "    </tr>\n",
       "    <tr>\n",
       "      <th>364</th>\n",
       "      <td>256GB SSD</td>\n",
       "      <td>0</td>\n",
       "      <td>256</td>\n",
       "      <td>0</td>\n",
       "    </tr>\n",
       "    <tr>\n",
       "      <th>597</th>\n",
       "      <td>256GB SSD</td>\n",
       "      <td>0</td>\n",
       "      <td>256</td>\n",
       "      <td>0</td>\n",
       "    </tr>\n",
       "    <tr>\n",
       "      <th>924</th>\n",
       "      <td>512GB SSD</td>\n",
       "      <td>0</td>\n",
       "      <td>512</td>\n",
       "      <td>0</td>\n",
       "    </tr>\n",
       "    <tr>\n",
       "      <th>558</th>\n",
       "      <td>128GB SSD</td>\n",
       "      <td>0</td>\n",
       "      <td>128</td>\n",
       "      <td>0</td>\n",
       "    </tr>\n",
       "    <tr>\n",
       "      <th>324</th>\n",
       "      <td>256GB SSD</td>\n",
       "      <td>0</td>\n",
       "      <td>256</td>\n",
       "      <td>0</td>\n",
       "    </tr>\n",
       "    <tr>\n",
       "      <th>881</th>\n",
       "      <td>500GB HDD</td>\n",
       "      <td>500</td>\n",
       "      <td>0</td>\n",
       "      <td>0</td>\n",
       "    </tr>\n",
       "    <tr>\n",
       "      <th>120</th>\n",
       "      <td>1000GB HDD</td>\n",
       "      <td>1000</td>\n",
       "      <td>0</td>\n",
       "      <td>0</td>\n",
       "    </tr>\n",
       "    <tr>\n",
       "      <th>459</th>\n",
       "      <td>256GB SSD</td>\n",
       "      <td>0</td>\n",
       "      <td>256</td>\n",
       "      <td>0</td>\n",
       "    </tr>\n",
       "    <tr>\n",
       "      <th>995</th>\n",
       "      <td>256GB SSD</td>\n",
       "      <td>0</td>\n",
       "      <td>256</td>\n",
       "      <td>0</td>\n",
       "    </tr>\n",
       "    <tr>\n",
       "      <th>329</th>\n",
       "      <td>1000GB SSD</td>\n",
       "      <td>0</td>\n",
       "      <td>1000</td>\n",
       "      <td>0</td>\n",
       "    </tr>\n",
       "    <tr>\n",
       "      <th>1174</th>\n",
       "      <td>1000GB HDD</td>\n",
       "      <td>1000</td>\n",
       "      <td>0</td>\n",
       "      <td>0</td>\n",
       "    </tr>\n",
       "    <tr>\n",
       "      <th>1140</th>\n",
       "      <td>512GB SSD</td>\n",
       "      <td>0</td>\n",
       "      <td>512</td>\n",
       "      <td>0</td>\n",
       "    </tr>\n",
       "    <tr>\n",
       "      <th>820</th>\n",
       "      <td>500GB HDD</td>\n",
       "      <td>500</td>\n",
       "      <td>0</td>\n",
       "      <td>0</td>\n",
       "    </tr>\n",
       "    <tr>\n",
       "      <th>113</th>\n",
       "      <td>500GB HDD</td>\n",
       "      <td>500</td>\n",
       "      <td>0</td>\n",
       "      <td>0</td>\n",
       "    </tr>\n",
       "    <tr>\n",
       "      <th>1057</th>\n",
       "      <td>1000GB HDD</td>\n",
       "      <td>1000</td>\n",
       "      <td>0</td>\n",
       "      <td>0</td>\n",
       "    </tr>\n",
       "    <tr>\n",
       "      <th>412</th>\n",
       "      <td>1000GB HDD</td>\n",
       "      <td>1000</td>\n",
       "      <td>0</td>\n",
       "      <td>0</td>\n",
       "    </tr>\n",
       "    <tr>\n",
       "      <th>135</th>\n",
       "      <td>256GB SSD</td>\n",
       "      <td>0</td>\n",
       "      <td>256</td>\n",
       "      <td>0</td>\n",
       "    </tr>\n",
       "    <tr>\n",
       "      <th>234</th>\n",
       "      <td>256GB SSD</td>\n",
       "      <td>0</td>\n",
       "      <td>256</td>\n",
       "      <td>0</td>\n",
       "    </tr>\n",
       "    <tr>\n",
       "      <th>1212</th>\n",
       "      <td>256GB SSD +  1000GB HDD</td>\n",
       "      <td>1000</td>\n",
       "      <td>256</td>\n",
       "      <td>0</td>\n",
       "    </tr>\n",
       "    <tr>\n",
       "      <th>301</th>\n",
       "      <td>256GB SSD +  1000GB HDD</td>\n",
       "      <td>1000</td>\n",
       "      <td>256</td>\n",
       "      <td>0</td>\n",
       "    </tr>\n",
       "    <tr>\n",
       "      <th>543</th>\n",
       "      <td>1000GB HDD</td>\n",
       "      <td>1000</td>\n",
       "      <td>0</td>\n",
       "      <td>0</td>\n",
       "    </tr>\n",
       "    <tr>\n",
       "      <th>249</th>\n",
       "      <td>512GB SSD</td>\n",
       "      <td>0</td>\n",
       "      <td>512</td>\n",
       "      <td>0</td>\n",
       "    </tr>\n",
       "    <tr>\n",
       "      <th>611</th>\n",
       "      <td>1000GB HDD</td>\n",
       "      <td>1000</td>\n",
       "      <td>0</td>\n",
       "      <td>0</td>\n",
       "    </tr>\n",
       "    <tr>\n",
       "      <th>643</th>\n",
       "      <td>1000GB HDD</td>\n",
       "      <td>1000</td>\n",
       "      <td>0</td>\n",
       "      <td>0</td>\n",
       "    </tr>\n",
       "    <tr>\n",
       "      <th>673</th>\n",
       "      <td>128GB SSD</td>\n",
       "      <td>0</td>\n",
       "      <td>128</td>\n",
       "      <td>0</td>\n",
       "    </tr>\n",
       "    <tr>\n",
       "      <th>547</th>\n",
       "      <td>1000GB HDD</td>\n",
       "      <td>1000</td>\n",
       "      <td>0</td>\n",
       "      <td>0</td>\n",
       "    </tr>\n",
       "    <tr>\n",
       "      <th>876</th>\n",
       "      <td>1000GB HDD</td>\n",
       "      <td>1000</td>\n",
       "      <td>0</td>\n",
       "      <td>0</td>\n",
       "    </tr>\n",
       "    <tr>\n",
       "      <th>617</th>\n",
       "      <td>512GB SSD</td>\n",
       "      <td>0</td>\n",
       "      <td>512</td>\n",
       "      <td>0</td>\n",
       "    </tr>\n",
       "    <tr>\n",
       "      <th>705</th>\n",
       "      <td>256GB SSD</td>\n",
       "      <td>0</td>\n",
       "      <td>256</td>\n",
       "      <td>0</td>\n",
       "    </tr>\n",
       "    <tr>\n",
       "      <th>133</th>\n",
       "      <td>256GB SSD</td>\n",
       "      <td>0</td>\n",
       "      <td>256</td>\n",
       "      <td>0</td>\n",
       "    </tr>\n",
       "    <tr>\n",
       "      <th>843</th>\n",
       "      <td>128GB SSD</td>\n",
       "      <td>0</td>\n",
       "      <td>128</td>\n",
       "      <td>0</td>\n",
       "    </tr>\n",
       "    <tr>\n",
       "      <th>690</th>\n",
       "      <td>32GB Flash Storage</td>\n",
       "      <td>0</td>\n",
       "      <td>0</td>\n",
       "      <td>32</td>\n",
       "    </tr>\n",
       "    <tr>\n",
       "      <th>1019</th>\n",
       "      <td>256GB SSD</td>\n",
       "      <td>0</td>\n",
       "      <td>256</td>\n",
       "      <td>0</td>\n",
       "    </tr>\n",
       "    <tr>\n",
       "      <th>895</th>\n",
       "      <td>256GB SSD</td>\n",
       "      <td>0</td>\n",
       "      <td>256</td>\n",
       "      <td>0</td>\n",
       "    </tr>\n",
       "    <tr>\n",
       "      <th>84</th>\n",
       "      <td>1000GB HDD</td>\n",
       "      <td>1000</td>\n",
       "      <td>0</td>\n",
       "      <td>0</td>\n",
       "    </tr>\n",
       "    <tr>\n",
       "      <th>1048</th>\n",
       "      <td>128GB SSD +  1000GB HDD</td>\n",
       "      <td>1000</td>\n",
       "      <td>128</td>\n",
       "      <td>0</td>\n",
       "    </tr>\n",
       "    <tr>\n",
       "      <th>628</th>\n",
       "      <td>1000GB HDD</td>\n",
       "      <td>1000</td>\n",
       "      <td>0</td>\n",
       "      <td>0</td>\n",
       "    </tr>\n",
       "    <tr>\n",
       "      <th>323</th>\n",
       "      <td>1000GB HDD</td>\n",
       "      <td>1000</td>\n",
       "      <td>0</td>\n",
       "      <td>0</td>\n",
       "    </tr>\n",
       "    <tr>\n",
       "      <th>12</th>\n",
       "      <td>256GB SSD</td>\n",
       "      <td>0</td>\n",
       "      <td>256</td>\n",
       "      <td>0</td>\n",
       "    </tr>\n",
       "    <tr>\n",
       "      <th>887</th>\n",
       "      <td>128GB SSD +  1000GB HDD</td>\n",
       "      <td>1000</td>\n",
       "      <td>128</td>\n",
       "      <td>0</td>\n",
       "    </tr>\n",
       "    <tr>\n",
       "      <th>144</th>\n",
       "      <td>256GB SSD</td>\n",
       "      <td>0</td>\n",
       "      <td>256</td>\n",
       "      <td>0</td>\n",
       "    </tr>\n",
       "    <tr>\n",
       "      <th>266</th>\n",
       "      <td>512GB SSD +  512GB SSD</td>\n",
       "      <td>0</td>\n",
       "      <td>1024</td>\n",
       "      <td>0</td>\n",
       "    </tr>\n",
       "  </tbody>\n",
       "</table>\n",
       "</div>"
      ],
      "text/plain": [
       "                       Memory   HDD   SSD  Flash\n",
       "683                 256GB SSD     0   256      0\n",
       "535                 256GB SSD     0   256      0\n",
       "1035                256GB SSD     0   256      0\n",
       "686                 500GB HDD   500     0      0\n",
       "171                1000GB HDD  1000     0      0\n",
       "190                1000GB SSD     0  1000      0\n",
       "476                 256GB SSD     0   256      0\n",
       "661                 500GB HDD   500     0      0\n",
       "364                 256GB SSD     0   256      0\n",
       "597                 256GB SSD     0   256      0\n",
       "924                 512GB SSD     0   512      0\n",
       "558                 128GB SSD     0   128      0\n",
       "324                 256GB SSD     0   256      0\n",
       "881                 500GB HDD   500     0      0\n",
       "120                1000GB HDD  1000     0      0\n",
       "459                 256GB SSD     0   256      0\n",
       "995                 256GB SSD     0   256      0\n",
       "329                1000GB SSD     0  1000      0\n",
       "1174               1000GB HDD  1000     0      0\n",
       "1140                512GB SSD     0   512      0\n",
       "820                 500GB HDD   500     0      0\n",
       "113                 500GB HDD   500     0      0\n",
       "1057               1000GB HDD  1000     0      0\n",
       "412                1000GB HDD  1000     0      0\n",
       "135                 256GB SSD     0   256      0\n",
       "234                 256GB SSD     0   256      0\n",
       "1212  256GB SSD +  1000GB HDD  1000   256      0\n",
       "301   256GB SSD +  1000GB HDD  1000   256      0\n",
       "543                1000GB HDD  1000     0      0\n",
       "249                 512GB SSD     0   512      0\n",
       "611                1000GB HDD  1000     0      0\n",
       "643                1000GB HDD  1000     0      0\n",
       "673                 128GB SSD     0   128      0\n",
       "547                1000GB HDD  1000     0      0\n",
       "876                1000GB HDD  1000     0      0\n",
       "617                 512GB SSD     0   512      0\n",
       "705                 256GB SSD     0   256      0\n",
       "133                 256GB SSD     0   256      0\n",
       "843                 128GB SSD     0   128      0\n",
       "690        32GB Flash Storage     0     0     32\n",
       "1019                256GB SSD     0   256      0\n",
       "895                 256GB SSD     0   256      0\n",
       "84                 1000GB HDD  1000     0      0\n",
       "1048  128GB SSD +  1000GB HDD  1000   128      0\n",
       "628                1000GB HDD  1000     0      0\n",
       "323                1000GB HDD  1000     0      0\n",
       "12                  256GB SSD     0   256      0\n",
       "887   128GB SSD +  1000GB HDD  1000   128      0\n",
       "144                 256GB SSD     0   256      0\n",
       "266    512GB SSD +  512GB SSD     0  1024      0"
      ]
     },
     "execution_count": 94,
     "metadata": {},
     "output_type": "execute_result"
    }
   ],
   "source": [
    "df[['Memory','HDD','SSD','Flash']].sample(50)"
   ]
  },
  {
   "cell_type": "code",
   "execution_count": 95,
   "id": "d5c00cab",
   "metadata": {},
   "outputs": [
    {
     "data": {
      "text/plain": [
       "Index(['Company', 'TypeName', 'Inches', 'Ram', 'Memory', 'Gpu', 'OpSys',\n",
       "       'Weight', 'Price', 'High_segment', 'Inches_bins',\n",
       "       'Horizontal_resolution', 'Vertical_resolution', 'High_res',\n",
       "       'Has_touchscreen', 'Is_IPS', 'Cpu_model', 'Cpu_clock_freq',\n",
       "       'mem_split1', 'mem_split2', 'HDD', 'SSD', 'Flash'],\n",
       "      dtype='object')"
      ]
     },
     "execution_count": 95,
     "metadata": {},
     "output_type": "execute_result"
    }
   ],
   "source": [
    "df.columns"
   ]
  },
  {
   "cell_type": "code",
   "execution_count": 96,
   "id": "011b740c",
   "metadata": {},
   "outputs": [
    {
     "data": {
      "text/plain": [
       "Intel     722\n",
       "Nvidia    400\n",
       "AMD       180\n",
       "Name: Gpu, dtype: int64"
      ]
     },
     "execution_count": 96,
     "metadata": {},
     "output_type": "execute_result"
    }
   ],
   "source": [
    "df['Gpu'].apply(lambda x : (x.split())[0]).value_counts()"
   ]
  },
  {
   "cell_type": "code",
   "execution_count": 97,
   "id": "b2a03773",
   "metadata": {},
   "outputs": [
    {
     "data": {
      "text/plain": [
       "0       Intel Iris Plus Graphics 640\n",
       "1             Intel HD Graphics 6000\n",
       "2              Intel HD Graphics 620\n",
       "3                 AMD Radeon Pro 455\n",
       "4       Intel Iris Plus Graphics 650\n",
       "                    ...             \n",
       "1298           Intel HD Graphics 520\n",
       "1299           Intel HD Graphics 520\n",
       "1300               Intel HD Graphics\n",
       "1301              AMD Radeon R5 M330\n",
       "1302               Intel HD Graphics\n",
       "Name: Gpu, Length: 1302, dtype: object"
      ]
     },
     "execution_count": 97,
     "metadata": {},
     "output_type": "execute_result"
    }
   ],
   "source": [
    "df['Gpu']"
   ]
  },
  {
   "cell_type": "code",
   "execution_count": 98,
   "id": "9f63a4f7",
   "metadata": {},
   "outputs": [
    {
     "data": {
      "text/plain": [
       "Index(['Company', 'TypeName', 'Inches', 'Ram', 'Memory', 'Gpu', 'OpSys',\n",
       "       'Weight', 'Price', 'High_segment', 'Inches_bins',\n",
       "       'Horizontal_resolution', 'Vertical_resolution', 'High_res',\n",
       "       'Has_touchscreen', 'Is_IPS', 'Cpu_model', 'Cpu_clock_freq',\n",
       "       'mem_split1', 'mem_split2', 'HDD', 'SSD', 'Flash'],\n",
       "      dtype='object')"
      ]
     },
     "execution_count": 98,
     "metadata": {},
     "output_type": "execute_result"
    }
   ],
   "source": [
    "# Drop unecessary columns\n",
    "\n",
    "df.columns"
   ]
  },
  {
   "cell_type": "code",
   "execution_count": 99,
   "id": "ba2c1e63",
   "metadata": {},
   "outputs": [],
   "source": [
    "columns_to_drop = ['Memory','mem_split1', 'mem_split2']\n",
    "df.drop(columns=columns_to_drop,inplace=True)"
   ]
  },
  {
   "cell_type": "code",
   "execution_count": 100,
   "id": "72825ec2",
   "metadata": {},
   "outputs": [
    {
     "data": {
      "text/html": [
       "<div>\n",
       "<style scoped>\n",
       "    .dataframe tbody tr th:only-of-type {\n",
       "        vertical-align: middle;\n",
       "    }\n",
       "\n",
       "    .dataframe tbody tr th {\n",
       "        vertical-align: top;\n",
       "    }\n",
       "\n",
       "    .dataframe thead th {\n",
       "        text-align: right;\n",
       "    }\n",
       "</style>\n",
       "<table border=\"1\" class=\"dataframe\">\n",
       "  <thead>\n",
       "    <tr style=\"text-align: right;\">\n",
       "      <th></th>\n",
       "      <th>Company</th>\n",
       "      <th>TypeName</th>\n",
       "      <th>Inches</th>\n",
       "      <th>Ram</th>\n",
       "      <th>Gpu</th>\n",
       "      <th>OpSys</th>\n",
       "      <th>Weight</th>\n",
       "      <th>Price</th>\n",
       "      <th>High_segment</th>\n",
       "      <th>Inches_bins</th>\n",
       "      <th>Horizontal_resolution</th>\n",
       "      <th>Vertical_resolution</th>\n",
       "      <th>High_res</th>\n",
       "      <th>Has_touchscreen</th>\n",
       "      <th>Is_IPS</th>\n",
       "      <th>Cpu_model</th>\n",
       "      <th>Cpu_clock_freq</th>\n",
       "      <th>HDD</th>\n",
       "      <th>SSD</th>\n",
       "      <th>Flash</th>\n",
       "    </tr>\n",
       "  </thead>\n",
       "  <tbody>\n",
       "    <tr>\n",
       "      <th>0</th>\n",
       "      <td>Apple</td>\n",
       "      <td>Ultrabook</td>\n",
       "      <td>13.3</td>\n",
       "      <td>8</td>\n",
       "      <td>Intel Iris Plus Graphics 640</td>\n",
       "      <td>macOS</td>\n",
       "      <td>1.37kg</td>\n",
       "      <td>71378.6832</td>\n",
       "      <td>Yes</td>\n",
       "      <td>13</td>\n",
       "      <td>2560</td>\n",
       "      <td>1600</td>\n",
       "      <td>True</td>\n",
       "      <td>False</td>\n",
       "      <td>True</td>\n",
       "      <td>Intel i5</td>\n",
       "      <td>2.3</td>\n",
       "      <td>0</td>\n",
       "      <td>128</td>\n",
       "      <td>0</td>\n",
       "    </tr>\n",
       "    <tr>\n",
       "      <th>1</th>\n",
       "      <td>Apple</td>\n",
       "      <td>Ultrabook</td>\n",
       "      <td>13.3</td>\n",
       "      <td>8</td>\n",
       "      <td>Intel HD Graphics 6000</td>\n",
       "      <td>macOS</td>\n",
       "      <td>1.34kg</td>\n",
       "      <td>47895.5232</td>\n",
       "      <td>Yes</td>\n",
       "      <td>13</td>\n",
       "      <td>1440</td>\n",
       "      <td>900</td>\n",
       "      <td>False</td>\n",
       "      <td>False</td>\n",
       "      <td>False</td>\n",
       "      <td>Intel i5</td>\n",
       "      <td>1.8</td>\n",
       "      <td>0</td>\n",
       "      <td>0</td>\n",
       "      <td>128</td>\n",
       "    </tr>\n",
       "    <tr>\n",
       "      <th>2</th>\n",
       "      <td>HP</td>\n",
       "      <td>Notebook</td>\n",
       "      <td>15.6</td>\n",
       "      <td>8</td>\n",
       "      <td>Intel HD Graphics 620</td>\n",
       "      <td>No OS</td>\n",
       "      <td>1.86kg</td>\n",
       "      <td>30636.0000</td>\n",
       "      <td>No</td>\n",
       "      <td>15</td>\n",
       "      <td>1920</td>\n",
       "      <td>1080</td>\n",
       "      <td>False</td>\n",
       "      <td>False</td>\n",
       "      <td>False</td>\n",
       "      <td>Intel i5</td>\n",
       "      <td>2.5</td>\n",
       "      <td>0</td>\n",
       "      <td>256</td>\n",
       "      <td>0</td>\n",
       "    </tr>\n",
       "    <tr>\n",
       "      <th>3</th>\n",
       "      <td>Apple</td>\n",
       "      <td>Ultrabook</td>\n",
       "      <td>15.4</td>\n",
       "      <td>16</td>\n",
       "      <td>AMD Radeon Pro 455</td>\n",
       "      <td>macOS</td>\n",
       "      <td>1.83kg</td>\n",
       "      <td>135195.3360</td>\n",
       "      <td>Yes</td>\n",
       "      <td>15</td>\n",
       "      <td>2880</td>\n",
       "      <td>1800</td>\n",
       "      <td>True</td>\n",
       "      <td>False</td>\n",
       "      <td>True</td>\n",
       "      <td>Intel i7</td>\n",
       "      <td>2.7</td>\n",
       "      <td>0</td>\n",
       "      <td>512</td>\n",
       "      <td>0</td>\n",
       "    </tr>\n",
       "    <tr>\n",
       "      <th>4</th>\n",
       "      <td>Apple</td>\n",
       "      <td>Ultrabook</td>\n",
       "      <td>13.3</td>\n",
       "      <td>8</td>\n",
       "      <td>Intel Iris Plus Graphics 650</td>\n",
       "      <td>macOS</td>\n",
       "      <td>1.37kg</td>\n",
       "      <td>96095.8080</td>\n",
       "      <td>Yes</td>\n",
       "      <td>13</td>\n",
       "      <td>2560</td>\n",
       "      <td>1600</td>\n",
       "      <td>True</td>\n",
       "      <td>False</td>\n",
       "      <td>True</td>\n",
       "      <td>Intel i5</td>\n",
       "      <td>3.1</td>\n",
       "      <td>0</td>\n",
       "      <td>256</td>\n",
       "      <td>0</td>\n",
       "    </tr>\n",
       "  </tbody>\n",
       "</table>\n",
       "</div>"
      ],
      "text/plain": [
       "  Company   TypeName  Inches  Ram                           Gpu  OpSys  \\\n",
       "0   Apple  Ultrabook    13.3    8  Intel Iris Plus Graphics 640  macOS   \n",
       "1   Apple  Ultrabook    13.3    8        Intel HD Graphics 6000  macOS   \n",
       "2      HP   Notebook    15.6    8         Intel HD Graphics 620  No OS   \n",
       "3   Apple  Ultrabook    15.4   16            AMD Radeon Pro 455  macOS   \n",
       "4   Apple  Ultrabook    13.3    8  Intel Iris Plus Graphics 650  macOS   \n",
       "\n",
       "   Weight        Price High_segment  Inches_bins  Horizontal_resolution  \\\n",
       "0  1.37kg   71378.6832          Yes           13                   2560   \n",
       "1  1.34kg   47895.5232          Yes           13                   1440   \n",
       "2  1.86kg   30636.0000           No           15                   1920   \n",
       "3  1.83kg  135195.3360          Yes           15                   2880   \n",
       "4  1.37kg   96095.8080          Yes           13                   2560   \n",
       "\n",
       "   Vertical_resolution  High_res  Has_touchscreen  Is_IPS Cpu_model  \\\n",
       "0                 1600      True            False    True  Intel i5   \n",
       "1                  900     False            False   False  Intel i5   \n",
       "2                 1080     False            False   False  Intel i5   \n",
       "3                 1800      True            False    True  Intel i7   \n",
       "4                 1600      True            False    True  Intel i5   \n",
       "\n",
       "  Cpu_clock_freq  HDD  SSD  Flash  \n",
       "0            2.3    0  128      0  \n",
       "1            1.8    0    0    128  \n",
       "2            2.5    0  256      0  \n",
       "3            2.7    0  512      0  \n",
       "4            3.1    0  256      0  "
      ]
     },
     "execution_count": 100,
     "metadata": {},
     "output_type": "execute_result"
    }
   ],
   "source": [
    "df.head()"
   ]
  },
  {
   "cell_type": "code",
   "execution_count": null,
   "id": "9c20ac53",
   "metadata": {},
   "outputs": [],
   "source": []
  }
 ],
 "metadata": {
  "colab": {
   "provenance": []
  },
  "kernelspec": {
   "display_name": "Python 3 (ipykernel)",
   "language": "python",
   "name": "python3"
  },
  "language_info": {
   "codemirror_mode": {
    "name": "ipython",
    "version": 3
   },
   "file_extension": ".py",
   "mimetype": "text/x-python",
   "name": "python",
   "nbconvert_exporter": "python",
   "pygments_lexer": "ipython3",
   "version": "3.10.9"
  }
 },
 "nbformat": 4,
 "nbformat_minor": 5
}
